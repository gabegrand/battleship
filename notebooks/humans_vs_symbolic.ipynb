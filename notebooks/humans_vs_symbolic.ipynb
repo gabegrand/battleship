{
 "cells": [
  {
   "cell_type": "code",
   "execution_count": 35,
   "id": "6d570fd4",
   "metadata": {},
   "outputs": [],
   "source": [
    "import os\n",
    "\n",
    "import json\n",
    "import numpy as np\n",
    "import pandas as pd\n",
    "import matplotlib.pyplot as plt\n",
    "import seaborn as sns\n",
    "\n",
    "from battleship.board import Board"
   ]
  },
  {
   "cell_type": "code",
   "execution_count": 36,
   "id": "8d7ccf06",
   "metadata": {},
   "outputs": [],
   "source": [
    "%config InlineBackend.figure_format = 'retina'\n",
    "\n",
    "# set seaborn color palette\n",
    "sns.set_palette(\"Set2\")\n",
    "\n",
    "# set seaborn style\n",
    "sns.set_style(\"white\")\n",
    "sns.set_context(\"talk\")"
   ]
  },
  {
   "cell_type": "code",
   "execution_count": 60,
   "id": "4bec221d",
   "metadata": {},
   "outputs": [],
   "source": [
    "df = pd.read_csv(\"./captain_results.csv\")\n",
    "\n",
    "df[\"captain_name\"] = df[\"captainType\"].map({\n",
    "    \"human\": \"Humans (With questions)\",\n",
    "    \"MAPCaptain\": \"Statistical Model (No questions)\",\n",
    "})"
   ]
  },
  {
   "cell_type": "code",
   "execution_count": null,
   "id": "dd2b6471",
   "metadata": {},
   "outputs": [],
   "source": [
    "df"
   ]
  },
  {
   "cell_type": "code",
   "execution_count": null,
   "id": "7b74d4b4",
   "metadata": {},
   "outputs": [],
   "source": [
    "# Calculate mean f1_score for human captains for each board\n",
    "human_f1_means = df[df['captainType'] == 'human'].groupby('boardId')['f1_score'].mean().sort_values()\n",
    "\n",
    "# Get the ordered list of boardIds\n",
    "ordered_boards = human_f1_means.index.tolist()\n",
    "\n",
    "plt.figure(figsize=(10, 6))\n",
    "ax = sns.boxenplot(\n",
    "    data=df,\n",
    "    hue=\"captain_name\",\n",
    "    x=\"boardId\",\n",
    "    y=\"f1_score\",\n",
    "    order=ordered_boards  # Use the ordered list of boards\n",
    ")\n",
    "\n",
    "plt.xlabel('Board ID\\n(ordered by human performance)')\n",
    "plt.ylabel('F1 Score')\n",
    "ax.legend(title='')  # Remove legend title\n",
    "\n",
    "plt.savefig(\n",
    "    os.path.join(\n",
    "        \"../experiments/collaborative/data/battleship-final-data/export\",\n",
    "        \"f1_score_by_board_2.pdf\"\n",
    "    ),\n",
    "    bbox_inches=\"tight\",\n",
    "    dpi=300,\n",
    ")"
   ]
  },
  {
   "cell_type": "code",
   "execution_count": null,
   "id": "a25def3b",
   "metadata": {},
   "outputs": [],
   "source": [
    "sns.pointplot(data=df, x=\"captainType\", hue=\"boardId\", y=\"f1_score\")"
   ]
  },
  {
   "cell_type": "code",
   "execution_count": null,
   "id": "007e22e3",
   "metadata": {},
   "outputs": [],
   "source": []
  }
 ],
 "metadata": {
  "language_info": {
   "name": "python"
  }
 },
 "nbformat": 4,
 "nbformat_minor": 2
}
