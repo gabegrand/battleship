{
 "cells": [
  {
   "cell_type": "code",
   "execution_count": null,
   "id": "a9d6679b",
   "metadata": {},
   "outputs": [],
   "source": [
    "%load_ext autoreload\n",
    "%autoreload 2"
   ]
  },
  {
   "cell_type": "code",
   "execution_count": null,
   "id": "c370651c",
   "metadata": {},
   "outputs": [],
   "source": [
    "import numpy as np\n",
    "\n",
    "from battleship.board import Board\n",
    "from battleship.agents import CodeQuestion, Question\n",
    "from battleship.game import BattleshipGame\n",
    "from battleship.captains import create_captain\n",
    "from battleship.spotters import create_spotter\n",
    "from battleship.fast_sampler import FastSampler"
   ]
  },
  {
   "cell_type": "code",
   "execution_count": null,
   "id": "7549a8d5",
   "metadata": {},
   "outputs": [],
   "source": [
    "import logging\n",
    "\n",
    "# logging.basicConfig(level=logging.DEBUG)\n"
   ]
  },
  {
   "cell_type": "code",
   "execution_count": null,
   "id": "aa4d7632",
   "metadata": {},
   "outputs": [],
   "source": [
    "# BOARD_ID = \"B03\"\n",
    "# true_board = Board.from_trial_id(BOARD_ID)\n",
    "\n",
    "\n",
    "SEED = 123\n",
    "\n",
    "true_board = Board(np.zeros((8, 8), dtype=int))\n",
    "true_board.board[7, 3:5] = 1\n",
    "true_board.board[0:4, 2] = 2\n",
    "true_board.board[6, 0:3] = 3\n",
    "true_board.board[2:7, 6] = 4\n",
    "\n",
    "true_board"
   ]
  },
  {
   "cell_type": "code",
   "execution_count": null,
   "id": "83c1723f",
   "metadata": {},
   "outputs": [],
   "source": [
    "partial_board = Board(np.full((8, 8), -1, dtype=int), transparent=True)\n",
    "# partial_board.board[7, 3:5] = 1\n",
    "# partial_board.board[0:4, 2] = 2\n",
    "partial_board.board[6, 1:2] = 3\n",
    "partial_board.board[2:7, 6] = 4\n",
    "partial_board.board[3, 0] = 0\n",
    "partial_board.board[6, 3] = 0\n",
    "partial_board.board[1, 3] = 0\n",
    "partial_board.board[6, 5] = 0\n",
    "partial_board.board[7, 6] = 0\n",
    "\n",
    "partial_board"
   ]
  },
  {
   "cell_type": "code",
   "execution_count": null,
   "id": "6903d9c5",
   "metadata": {},
   "outputs": [],
   "source": [
    "def heatmap(board: Board, n_samples: int = 10000, constraints: list = [], ship_tracker=None):\n",
    "    sampler = FastSampler(\n",
    "        board, ship_tracker=ship_tracker, seed=SEED\n",
    "    )\n",
    "    # Compute posterior (return raw counts)\n",
    "    posterior = sampler.compute_posterior(n_samples=n_samples, normalize=False, constraints=constraints)\n",
    "    return Board._to_figure(posterior, mode=\"heatmap\", transparent=True)\n",
    "\n",
    "\n",
    "def sample_boards(board: Board, n_samples: int = 3, constraints: list = [], ship_tracker=None):\n",
    "    sampler = FastSampler(\n",
    "        board, ship_tracker=ship_tracker, seed=SEED\n",
    "    )\n",
    "    samples = sampler.get_weighted_samples(n_samples=n_samples, constraints=constraints)\n",
    "    return samples"
   ]
  },
  {
   "cell_type": "code",
   "execution_count": null,
   "id": "838eca40",
   "metadata": {},
   "outputs": [],
   "source": [
    "fig = heatmap(partial_board, ship_tracker=true_board.ship_tracker(partial_board))\n",
    "fig.savefig(\"heatmap.png\", dpi=300, bbox_inches=\"tight\")"
   ]
  },
  {
   "cell_type": "code",
   "execution_count": null,
   "id": "3bfd7d48",
   "metadata": {},
   "outputs": [],
   "source": [
    "samples = sample_boards(partial_board, ship_tracker=true_board.ship_tracker(partial_board), n_samples=5)\n",
    "for i, (board, weight) in enumerate(samples):\n",
    "    print(f\"Weight: {weight}\")\n",
    "    display(board)\n",
    "    fig = board.to_figure(transparent=True)\n",
    "    fig.savefig(f\"sample_{i}.png\", dpi=300, bbox_inches=\"tight\")"
   ]
  },
  {
   "cell_type": "code",
   "execution_count": null,
   "id": "868054ab",
   "metadata": {},
   "outputs": [],
   "source": [
    "BOARD_ID = \"B03\"\n",
    "\n",
    "spotter = create_spotter(\n",
    "    spotter_type=\"CodeSpotterModel\",\n",
    "    board_id=BOARD_ID,\n",
    "    board_experiment=\"collaborative\",\n",
    "    llm=\"gpt-5\",\n",
    "    use_cot=True,\n",
    "    json_path=None,\n",
    ")\n",
    "\n",
    "captain = create_captain(\n",
    "    captain_type=\"MAPCaptain\",\n",
    "    seed=SEED,\n",
    "    llm=\"gpt-5\",\n",
    "    board_id=BOARD_ID,\n",
    "    map_samples=1000,\n",
    "    prob_q_prob=None,\n",
    "    eig_samples=1000,\n",
    "    eig_k=10,\n",
    "    json_path=None,\n",
    ")\n",
    "\n",
    "game = BattleshipGame(\n",
    "    board_target=true_board,\n",
    "    captain=captain,\n",
    "    spotter=spotter,\n",
    ")"
   ]
  },
  {
   "cell_type": "code",
   "execution_count": null,
   "id": "bf0a3229",
   "metadata": {},
   "outputs": [],
   "source": [
    "game"
   ]
  },
  {
   "cell_type": "code",
   "execution_count": null,
   "id": "236741eb",
   "metadata": {},
   "outputs": [],
   "source": [
    "heatmap(game.state)"
   ]
  },
  {
   "cell_type": "code",
   "execution_count": null,
   "id": "a70652c5",
   "metadata": {},
   "outputs": [],
   "source": [
    "while not game.is_done():\n",
    "    game.next_stage()\n",
    "    print(f\"Stage {game.stage_index}\")\n",
    "    display(game)\n",
    "    display(heatmap(game.state))\n",
    "    break"
   ]
  },
  {
   "cell_type": "code",
   "execution_count": null,
   "id": "e70fda1e",
   "metadata": {},
   "outputs": [],
   "source": [
    "code_question = spotter.translate(\n",
    "    question=Question(\"Is the red ship vertical?\"),\n",
    "    board=game.state,\n",
    "    history=game.history,\n",
    ")"
   ]
  },
  {
   "cell_type": "code",
   "execution_count": null,
   "id": "a8902315",
   "metadata": {},
   "outputs": [],
   "source": [
    "print(code_question.fn_str)"
   ]
  },
  {
   "cell_type": "code",
   "execution_count": null,
   "id": "605b5845",
   "metadata": {},
   "outputs": [],
   "source": [
    "answer = code_question(true_board=true_board.board, partial_board=game.state.board)\n",
    "print(answer)"
   ]
  },
  {
   "cell_type": "code",
   "execution_count": null,
   "id": "13c229e1",
   "metadata": {},
   "outputs": [],
   "source": [
    "heatmap(game.state, constraints=[(code_question, False)])"
   ]
  },
  {
   "cell_type": "code",
   "execution_count": null,
   "id": "ee9f6c29",
   "metadata": {},
   "outputs": [],
   "source": []
  }
 ],
 "metadata": {
  "kernelspec": {
   "display_name": "battleship-py3.11",
   "language": "python",
   "name": "python3"
  },
  "language_info": {
   "codemirror_mode": {
    "name": "ipython",
    "version": 3
   },
   "file_extension": ".py",
   "mimetype": "text/x-python",
   "name": "python",
   "nbconvert_exporter": "python",
   "pygments_lexer": "ipython3",
   "version": "3.11.5"
  }
 },
 "nbformat": 4,
 "nbformat_minor": 5
}
