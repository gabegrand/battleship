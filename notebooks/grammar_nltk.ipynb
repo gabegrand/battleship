{
 "cells": [
  {
   "cell_type": "code",
   "execution_count": 11,
   "metadata": {},
   "outputs": [
    {
     "name": "stdout",
     "output_type": "stream",
     "text": [
      "The autoreload extension is already loaded. To reload it, use:\n",
      "  %reload_ext autoreload\n"
     ]
    }
   ],
   "source": [
    "%load_ext autoreload\n",
    "%autoreload 2"
   ]
  },
  {
   "cell_type": "code",
   "execution_count": 12,
   "metadata": {},
   "outputs": [],
   "source": [
    "from nltk.parse.generate import generate\n",
    "from nltk import CFG\n",
    "from nltk.grammar import Nonterminal\n",
    "\n",
    "from eig.battleship import Parser\n",
    "\n",
    "from battleship.grammar import BattleshipCFG"
   ]
  },
  {
   "cell_type": "markdown",
   "metadata": {},
   "source": [
    "# Battleship grammar"
   ]
  },
  {
   "cell_type": "code",
   "execution_count": 13,
   "metadata": {},
   "outputs": [
    {
     "name": "stdout",
     "output_type": "stream",
     "text": [
      "Grammar with 93 productions (start state = A)\n",
      "    A -> B\n",
      "    A -> N\n",
      "    A -> C\n",
      "    A -> O\n",
      "    A -> L\n",
      "    B -> 'TRUE'\n",
      "    B -> 'FALSE'\n",
      "    B -> '(' 'not' B ')'\n",
      "    B -> '(' 'and' B B ')'\n",
      "    B -> '(' 'or' B B ')'\n",
      "    B -> '(' '==' B B ')'\n",
      "    B -> '(' '==' N N ')'\n",
      "    B -> '(' '==' O O ')'\n",
      "    B -> '(' '==' C C ')'\n",
      "    B -> '(' 'any' setB ')'\n",
      "    B -> '(' 'all' setB ')'\n",
      "    B -> '(' '>' N N ')'\n",
      "    B -> '(' '<' N N ')'\n",
      "    B -> '(' 'touch' S S ')'\n",
      "    B -> '(' 'isSubset' setL setL ')'\n",
      "    N -> '0'\n",
      "    N -> '1'\n",
      "    N -> '2'\n",
      "    N -> '3'\n",
      "    N -> '4'\n",
      "    N -> '5'\n",
      "    N -> '6'\n",
      "    N -> '7'\n",
      "    N -> '8'\n",
      "    N -> '9'\n",
      "    N -> '(' '+' N N ')'\n",
      "    N -> '(' '+' B B ')'\n",
      "    N -> '(' '++' setN ')'\n",
      "    N -> '(' '++' setB ')'\n",
      "    N -> '(' '-' N N ')'\n",
      "    N -> '(' 'size' S ')'\n",
      "    N -> '(' 'rowL' L ')'\n",
      "    N -> '(' 'colL' L ')'\n",
      "    N -> '(' 'setSize' setL ')'\n",
      "    C -> S\n",
      "    C -> 'Water'\n",
      "    S -> 'Blue'\n",
      "    S -> 'Red'\n",
      "    S -> 'Purple'\n",
      "    C -> '(' 'color' L ')'\n",
      "    O -> 'H'\n",
      "    O -> 'V'\n",
      "    O -> '(' 'orient' S ')'\n",
      "    L -> '1A'\n",
      "    L -> '1B'\n",
      "    L -> '1C'\n",
      "    L -> '1D'\n",
      "    L -> '1E'\n",
      "    L -> '1F'\n",
      "    L -> '2A'\n",
      "    L -> '2B'\n",
      "    L -> '2C'\n",
      "    L -> '2D'\n",
      "    L -> '2E'\n",
      "    L -> '2F'\n",
      "    L -> '3A'\n",
      "    L -> '3B'\n",
      "    L -> '3C'\n",
      "    L -> '3D'\n",
      "    L -> '3E'\n",
      "    L -> '3F'\n",
      "    L -> '4A'\n",
      "    L -> '4B'\n",
      "    L -> '4C'\n",
      "    L -> '4D'\n",
      "    L -> '4E'\n",
      "    L -> '4F'\n",
      "    L -> '5A'\n",
      "    L -> '5B'\n",
      "    L -> '5C'\n",
      "    L -> '5D'\n",
      "    L -> '5E'\n",
      "    L -> '5F'\n",
      "    L -> '6A'\n",
      "    L -> '6B'\n",
      "    L -> '6C'\n",
      "    L -> '6D'\n",
      "    L -> '6E'\n",
      "    L -> '6F'\n",
      "    L -> '(' 'topleft' setL ')'\n",
      "    L -> '(' 'bottomright' setL ')'\n",
      "    setS -> '(' 'set' 'AllColors' ')'\n",
      "    setL -> '(' 'set' 'AllTiles' ')'\n",
      "    setL -> '(' 'coloredTiles' C ')'\n",
      "    setL -> '(' 'setDifference' setL setL ')'\n",
      "    setL -> '(' 'union' setL setL ')'\n",
      "    setL -> '(' 'intersection' setL setL ')'\n",
      "    setL -> '(' 'unique' setL ')'\n"
     ]
    }
   ],
   "source": [
    "print(BattleshipCFG)"
   ]
  },
  {
   "cell_type": "code",
   "execution_count": 5,
   "metadata": {},
   "outputs": [
    {
     "data": {
      "text/plain": [
       "nltk.grammar.Nonterminal"
      ]
     },
     "execution_count": 5,
     "metadata": {},
     "output_type": "execute_result"
    }
   ],
   "source": [
    "type(BattleshipCFG.start())"
   ]
  },
  {
   "cell_type": "code",
   "execution_count": 17,
   "metadata": {},
   "outputs": [
    {
     "name": "stdout",
     "output_type": "stream",
     "text": [
      "Valid programs: 72273\n",
      "Invalid programs: 0\n"
     ]
    }
   ],
   "source": [
    "# Check that all generated programs are valid\n",
    "valid, invalid = [], []\n",
    "\n",
    "for tokens in generate(BattleshipCFG, n=1000000, depth=5, start=Nonterminal('A')):\n",
    "    program = ' '.join(tokens)\n",
    "    try:\n",
    "        Parser.parse(program, enforce_type=False)\n",
    "        valid.append(program)\n",
    "    except:\n",
    "        invalid.append(program)\n",
    "        print(program, flush=True)\n",
    "\n",
    "print('Valid programs:', len(valid))\n",
    "print('Invalid programs:', len(invalid))"
   ]
  },
  {
   "cell_type": "code",
   "execution_count": 19,
   "metadata": {},
   "outputs": [],
   "source": [
    "# Pass `enforce_type=False` to `Parser.parse` to allow all toplevel types\n",
    "program = Parser.parse(\"(coloredTiles (color 1A))\", enforce_type=False)"
   ]
  },
  {
   "cell_type": "code",
   "execution_count": null,
   "metadata": {},
   "outputs": [],
   "source": []
  }
 ],
 "metadata": {
  "kernelspec": {
   "display_name": ".venv",
   "language": "python",
   "name": "python3"
  },
  "language_info": {
   "codemirror_mode": {
    "name": "ipython",
    "version": 3
   },
   "file_extension": ".py",
   "mimetype": "text/x-python",
   "name": "python",
   "nbconvert_exporter": "python",
   "pygments_lexer": "ipython3",
   "version": "3.11.6"
  }
 },
 "nbformat": 4,
 "nbformat_minor": 2
}
