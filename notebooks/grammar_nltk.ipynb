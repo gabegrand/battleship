{
 "cells": [
  {
   "cell_type": "code",
   "execution_count": 21,
   "metadata": {},
   "outputs": [
    {
     "name": "stdout",
     "output_type": "stream",
     "text": [
      "The autoreload extension is already loaded. To reload it, use:\n",
      "  %reload_ext autoreload\n"
     ]
    }
   ],
   "source": [
    "%load_ext autoreload\n",
    "%autoreload 2"
   ]
  },
  {
   "cell_type": "code",
   "execution_count": 22,
   "metadata": {},
   "outputs": [],
   "source": [
    "import os\n",
    "import pandas as pd\n",
    "from nltk.parse.generate import generate\n",
    "from nltk import CFG\n",
    "from nltk.grammar import Nonterminal\n",
    "from tqdm import tqdm\n",
    "\n",
    "from eig.battleship import Parser\n",
    "\n",
    "from battleship.grammar import BattleshipGrammar\n",
    "from battleship.scoring import compute_score_parallel\n",
    "from battleship.board import Board"
   ]
  },
  {
   "cell_type": "markdown",
   "metadata": {},
   "source": [
    "# Battleship grammar"
   ]
  },
  {
   "cell_type": "code",
   "execution_count": 44,
   "metadata": {},
   "outputs": [],
   "source": [
    "grammar = BattleshipGrammar(include_lambdas=False)"
   ]
  },
  {
   "cell_type": "markdown",
   "metadata": {},
   "source": [
    "## Enumeration"
   ]
  },
  {
   "cell_type": "code",
   "execution_count": 6,
   "metadata": {},
   "outputs": [
    {
     "name": "stderr",
     "output_type": "stream",
     "text": [
      "100%|██████████| 2/2 [00:00<00:00, 53773.13it/s]"
     ]
    },
    {
     "name": "stdout",
     "output_type": "stream",
     "text": [
      "Valid programs: 860939\n",
      "Invalid programs: 27671\n"
     ]
    },
    {
     "name": "stderr",
     "output_type": "stream",
     "text": [
      "\n"
     ]
    }
   ],
   "source": [
    "valid, invalid = grammar.generate(n=int(1e6), depth=5, start=Nonterminal('A'))\n",
    "print('Valid programs:', len(valid))\n",
    "print('Invalid programs:', len(invalid))"
   ]
  },
  {
   "cell_type": "code",
   "execution_count": 5,
   "metadata": {},
   "outputs": [],
   "source": [
    "# Pass `enforce_type=False` to `Parser.parse` to allow all toplevel types\n",
    "program = Parser.parse(\"( and TRUE ( touch Red Blue ) )\", enforce_type=False)"
   ]
  },
  {
   "cell_type": "code",
   "execution_count": 6,
   "metadata": {},
   "outputs": [
    {
     "data": {
      "text/plain": [
       "{'type': 'and_op',\n",
       " 'children': [{'type': 'boolean', 'value': True},\n",
       "  {'type': 'touch_fn',\n",
       "   'children': [{'type': 'color', 'value': 2},\n",
       "    {'type': 'color', 'value': 1}]}]}"
      ]
     },
     "execution_count": 6,
     "metadata": {},
     "output_type": "execute_result"
    }
   ],
   "source": [
    "program.to_dict()"
   ]
  },
  {
   "cell_type": "markdown",
   "metadata": {},
   "source": [
    "### Scoring"
   ]
  },
  {
   "cell_type": "code",
   "execution_count": 9,
   "metadata": {},
   "outputs": [
    {
     "data": {
      "image/png": "[encoded data removed]",
      "text/plain": [
       "<Figure size 640x480 with 1 Axes>"
      ]
     },
     "metadata": {},
     "output_type": "display_data"
    }
   ],
   "source": [
    "board = Board.from_trial_id(5)\n",
    "board"
   ]
  },
  {
   "cell_type": "code",
   "execution_count": 10,
   "metadata": {},
   "outputs": [],
   "source": [
    "programs = valid"
   ]
  },
  {
   "cell_type": "code",
   "execution_count": 11,
   "metadata": {},
   "outputs": [
    {
     "name": "stderr",
     "output_type": "stream",
     "text": [
      "100%|██████████| 860939/860939 [00:44<00:00, 19357.89it/s]\n"
     ]
    }
   ],
   "source": [
    "scores = compute_score_parallel(programs=programs, board=board)"
   ]
  },
  {
   "cell_type": "code",
   "execution_count": 12,
   "metadata": {},
   "outputs": [
    {
     "data": {
      "text/html": [
       "<div>\n",
       "<style scoped>\n",
       "    .dataframe tbody tr th:only-of-type {\n",
       "        vertical-align: middle;\n",
       "    }\n",
       "\n",
       "    .dataframe tbody tr th {\n",
       "        vertical-align: top;\n",
       "    }\n",
       "\n",
       "    .dataframe thead th {\n",
       "        text-align: right;\n",
       "    }\n",
       "</style>\n",
       "<table border=\"1\" class=\"dataframe\">\n",
       "  <thead>\n",
       "    <tr style=\"text-align: right;\">\n",
       "      <th></th>\n",
       "      <th>program</th>\n",
       "      <th>score</th>\n",
       "    </tr>\n",
       "  </thead>\n",
       "  <tbody>\n",
       "    <tr>\n",
       "      <th>860837</th>\n",
       "      <td>( setSize ( coloredTiles Water ) )</td>\n",
       "      <td>2.114224</td>\n",
       "    </tr>\n",
       "    <tr>\n",
       "      <th>645562</th>\n",
       "      <td>( + ( size Red ) ( size Purple ) )</td>\n",
       "      <td>2.114224</td>\n",
       "    </tr>\n",
       "    <tr>\n",
       "      <th>645851</th>\n",
       "      <td>( + ( size Purple ) ( size Red ) )</td>\n",
       "      <td>2.114224</td>\n",
       "    </tr>\n",
       "    <tr>\n",
       "      <th>839223</th>\n",
       "      <td>( - ( size Red ) ( size Purple ) )</td>\n",
       "      <td>2.101558</td>\n",
       "    </tr>\n",
       "    <tr>\n",
       "      <th>839512</th>\n",
       "      <td>( - ( size Purple ) ( size Red ) )</td>\n",
       "      <td>2.101558</td>\n",
       "    </tr>\n",
       "    <tr>\n",
       "      <th>839447</th>\n",
       "      <td>( - ( size Purple ) ( - 3 6 ) )</td>\n",
       "      <td>1.568196</td>\n",
       "    </tr>\n",
       "    <tr>\n",
       "      <th>778323</th>\n",
       "      <td>( - 5 ( size Purple ) )</td>\n",
       "      <td>1.568196</td>\n",
       "    </tr>\n",
       "    <tr>\n",
       "      <th>839448</th>\n",
       "      <td>( - ( size Purple ) ( - 3 7 ) )</td>\n",
       "      <td>1.568196</td>\n",
       "    </tr>\n",
       "    <tr>\n",
       "      <th>839449</th>\n",
       "      <td>( - ( size Purple ) ( - 3 8 ) )</td>\n",
       "      <td>1.568196</td>\n",
       "    </tr>\n",
       "    <tr>\n",
       "      <th>637732</th>\n",
       "      <td>( + ( - 7 4 ) ( size Purple ) )</td>\n",
       "      <td>1.568196</td>\n",
       "    </tr>\n",
       "  </tbody>\n",
       "</table>\n",
       "</div>"
      ],
      "text/plain": [
       "                                   program     score\n",
       "860837  ( setSize ( coloredTiles Water ) )  2.114224\n",
       "645562  ( + ( size Red ) ( size Purple ) )  2.114224\n",
       "645851  ( + ( size Purple ) ( size Red ) )  2.114224\n",
       "839223  ( - ( size Red ) ( size Purple ) )  2.101558\n",
       "839512  ( - ( size Purple ) ( size Red ) )  2.101558\n",
       "839447     ( - ( size Purple ) ( - 3 6 ) )  1.568196\n",
       "778323             ( - 5 ( size Purple ) )  1.568196\n",
       "839448     ( - ( size Purple ) ( - 3 7 ) )  1.568196\n",
       "839449     ( - ( size Purple ) ( - 3 8 ) )  1.568196\n",
       "637732     ( + ( - 7 4 ) ( size Purple ) )  1.568196"
      ]
     },
     "execution_count": 12,
     "metadata": {},
     "output_type": "execute_result"
    }
   ],
   "source": [
    "df_scores = pd.DataFrame({\"program\": programs, \"score\": scores})\n",
    "df_scores.sort_values(\"score\", ascending=False).head(10)"
   ]
  },
  {
   "cell_type": "code",
   "execution_count": 13,
   "metadata": {},
   "outputs": [
    {
     "data": {
      "text/html": [
       "<div>\n",
       "<style scoped>\n",
       "    .dataframe tbody tr th:only-of-type {\n",
       "        vertical-align: middle;\n",
       "    }\n",
       "\n",
       "    .dataframe tbody tr th {\n",
       "        vertical-align: top;\n",
       "    }\n",
       "\n",
       "    .dataframe thead th {\n",
       "        text-align: right;\n",
       "    }\n",
       "</style>\n",
       "<table border=\"1\" class=\"dataframe\">\n",
       "  <thead>\n",
       "    <tr style=\"text-align: right;\">\n",
       "      <th></th>\n",
       "      <th>program</th>\n",
       "      <th>score</th>\n",
       "    </tr>\n",
       "  </thead>\n",
       "  <tbody>\n",
       "    <tr>\n",
       "      <th>645851</th>\n",
       "      <td>( + ( size Purple ) ( size Red ) )</td>\n",
       "      <td>2.114224</td>\n",
       "    </tr>\n",
       "    <tr>\n",
       "      <th>860837</th>\n",
       "      <td>( setSize ( coloredTiles Water ) )</td>\n",
       "      <td>2.114224</td>\n",
       "    </tr>\n",
       "    <tr>\n",
       "      <th>645562</th>\n",
       "      <td>( + ( size Red ) ( size Purple ) )</td>\n",
       "      <td>2.114224</td>\n",
       "    </tr>\n",
       "    <tr>\n",
       "      <th>839512</th>\n",
       "      <td>( - ( size Purple ) ( size Red ) )</td>\n",
       "      <td>2.101558</td>\n",
       "    </tr>\n",
       "    <tr>\n",
       "      <th>839223</th>\n",
       "      <td>( - ( size Red ) ( size Purple ) )</td>\n",
       "      <td>2.101558</td>\n",
       "    </tr>\n",
       "    <tr>\n",
       "      <th>...</th>\n",
       "      <td>...</td>\n",
       "      <td>...</td>\n",
       "    </tr>\n",
       "    <tr>\n",
       "      <th>107905</th>\n",
       "      <td>( and ( touch Red Blue ) ( touch Purple Red ) )</td>\n",
       "      <td>0.116604</td>\n",
       "    </tr>\n",
       "    <tr>\n",
       "      <th>109225</th>\n",
       "      <td>( and ( touch Purple Red ) ( touch Red Blue ) )</td>\n",
       "      <td>0.116604</td>\n",
       "    </tr>\n",
       "    <tr>\n",
       "      <th>109223</th>\n",
       "      <td>( and ( touch Purple Red ) ( touch Blue Red ) )</td>\n",
       "      <td>0.116604</td>\n",
       "    </tr>\n",
       "    <tr>\n",
       "      <th>413422</th>\n",
       "      <td>( == ( color 1D ) Red )</td>\n",
       "      <td>0.083901</td>\n",
       "    </tr>\n",
       "    <tr>\n",
       "      <th>413188</th>\n",
       "      <td>( == Red ( color 1D ) )</td>\n",
       "      <td>0.083901</td>\n",
       "    </tr>\n",
       "  </tbody>\n",
       "</table>\n",
       "<p>12096 rows × 2 columns</p>\n",
       "</div>"
      ],
      "text/plain": [
       "                                                program     score\n",
       "645851               ( + ( size Purple ) ( size Red ) )  2.114224\n",
       "860837               ( setSize ( coloredTiles Water ) )  2.114224\n",
       "645562               ( + ( size Red ) ( size Purple ) )  2.114224\n",
       "839512               ( - ( size Purple ) ( size Red ) )  2.101558\n",
       "839223               ( - ( size Red ) ( size Purple ) )  2.101558\n",
       "...                                                 ...       ...\n",
       "107905  ( and ( touch Red Blue ) ( touch Purple Red ) )  0.116604\n",
       "109225  ( and ( touch Purple Red ) ( touch Red Blue ) )  0.116604\n",
       "109223  ( and ( touch Purple Red ) ( touch Blue Red ) )  0.116604\n",
       "413422                          ( == ( color 1D ) Red )  0.083901\n",
       "413188                          ( == Red ( color 1D ) )  0.083901\n",
       "\n",
       "[12096 rows x 2 columns]"
      ]
     },
     "execution_count": 13,
     "metadata": {},
     "output_type": "execute_result"
    }
   ],
   "source": [
    "df_scores[df_scores[\"score\"] > 0].sort_values(\"score\", ascending=False)"
   ]
  },
  {
   "cell_type": "code",
   "execution_count": 14,
   "metadata": {},
   "outputs": [
    {
     "data": {
      "text/plain": [
       "array([[<Axes: title={'center': 'score'}>]], dtype=object)"
      ]
     },
     "execution_count": 14,
     "metadata": {},
     "output_type": "execute_result"
    },
    {
     "data": {
      "image/png": "[encoded data removed]",
      "text/plain": [
       "<Figure size 640x480 with 1 Axes>"
      ]
     },
     "metadata": {},
     "output_type": "display_data"
    }
   ],
   "source": [
    "df_scores[df_scores[\"score\"] > 0].hist()"
   ]
  },
  {
   "cell_type": "code",
   "execution_count": 15,
   "metadata": {},
   "outputs": [
    {
     "data": {
      "text/html": [
       "<div>\n",
       "<style scoped>\n",
       "    .dataframe tbody tr th:only-of-type {\n",
       "        vertical-align: middle;\n",
       "    }\n",
       "\n",
       "    .dataframe tbody tr th {\n",
       "        vertical-align: top;\n",
       "    }\n",
       "\n",
       "    .dataframe thead th {\n",
       "        text-align: right;\n",
       "    }\n",
       "</style>\n",
       "<table border=\"1\" class=\"dataframe\">\n",
       "  <thead>\n",
       "    <tr style=\"text-align: right;\">\n",
       "      <th></th>\n",
       "      <th>program</th>\n",
       "      <th>score</th>\n",
       "    </tr>\n",
       "  </thead>\n",
       "  <tbody>\n",
       "  </tbody>\n",
       "</table>\n",
       "</div>"
      ],
      "text/plain": [
       "Empty DataFrame\n",
       "Columns: [program, score]\n",
       "Index: []"
      ]
     },
     "execution_count": 15,
     "metadata": {},
     "output_type": "execute_result"
    }
   ],
   "source": [
    "df_scores[df_scores[\"program\"].str.contains(\"lambda\")]"
   ]
  },
  {
   "cell_type": "code",
   "execution_count": null,
   "metadata": {},
   "outputs": [],
   "source": []
  },
  {
   "cell_type": "markdown",
   "metadata": {},
   "source": [
    "## Sampling"
   ]
  },
  {
   "cell_type": "code",
   "execution_count": 45,
   "metadata": {},
   "outputs": [
    {
     "ename": "TypeError",
     "evalue": "BattleshipGrammar.sample() takes from 1 to 2 positional arguments but 3 were given",
     "output_type": "error",
     "traceback": [
      "\u001b[0;31m---------------------------------------------------------------------------\u001b[0m",
      "\u001b[0;31mTypeError\u001b[0m                                 Traceback (most recent call last)",
      "\u001b[1;32m/home/ubuntu/battleship/notebooks/grammar_nltk.ipynb Cell 19\u001b[0m line \u001b[0;36m1\n\u001b[0;32m----> <a href='vscode-notebook-cell://ssh-remote%2Bgabe-battleship-v1/home/ubuntu/battleship/notebooks/grammar_nltk.ipynb#X24sdnNjb2RlLXJlbW90ZQ%3D%3D?line=0'>1</a>\u001b[0m program \u001b[39m=\u001b[39m grammar\u001b[39m.\u001b[39;49msample(grammar\u001b[39m.\u001b[39;49mgrammar, [\u001b[39m\"\u001b[39;49m\u001b[39mS\u001b[39;49m\u001b[39m\"\u001b[39;49m])\n\u001b[1;32m      <a href='vscode-notebook-cell://ssh-remote%2Bgabe-battleship-v1/home/ubuntu/battleship/notebooks/grammar_nltk.ipynb#X24sdnNjb2RlLXJlbW90ZQ%3D%3D?line=1'>2</a>\u001b[0m program\n",
      "\u001b[0;31mTypeError\u001b[0m: BattleshipGrammar.sample() takes from 1 to 2 positional arguments but 3 were given"
     ]
    }
   ],
   "source": [
    "program = grammar.sample(grammar.grammar, [\"S\"])\n",
    "program\n"
   ]
  },
  {
   "cell_type": "code",
   "execution_count": 33,
   "metadata": {},
   "outputs": [],
   "source": [
    "samples = [grammar.sample() for _ in range(10)]"
   ]
  },
  {
   "cell_type": "code",
   "execution_count": 34,
   "metadata": {},
   "outputs": [
    {
     "data": {
      "text/plain": [
       "['2C',\n",
       " '(',\n",
       " '4E',\n",
       " 'Water',\n",
       " 'H',\n",
       " '1E',\n",
       " '( ( ( 0 ( ( 2E ( Red',\n",
       " '( Red',\n",
       " '3B',\n",
       " '2']"
      ]
     },
     "execution_count": 34,
     "metadata": {},
     "output_type": "execute_result"
    }
   ],
   "source": [
    "samples"
   ]
  },
  {
   "cell_type": "code",
   "execution_count": null,
   "metadata": {},
   "outputs": [],
   "source": []
  }
 ],
 "metadata": {
  "kernelspec": {
   "display_name": ".venv",
   "language": "python",
   "name": "python3"
  },
  "language_info": {
   "codemirror_mode": {
    "name": "ipython",
    "version": 3
   },
   "file_extension": ".py",
   "mimetype": "text/x-python",
   "name": "python",
   "nbconvert_exporter": "python",
   "pygments_lexer": "ipython3",
   "version": "3.11.6"
  }
 },
 "nbformat": 4,
 "nbformat_minor": 2
}
