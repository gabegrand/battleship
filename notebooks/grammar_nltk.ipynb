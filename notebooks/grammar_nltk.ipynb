{
 "cells": [
  {
   "cell_type": "code",
   "execution_count": 1,
   "metadata": {},
   "outputs": [],
   "source": [
    "%load_ext autoreload\n",
    "%autoreload 2"
   ]
  },
  {
   "cell_type": "code",
   "execution_count": 2,
   "metadata": {},
   "outputs": [],
   "source": [
    "import os\n",
    "import pandas as pd\n",
    "import seaborn as sns\n",
    "from nltk.parse.generate import generate\n",
    "from nltk import CFG\n",
    "from nltk.grammar import Nonterminal\n",
    "from tqdm import tqdm\n",
    "\n",
    "from eig.battleship import Parser\n",
    "\n",
    "from battleship.grammar import BattleshipGrammar\n",
    "from battleship.scoring import compute_score_parallel\n",
    "from battleship.board import Board\n",
    "\n",
    "# Configure seaborn\n",
    "sns.set_theme(style=\"whitegrid\")\n",
    "sns.set_context(\"paper\", font_scale=1.25)"
   ]
  },
  {
   "cell_type": "markdown",
   "metadata": {},
   "source": [
    "# Battleship grammar"
   ]
  },
  {
   "cell_type": "code",
   "execution_count": 3,
   "metadata": {},
   "outputs": [],
   "source": [
    "grammar = BattleshipGrammar(include_lambdas=False)"
   ]
  },
  {
   "cell_type": "markdown",
   "metadata": {},
   "source": [
    "## Enumeration"
   ]
  },
  {
   "cell_type": "code",
   "execution_count": null,
   "metadata": {},
   "outputs": [],
   "source": [
    "valid, invalid = grammar.generate(n=int(1e6), depth=5, start=Nonterminal('A'))\n",
    "print('Valid programs:', len(valid))\n",
    "print('Invalid programs:', len(invalid))"
   ]
  },
  {
   "cell_type": "code",
   "execution_count": null,
   "metadata": {},
   "outputs": [],
   "source": [
    "# Pass `enforce_type=False` to `Parser.parse` to allow all toplevel types\n",
    "program = Parser.parse(\"( and TRUE ( touch Red Blue ) )\", enforce_type=False)"
   ]
  },
  {
   "cell_type": "code",
   "execution_count": null,
   "metadata": {},
   "outputs": [],
   "source": [
    "program.to_dict()"
   ]
  },
  {
   "cell_type": "markdown",
   "metadata": {},
   "source": [
    "## Sampling"
   ]
  },
  {
   "cell_type": "code",
   "execution_count": 28,
   "metadata": {},
   "outputs": [
    {
     "name": "stderr",
     "output_type": "stream",
     "text": [
      "  0%|          | 0/100000 [00:00<?, ?it/s]"
     ]
    },
    {
     "name": "stderr",
     "output_type": "stream",
     "text": [
      "100%|██████████| 100000/100000 [00:04<00:00, 21421.20it/s]"
     ]
    },
    {
     "name": "stdout",
     "output_type": "stream",
     "text": [
      "Samples: 24577\n"
     ]
    },
    {
     "name": "stderr",
     "output_type": "stream",
     "text": [
      "\n"
     ]
    }
   ],
   "source": [
    "n = int(1e5)\n",
    "samples = [grammar.sample(min_depth=1, max_depth=16, allow_single_token=False) for _ in tqdm(range(n))]\n",
    "# Remove None samples\n",
    "samples = list(set(s for s in samples if s is not None))\n",
    "print('Samples:', len(samples))"
   ]
  },
  {
   "cell_type": "code",
   "execution_count": 29,
   "metadata": {},
   "outputs": [
    {
     "data": {
      "text/plain": [
       "[('( color 5E )', 2),\n",
       " ('( > 6 2 )', 2),\n",
       " ('( < 1 2 )', 2),\n",
       " ('( colL 4B )', 2),\n",
       " ('( + 1 7 )', 2),\n",
       " ('( > 7 6 )', 2),\n",
       " ('( and TRUE TRUE )', 2),\n",
       " ('( colL 4C )', 2),\n",
       " ('( > 3 3 )', 2),\n",
       " ('( == 1 5 )', 2)]"
      ]
     },
     "execution_count": 29,
     "metadata": {},
     "output_type": "execute_result"
    }
   ],
   "source": [
    "# sort samples by depth\n",
    "samples_sorted = sorted(samples, key=lambda s: s[1])\n",
    "samples_sorted[:10]"
   ]
  },
  {
   "cell_type": "code",
   "execution_count": 30,
   "metadata": {},
   "outputs": [
    {
     "data": {
      "image/png": "[encoded data removed]",
      "text/plain": [
       "<Figure size 640x480 with 1 Axes>"
      ]
     },
     "metadata": {},
     "output_type": "display_data"
    }
   ],
   "source": [
    "with sns.plotting_context(\"paper\", font_scale=1.5):\n",
    "    sns.histplot([d for (p, d) in samples], discrete=True, stat=\"probability\")"
   ]
  },
  {
   "cell_type": "code",
   "execution_count": null,
   "metadata": {},
   "outputs": [],
   "source": []
  },
  {
   "cell_type": "markdown",
   "metadata": {},
   "source": [
    "## Scoring"
   ]
  },
  {
   "cell_type": "code",
   "execution_count": null,
   "metadata": {},
   "outputs": [],
   "source": [
    "TRIAL_IDS = range(3, 19)\n",
    "\n",
    "def evaluate_samples_all_trials(samples):\n",
    "    # Deduplicate samples\n",
    "    samples = list(set([x for x in samples if x is not None]))\n",
    "\n",
    "    # Create dataframe to store scores\n",
    "    df_scores = pd.DataFrame({\"program\": samples})\n",
    "    df_scores[\"length\"] = df_scores[\"program\"].apply(lambda p: len(p))\n",
    "\n",
    "    for trial_id in TRIAL_IDS:\n",
    "        print(f\"Evaluating trial {trial_id}\")\n",
    "        board = Board.from_trial_id(trial_id)\n",
    "        scores = compute_score_parallel(programs=samples, board=board, processes=os.cpu_count() // 6)\n",
    "        df_scores[f\"score_{trial_id}\"] = scores\n",
    "\n",
    "    return df_scores\n",
    "\n",
    "df_scores = evaluate_samples_all_trials(samples[:10000])"
   ]
  },
  {
   "cell_type": "code",
   "execution_count": null,
   "metadata": {},
   "outputs": [],
   "source": [
    "board = Board.from_trial_id(4)\n",
    "compute_score_parallel(programs=samples, board=board, processes=os.cpu_count() // 4)"
   ]
  },
  {
   "cell_type": "code",
   "execution_count": null,
   "metadata": {},
   "outputs": [],
   "source": [
    "df_scores"
   ]
  },
  {
   "cell_type": "code",
   "execution_count": null,
   "metadata": {},
   "outputs": [],
   "source": []
  }
 ],
 "metadata": {
  "kernelspec": {
   "display_name": ".venv",
   "language": "python",
   "name": "python3"
  },
  "language_info": {
   "codemirror_mode": {
    "name": "ipython",
    "version": 3
   },
   "file_extension": ".py",
   "mimetype": "text/x-python",
   "name": "python",
   "nbconvert_exporter": "python",
   "pygments_lexer": "ipython3",
   "version": "3.11.6"
  }
 },
 "nbformat": 4,
 "nbformat_minor": 2
}
