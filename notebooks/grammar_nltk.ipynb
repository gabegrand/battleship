{
 "cells": [
  {
   "cell_type": "code",
   "execution_count": null,
   "metadata": {},
   "outputs": [],
   "source": [
    "%load_ext autoreload\n",
    "%autoreload 2"
   ]
  },
  {
   "cell_type": "code",
   "execution_count": null,
   "metadata": {},
   "outputs": [],
   "source": [
    "from nltk.parse.generate import generate\n",
    "from nltk import CFG\n",
    "from nltk.grammar import Nonterminal\n",
    "\n",
    "from eig.battleship import Parser\n",
    "\n",
    "from battleship.grammar import BattleshipCFG"
   ]
  },
  {
   "cell_type": "markdown",
   "metadata": {},
   "source": [
    "# Battleship grammar"
   ]
  },
  {
   "cell_type": "code",
   "execution_count": null,
   "metadata": {},
   "outputs": [],
   "source": [
    "print(BattleshipCFG)"
   ]
  },
  {
   "cell_type": "code",
   "execution_count": null,
   "metadata": {},
   "outputs": [],
   "source": [
    "type(BattleshipCFG.start())"
   ]
  },
  {
   "cell_type": "code",
   "execution_count": null,
   "metadata": {},
   "outputs": [],
   "source": [
    "# Check that all generated programs are valid\n",
    "valid, invalid = [], []\n",
    "\n",
    "for tokens in generate(BattleshipCFG, n=int(1e6), depth=5, start=Nonterminal('A')):\n",
    "    program = ' '.join(tokens)\n",
    "    try:\n",
    "        Parser.parse(program, enforce_type=False)\n",
    "        valid.append(program)\n",
    "    except:\n",
    "        invalid.append(program)\n",
    "        print(program, flush=True)\n",
    "\n",
    "print('Valid programs:', len(valid))\n",
    "print('Invalid programs:', len(invalid))"
   ]
  },
  {
   "cell_type": "code",
   "execution_count": null,
   "metadata": {},
   "outputs": [],
   "source": [
    "valid[-10:]"
   ]
  },
  {
   "cell_type": "code",
   "execution_count": null,
   "metadata": {},
   "outputs": [],
   "source": [
    "# Pass `enforce_type=False` to `Parser.parse` to allow all toplevel types\n",
    "program = Parser.parse(\"( and TRUE ( touch Red Blue ) )\", enforce_type=False)"
   ]
  },
  {
   "cell_type": "code",
   "execution_count": null,
   "metadata": {},
   "outputs": [],
   "source": [
    "program.to_dict()"
   ]
  },
  {
   "cell_type": "code",
   "execution_count": null,
   "metadata": {},
   "outputs": [],
   "source": []
  }
 ],
 "metadata": {
  "kernelspec": {
   "display_name": ".venv",
   "language": "python",
   "name": "python3"
  },
  "language_info": {
   "codemirror_mode": {
    "name": "ipython",
    "version": 3
   },
   "file_extension": ".py",
   "mimetype": "text/x-python",
   "name": "python",
   "nbconvert_exporter": "python",
   "pygments_lexer": "ipython3",
   "version": "3.11.6"
  }
 },
 "nbformat": 4,
 "nbformat_minor": 2
}
