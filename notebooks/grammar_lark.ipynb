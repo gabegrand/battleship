{
 "cells": [
  {
   "cell_type": "code",
   "execution_count": 2,
   "metadata": {},
   "outputs": [],
   "source": [
    "from lark import Lark"
   ]
  },
  {
   "cell_type": "code",
   "execution_count": 10,
   "metadata": {},
   "outputs": [],
   "source": [
    "grammar = \"\"\"\n",
    "    answer: boolean\n",
    "          | number\n",
    "          | color\n",
    "          | orientation\n",
    "          | location\n",
    "          | ship_set\n",
    "          | location_set\n",
    "\n",
    "    boolean: \"TRUE\" \n",
    "           | \"FALSE\"\n",
    "           | \"(\" \"not\" boolean \")\"\n",
    "           | \"(\" \"and\" boolean boolean \")\"\n",
    "           | \"(\" \"or\" boolean boolean \")\"\n",
    "           | \"(\" \"==\" boolean boolean \")\"\n",
    "           | \"(\" \"==\" number number \")\"\n",
    "           | \"(\" \"==\" orientation orientation \")\"\n",
    "           | \"(\" \"==\" color color \")\"\n",
    "           | \"(\" \">\" number number \")\"\n",
    "           | \"(\" \"<\" number number \")\"\n",
    "           | \"(\" \"touch\" ship ship \")\"\n",
    "           | \"(\" \"isSubset\" location_set location_set \")\"\n",
    "\n",
    "    number: \"0\" | \"1\" | \"2\" | \"3\" | \"4\" | \"5\" | \"6\" | \"7\" | \"8\" | \"9\"\n",
    "          | \"(\" \"+\" number number \")\"\n",
    "          | \"(\" \"+\" boolean boolean \")\"\n",
    "          | \"(\" \"-\" number number \")\"\n",
    "          | \"(\" \"size\" ship \")\"\n",
    "          | \"(\" \"rowL\" location \")\"\n",
    "          | \"(\" \"colL\" location \")\"\n",
    "          | \"(\" \"setSize\" location_set \")\"\n",
    "\n",
    "    ship: \"Blue\" | \"Red\" | \"Purple\" \n",
    "\n",
    "    color: ship | \"Water\"\n",
    "         | \"(\" \"color\" location \")\"\n",
    "    \n",
    "\n",
    "    orientation: \"H\" | \"V\"\n",
    "               | \"(\" \"orient\" ship \")\"\n",
    "\n",
    "    location: \"1A\" | \"1B\" | \"1C\" | \"1D\" | \"1E\" | \"1F\"\n",
    "            | \"2A\" | \"2B\" | \"2C\" | \"2D\" | \"2E\" | \"2F\"\n",
    "            | \"3A\" | \"3B\" | \"3C\" | \"3D\" | \"3E\" | \"3F\"\n",
    "            | \"4A\" | \"4B\" | \"4C\" | \"4D\" | \"4E\" | \"4F\"\n",
    "            | \"5A\" | \"5B\" | \"5C\" | \"5D\" | \"5E\" | \"5F\"\n",
    "            | \"6A\" | \"6B\" | \"6C\" | \"6D\" | \"6E\" | \"6F\"\n",
    "            | \"(\" \"topleft\" location_set \")\"\n",
    "            | \"(\" \"bottomright\" location_set \")\"\n",
    "\n",
    "    ship_set: \"(\" \"set\" \"AllColors\" \")\"\n",
    "\n",
    "    location_set: \"(\" \"set\" \"AllTiles\" \")\"\n",
    "        | \"(\" \"coloredTiles\" color \")\"\n",
    "        | \"(\" \"setDifference\" location_set location_set \")\"\n",
    "        | \"(\" \"union\" location_set location_set \")\"\n",
    "        | \"(\" \"intersection\" location_set location_set \")\"\n",
    "        | \"(\" \"unique\" location_set \")\"\n",
    "\n",
    "    %import common.ESCAPED_STRING\n",
    "    %import common.SIGNED_NUMBER\n",
    "    %import common.WS\n",
    "    %ignore WS\n",
    "    \"\"\""
   ]
  },
  {
   "cell_type": "code",
   "execution_count": 12,
   "metadata": {},
   "outputs": [
    {
     "name": "stdout",
     "output_type": "stream",
     "text": [
      "answer\n",
      "  boolean\n",
      "    location_set\n",
      "      location_set\n",
      "        color\n",
      "    location_set\n",
      "      location_set\n",
      "        location_set\n",
      "          location_set\n",
      "            location_set\n",
      "              color\n",
      "                location\n",
      "          location_set\n",
      "            color\n",
      "        location_set\n",
      "      location_set\n",
      "        color\n",
      "\n"
     ]
    }
   ],
   "source": [
    "parser = Lark(grammar, start=\"answer\")\n",
    "expression = \"( + 0 ( setSize ( set AllTiles ) ) )\"\n",
    "expression = \"( isSubset ( unique ( coloredTiles Water ) ) ( union ( union ( intersection ( unique ( coloredTiles ( color 2D ) ) ) ( coloredTiles Water ) ) ( set AllTiles ) ) ( coloredTiles Water ) ) )\"\n",
    "tree = parser.parse(expression)\n",
    "print(tree.pretty())"
   ]
  }
 ],
 "metadata": {
  "kernelspec": {
   "display_name": "python311",
   "language": "python",
   "name": "python3"
  },
  "language_info": {
   "codemirror_mode": {
    "name": "ipython",
    "version": 3
   },
   "file_extension": ".py",
   "mimetype": "text/x-python",
   "name": "python",
   "nbconvert_exporter": "python",
   "pygments_lexer": "ipython3",
   "version": "3.11.6"
  }
 },
 "nbformat": 4,
 "nbformat_minor": 2
}
