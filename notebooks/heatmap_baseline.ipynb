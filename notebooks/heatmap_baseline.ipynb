{
 "cells": [
  {
   "cell_type": "code",
   "execution_count": 2,
   "metadata": {},
   "outputs": [],
   "source": [
    "%load_ext autoreload\n",
    "%autoreload 2"
   ]
  },
  {
   "cell_type": "code",
   "execution_count": 3,
   "metadata": {},
   "outputs": [],
   "source": [
    "import numpy as np\n",
    "import seaborn as sns\n",
    "import pandas as pd\n",
    "from matplotlib import pyplot as plt\n",
    "from scipy.special import softmax\n",
    "\n",
    "from tqdm import tqdm\n",
    "\n",
    "from battleship.fast_sampler import FastSampler\n",
    "from battleship.board import Board"
   ]
  },
  {
   "cell_type": "code",
   "execution_count": 4,
   "metadata": {},
   "outputs": [],
   "source": [
    "# Configure Seaborn for high definition scientific plots\n",
    "# sns.set_context('paper')\n",
    "# sns.set_style('whitegrid')\n",
    "# sns.set_palette('colorblind')\n",
    "\n",
    "# Configure seaborn for retina display\n",
    "%config InlineBackend.figure_format = 'retina'"
   ]
  },
  {
   "cell_type": "code",
   "execution_count": 5,
   "metadata": {},
   "outputs": [],
   "source": [
    "SHIP_LENGTHS = range(2, 6)\n",
    "SHIP_LABELS = [\"R\", \"G\", \"P\", \"O\"]\n",
    "\n",
    "BOARD_EMPTY = Board(np.full((8, 8), -1))\n",
    "SEED = 123"
   ]
  },
  {
   "cell_type": "code",
   "execution_count": null,
   "metadata": {},
   "outputs": [],
   "source": [
    "BOARD_EMPTY"
   ]
  },
  {
   "cell_type": "code",
   "execution_count": null,
   "metadata": {},
   "outputs": [],
   "source": [
    "# Generate the target board\n",
    "\n",
    "sampler = FastSampler(\n",
    "    board=BOARD_EMPTY, ship_lengths=SHIP_LENGTHS, ship_labels=SHIP_LABELS, seed=SEED\n",
    ")\n",
    "\n",
    "BOARD_TARGET = sampler.populate_board()\n",
    "BOARD_TARGET"
   ]
  },
  {
   "cell_type": "code",
   "execution_count": 53,
   "metadata": {},
   "outputs": [],
   "source": [
    "# A baseline agent that computes a posterior over the visible board in order to make a move\n",
    "def check_win(board_agent: Board, board_target: Board):\n",
    "    \"\"\"Checks whether all ship tiles have been revealed.\n",
    "\n",
    "    Ship tiles are all tiles with a positive integer value.\n",
    "    \"\"\"\n",
    "    return np.all(board_agent.board[board_target.board > 0] > 0)\n",
    "\n",
    "\n",
    "def simulate_game(\n",
    "    board_start: Board,\n",
    "    board_target: Board,\n",
    "    n_samples: int = 1000,\n",
    "    seed: int = 123,\n",
    "    show_board: bool = False,\n",
    "):\n",
    "    rng = np.random.default_rng(seed)\n",
    "\n",
    "    board_agent = Board(board_start.board.copy())\n",
    "\n",
    "    moves = []\n",
    "\n",
    "    while not check_win(board_agent, board_target):\n",
    "        # Compute the posterior over the board\n",
    "        sampler = FastSampler(\n",
    "            board=board_agent,\n",
    "            ship_lengths=SHIP_LENGTHS,\n",
    "            ship_labels=SHIP_LABELS,\n",
    "            seed=SEED,\n",
    "        )\n",
    "\n",
    "        # Compute posterior (return raw counts)\n",
    "        posterior = sampler.compute_posterior(n_samples=n_samples, normalize=False)\n",
    "\n",
    "        if show_board:\n",
    "            display(Board._to_figure(posterior, mode=\"heatmap\"))\n",
    "\n",
    "        # Set the posterior to -inf for revealed tiles\n",
    "        posterior = posterior.astype(float)\n",
    "        posterior[board_agent.board != -1] = -np.inf\n",
    "\n",
    "        # Apply softmax to the posterior\n",
    "        posterior = softmax(posterior)\n",
    "\n",
    "        # Sample a tile from the posterior\n",
    "        tile_idx = rng.choice(\n",
    "            np.arange(board_agent.size**2), p=posterior.flatten()\n",
    "        )\n",
    "\n",
    "        # Convert the tile index back to a 2D index\n",
    "        tile = np.unravel_index(tile_idx, board_agent.board.shape)\n",
    "\n",
    "        if tile in moves:\n",
    "            raise ValueError(f\"Encountered repeated move: {tile}\")\n",
    "        if board_agent.board[tile] != -1:\n",
    "            raise ValueError(f\"Tile already revealed: {tile}\")\n",
    "\n",
    "        moves.append(tile)\n",
    "\n",
    "        # Reveal the sampled tile\n",
    "        board_agent.board[tile] = board_target.board[tile]\n",
    "\n",
    "        if show_board:\n",
    "            display(board_agent)\n",
    "\n",
    "    if show_board:\n",
    "        print(f\"Finished in {len(moves)} moves!\")\n",
    "\n",
    "    return moves"
   ]
  },
  {
   "cell_type": "code",
   "execution_count": null,
   "metadata": {},
   "outputs": [],
   "source": [
    "moves = simulate_game(BOARD_EMPTY, BOARD_TARGET, seed=SEED, n_samples=10000, show_board=True)"
   ]
  },
  {
   "cell_type": "code",
   "execution_count": null,
   "metadata": {},
   "outputs": [],
   "source": [
    "# Compute the distribution of the number of moves required to finish the game for different boards and sample sizes\n",
    "\n",
    "SEED_GENERATOR = 123\n",
    "SEED_SIMULATOR = 456\n",
    "N_BOARDS = 100\n",
    "N_SAMPLES = [10, 100, 1000]\n",
    "# N_SAMPLES = [10]\n",
    "\n",
    "sampler = FastSampler(\n",
    "    board=BOARD_EMPTY,\n",
    "    ship_lengths=SHIP_LENGTHS,\n",
    "    ship_labels=SHIP_LABELS,\n",
    "    seed=SEED_GENERATOR,\n",
    ")\n",
    "\n",
    "# Generate test boards\n",
    "print(f\"Generating {N_BOARDS} target boards...\")\n",
    "target_boards = []\n",
    "for _ in range(N_BOARDS):\n",
    "    board_target = sampler.populate_board()\n",
    "    target_boards.append(board_target)\n",
    "\n",
    "# Simulate games\n",
    "print(f\"Simulating games...\")\n",
    "results = []\n",
    "for n_samples in N_SAMPLES:\n",
    "    print(f\"n_samples={n_samples}\")\n",
    "    for board_id, target_board in tqdm(enumerate(target_boards), total=len(target_boards)):\n",
    "        moves = simulate_game(\n",
    "            BOARD_EMPTY, target_board, n_samples=n_samples, seed=SEED_SIMULATOR\n",
    "        )\n",
    "        results.append(\n",
    "            {\n",
    "                \"board_id\": board_id,\n",
    "                \"n_samples\": n_samples,\n",
    "                \"n_moves\": len(moves),\n",
    "            }\n",
    "        )"
   ]
  },
  {
   "cell_type": "code",
   "execution_count": null,
   "metadata": {},
   "outputs": [],
   "source": [
    "# Compute the mean of each distribution\n",
    "results_df = pd.DataFrame(results)\n",
    "results_df.groupby(\"n_samples\")[\"n_moves\"].agg(\n",
    "    [\n",
    "        \"min\",\n",
    "        \"max\",\n",
    "        \"median\",\n",
    "        \"mean\",\n",
    "        pd.Series.mode,\n",
    "        \"std\",\n",
    "    ]\n",
    ")"
   ]
  },
  {
   "cell_type": "code",
   "execution_count": null,
   "metadata": {},
   "outputs": [],
   "source": [
    "with sns.plotting_context(\"paper\", font_scale=1.5), sns.axes_style(\"whitegrid\"):\n",
    "\n",
    "    # combined histogram and kde\n",
    "    sns.displot(data=pd.DataFrame(results), x=\"n_moves\", hue=\"n_samples\", kind=\"hist\", stat=\"count\", common_norm=False, kde=True)\n",
    "\n",
    "    # change x-label\n",
    "    plt.xlabel(\"Number of moves to win\")"
   ]
  },
  {
   "cell_type": "code",
   "execution_count": null,
   "metadata": {},
   "outputs": [],
   "source": [
    "with sns.plotting_context(\"paper\", font_scale=1.5), sns.axes_style(\"whitegrid\"):\n",
    "\n",
    "    # combined histogram and kde\n",
    "    sns.swarmplot(\n",
    "        data=pd.DataFrame(results),\n",
    "        x=\"n_samples\",\n",
    "        y=\"n_moves\",\n",
    "        hue=\"n_samples\",\n",
    "        legend=False,\n",
    "    )\n",
    "\n",
    "plt.xlabel(\"Number of internal samples\");\n",
    "plt.ylabel(\"Number of moves to win\");"
   ]
  },
  {
   "cell_type": "code",
   "execution_count": null,
   "metadata": {},
   "outputs": [],
   "source": []
  }
 ],
 "metadata": {
  "kernelspec": {
   "display_name": ".venv",
   "language": "python",
   "name": "python3"
  },
  "language_info": {
   "codemirror_mode": {
    "name": "ipython",
    "version": 3
   },
   "file_extension": ".py",
   "mimetype": "text/x-python",
   "name": "python",
   "nbconvert_exporter": "python",
   "pygments_lexer": "ipython3",
   "version": "3.11.5"
  }
 },
 "nbformat": 4,
 "nbformat_minor": 2
}
