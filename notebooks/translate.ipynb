{
 "cells": [
  {
   "cell_type": "code",
   "execution_count": null,
   "metadata": {},
   "outputs": [],
   "source": [
    "%load_ext autoreload\n",
    "%autoreload 2"
   ]
  },
  {
   "cell_type": "code",
   "execution_count": null,
   "metadata": {},
   "outputs": [],
   "source": [
    "import os\n",
    "import pandas as pd\n",
    "\n",
    "from transformers import AutoModelForCausalLM\n",
    "from transformers import AutoTokenizer\n",
    "from tqdm.notebook import tqdm\n",
    "\n",
    "from eig import compute_eig_fast\n",
    "from eig.battleship import Ship, BattleshipHypothesis, Parser, Executor\n",
    "from eig.battleship.program import ProgramSyntaxError\n",
    "\n",
    "from battleship.translator import Translator"
   ]
  },
  {
   "cell_type": "code",
   "execution_count": null,
   "metadata": {},
   "outputs": [],
   "source": [
    "# Load HF_AUTH_TOKEN from .hf_auth_token\n",
    "with open(os.path.join(\"../\", \".hf_auth_token\"), \"r\") as f:\n",
    "    os.environ[\"HF_AUTH_TOKEN\"] = f.read().strip()\n",
    "\n",
    "HF_AUTH_TOKEN = os.environ[\"HF_AUTH_TOKEN\"]"
   ]
  },
  {
   "cell_type": "markdown",
   "metadata": {},
   "source": [
    "# Inference with pre-trained LLM"
   ]
  },
  {
   "cell_type": "code",
   "execution_count": null,
   "metadata": {},
   "outputs": [],
   "source": [
    "MODEL_NAME = \"WizardLM/WizardCoder-Python-7B-V1.0\"\n",
    "\n",
    "tokenizer = AutoTokenizer.from_pretrained(MODEL_NAME, token=HF_AUTH_TOKEN)\n",
    "model = AutoModelForCausalLM.from_pretrained(\n",
    "    MODEL_NAME, token=HF_AUTH_TOKEN, device_map=\"auto\", load_in_8bit=True,\n",
    ")"
   ]
  },
  {
   "cell_type": "code",
   "execution_count": null,
   "metadata": {},
   "outputs": [],
   "source": [
    "translator = Translator(model=model, tokenizer=tokenizer)"
   ]
  },
  {
   "cell_type": "code",
   "execution_count": null,
   "metadata": {},
   "outputs": [],
   "source": [
    "completion = translator.question_to_code(\"How many blocks is the blue ship?\")\n",
    "print(completion)"
   ]
  },
  {
   "cell_type": "code",
   "execution_count": null,
   "metadata": {},
   "outputs": [],
   "source": [
    "completion = translator.question_to_code(\"What is at A7?\")\n",
    "print(completion)"
   ]
  },
  {
   "cell_type": "markdown",
   "metadata": {},
   "source": [
    "# Evaluate the model on test examples"
   ]
  },
  {
   "cell_type": "code",
   "execution_count": null,
   "metadata": {},
   "outputs": [],
   "source": [
    "df_test = pd.read_csv('../battleship/prompts/test_examples.csv')\n",
    "df_test"
   ]
  },
  {
   "cell_type": "code",
   "execution_count": null,
   "metadata": {},
   "outputs": [],
   "source": [
    "# Run inference on all questions in the test set\n",
    "df_test['completion'] = [translator.question_to_code(q) for q in tqdm(df_test['question'])]"
   ]
  },
  {
   "cell_type": "code",
   "execution_count": null,
   "metadata": {},
   "outputs": [],
   "source": [
    "df_test"
   ]
  },
  {
   "cell_type": "code",
   "execution_count": null,
   "metadata": {},
   "outputs": [],
   "source": [
    "def check_parse(program):\n",
    "    try:\n",
    "        Parser.parse(program)\n",
    "        return True\n",
    "    except ProgramSyntaxError:\n",
    "        return False\n",
    "\n",
    "df_test['parseable'] = [check_parse(p) for p in df_test['completion']]\n",
    "df_test['exact_match'] = [p == a for p, a in zip(df_test['completion'], df_test['code'])]"
   ]
  },
  {
   "cell_type": "code",
   "execution_count": null,
   "metadata": {},
   "outputs": [],
   "source": [
    "df_test"
   ]
  },
  {
   "cell_type": "markdown",
   "metadata": {},
   "source": [
    "# Evaluate multiple models"
   ]
  },
  {
   "cell_type": "code",
   "execution_count": null,
   "metadata": {},
   "outputs": [],
   "source": [
    "def check_parse(program):\n",
    "    try:\n",
    "        Parser.parse(program)\n",
    "        return True\n",
    "    except ProgramSyntaxError:\n",
    "        return False"
   ]
  },
  {
   "cell_type": "code",
   "execution_count": null,
   "metadata": {},
   "outputs": [],
   "source": [
    "MODEL_NAMES = [\n",
    "    \"bigcode/starcoder\",\n",
    "    \"codellama/CodeLlama-7b-hf\",\n",
    "    \"WizardLM/WizardCoder-15B-V1.0\",\n",
    "]\n",
    "\n",
    "HF_AUTH_TOKEN = os.environ[\"HF_AUTH_TOKEN\"]\n",
    "\n",
    "for model_name in MODEL_NAMES:\n",
    "    print(model_name)\n",
    "    tokenizer = AutoTokenizer.from_pretrained(model_name, token=HF_AUTH_TOKEN)\n",
    "    model = AutoModelForCausalLM.from_pretrained(\n",
    "        model_name, token=HF_AUTH_TOKEN, device_map=\"auto\", load_in_8bit=True,\n",
    "    )\n",
    "    translator = Translator(model=model, tokenizer=tokenizer)\n",
    "\n",
    "    df_test[f'completion-{MODEL_NAME}'] = [translator.question_to_code(q) for q in tqdm(df_test['question'])]\n",
    "    df_test[f'parseable-{MODEL_NAME}'] = [check_parse(p) for p in df_test['completion']]\n",
    "    df_test[f'exact_match-{MODEL_NAME}'] = [p == a for p, a in zip(df_test['completion'], df_test['code'])]\n",
    "\n",
    "df_test"
   ]
  },
  {
   "cell_type": "code",
   "execution_count": null,
   "metadata": {},
   "outputs": [],
   "source": [
    "df_test.to_csv('../battleship/prompts/test_examples_with_completions.csv', index=False)"
   ]
  }
 ],
 "metadata": {
  "kernelspec": {
   "display_name": ".venv",
   "language": "python",
   "name": "python3"
  },
  "language_info": {
   "codemirror_mode": {
    "name": "ipython",
    "version": 3
   },
   "file_extension": ".py",
   "mimetype": "text/x-python",
   "name": "python",
   "nbconvert_exporter": "python",
   "pygments_lexer": "ipython3",
   "version": "3.11.6"
  }
 },
 "nbformat": 4,
 "nbformat_minor": 2
}
