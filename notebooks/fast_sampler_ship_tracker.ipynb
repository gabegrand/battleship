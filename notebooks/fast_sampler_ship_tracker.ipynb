{
 "cells": [
  {
   "cell_type": "code",
   "execution_count": null,
   "id": "379cacb3",
   "metadata": {},
   "outputs": [],
   "source": [
    "%load_ext autoreload\n",
    "%autoreload 2"
   ]
  },
  {
   "cell_type": "code",
   "execution_count": null,
   "id": "5d9c502b",
   "metadata": {},
   "outputs": [],
   "source": [
    "import logging\n",
    "\n",
    "logging.basicConfig(level=logging.INFO)"
   ]
  },
  {
   "cell_type": "code",
   "execution_count": null,
   "id": "81b9b253",
   "metadata": {},
   "outputs": [],
   "source": [
    "from typing import List, Optional, Tuple\n",
    "\n",
    "import numpy as np\n",
    "\n",
    "from battleship.board import Board\n",
    "from battleship.agents import CodeQuestion, Question\n",
    "from battleship.game import BattleshipGame\n",
    "from battleship.captains import create_captain\n",
    "from battleship.spotters import create_spotter\n",
    "from battleship.fast_sampler import FastSampler"
   ]
  },
  {
   "cell_type": "code",
   "execution_count": null,
   "id": "09964407",
   "metadata": {},
   "outputs": [],
   "source": [
    "def heatmap(\n",
    "    board: Board,\n",
    "    ship_tracker: List[Tuple[int, Optional[str]]] = None,\n",
    "    n_samples: int = 10000,\n",
    "    constraints: list = [],\n",
    "    seed: int = 123,\n",
    "):\n",
    "    sampler = FastSampler(\n",
    "        board,\n",
    "        ship_tracker=ship_tracker,\n",
    "        seed=seed,\n",
    "    )\n",
    "    # Compute posterior (return raw counts)\n",
    "    posterior = sampler.compute_posterior(\n",
    "        n_samples=n_samples, normalize=False, constraints=constraints\n",
    "    )\n",
    "    return Board._to_figure(posterior, mode=\"heatmap\")"
   ]
  },
  {
   "cell_type": "code",
   "execution_count": null,
   "id": "ecda108a",
   "metadata": {},
   "outputs": [],
   "source": [
    "BOARD_ID = \"B03\"\n",
    "SEED = 123\n",
    "\n",
    "true_board = Board.from_trial_id(BOARD_ID)\n",
    "true_board\n",
    "\n",
    "empty_board = Board(np.full((8, 8), -1))"
   ]
  },
  {
   "cell_type": "code",
   "execution_count": null,
   "id": "216aeacf",
   "metadata": {},
   "outputs": [],
   "source": [
    "heatmap(empty_board)"
   ]
  },
  {
   "cell_type": "code",
   "execution_count": null,
   "id": "ad59bd7b",
   "metadata": {},
   "outputs": [],
   "source": [
    "import numpy as np\n",
    "\n",
    "from battleship.board import Board\n",
    "\n",
    "partial_board = Board(np.full((8, 8), -1))\n",
    "partial_board.board[3, 0] = 1\n",
    "partial_board.board[3, 1] = 1\n",
    "partial_board.board[3, 2] = 1\n",
    "# partial_board.board[3, 3] = 1\n",
    "partial_board"
   ]
  },
  {
   "cell_type": "code",
   "execution_count": null,
   "id": "80049f8d",
   "metadata": {},
   "outputs": [],
   "source": [
    "heatmap(partial_board)"
   ]
  },
  {
   "cell_type": "code",
   "execution_count": null,
   "id": "025b5ed3",
   "metadata": {},
   "outputs": [],
   "source": [
    "\n",
    "\n",
    "\n",
    "ship_tracker = [(3, \"R\"), (2, None), (4, None), (5, None)] # Red is constrained to length 3\n",
    "# ship_tracker = [(4, \"R\"), (4, None), (2, None), (3, None)] # Red is constrained to length 4, but only 3 tiles are visible. Should raise an error.\n",
    "\n",
    "# ship_tracker = [(5, None), (5, None), (5, None), (5, None)]  # Red must be length 5\n",
    "# ship_tracker = [(3, None), (2, None), (2, None), (2, None)]\n",
    "# ship_tracker = [(2, None), (2, None), (2, None), (2, None)]  # Should raise an error\n",
    "\n",
    "\n",
    "display(heatmap(partial_board, ship_tracker=ship_tracker))\n",
    "display(\n",
    "    FastSampler(\n",
    "        partial_board,\n",
    "        ship_tracker=ship_tracker,\n",
    "        seed=None,\n",
    "    ).populate_board()\n",
    ")"
   ]
  },
  {
   "cell_type": "code",
   "execution_count": null,
   "id": "a26189c6",
   "metadata": {},
   "outputs": [],
   "source": []
  }
 ],
 "metadata": {
  "kernelspec": {
   "display_name": ".venv",
   "language": "python",
   "name": "python3"
  },
  "language_info": {
   "codemirror_mode": {
    "name": "ipython",
    "version": 3
   },
   "file_extension": ".py",
   "mimetype": "text/x-python",
   "name": "python",
   "nbconvert_exporter": "python",
   "pygments_lexer": "ipython3",
   "version": "3.11.5"
  }
 },
 "nbformat": 4,
 "nbformat_minor": 5
}
