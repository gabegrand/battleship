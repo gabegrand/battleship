{
 "cells": [
  {
   "cell_type": "code",
   "execution_count": null,
   "metadata": {},
   "outputs": [],
   "source": [
    "%load_ext autoreload\n",
    "%autoreload 2"
   ]
  },
  {
   "cell_type": "code",
   "execution_count": null,
   "metadata": {},
   "outputs": [],
   "source": [
    "import asyncio\n",
    "import os\n",
    "import pandas as pd\n",
    "import numpy as np\n",
    "\n",
    "from hfppl.modeling import Model\n",
    "from hfppl.distributions import LMContext, TokenCategorical\n",
    "from hfppl.llms import CachedCausalLM\n",
    "from hfppl.inference import smc_standard\n",
    "\n",
    "from battleship.board import Board\n",
    "from battleship.scoring import compute_score\n",
    "from battleship.models import QuestionGenerationModel"
   ]
  },
  {
   "cell_type": "code",
   "execution_count": null,
   "metadata": {},
   "outputs": [],
   "source": [
    "# Load HF_AUTH_TOKEN from .hf_auth_token\n",
    "with open(os.path.join(\"../\", \".hf_auth_token\"), \"r\") as f:\n",
    "    os.environ[\"HF_AUTH_TOKEN\"] = f.read().strip()\n",
    "\n",
    "HF_AUTH_TOKEN = os.environ[\"HF_AUTH_TOKEN\"]"
   ]
  },
  {
   "cell_type": "code",
   "execution_count": null,
   "metadata": {},
   "outputs": [],
   "source": [
    "# Initialize the HuggingFace model\n",
    "lm = CachedCausalLM.from_pretrained(\"codellama/CodeLlama-7b-hf\", auth_token=HF_AUTH_TOKEN)"
   ]
  },
  {
   "cell_type": "markdown",
   "metadata": {},
   "source": [
    "# Prompting utils"
   ]
  },
  {
   "cell_type": "code",
   "execution_count": null,
   "metadata": {},
   "outputs": [],
   "source": [
    "df = pd.read_csv(\"../battleship/prompts/examples.csv\")\n",
    "\n",
    "def format_example(user_input: str, response: str = None):\n",
    "    return f\"User: {user_input}\\n\" f\"Assistant:{' ' + response if response else ''}\"\n",
    "\n",
    "def make_question_prompt(df):\n",
    "    prompt = \"\\n\".join(df.question) + \"\\n\"\n",
    "    return prompt\n",
    "\n",
    "def make_question_to_code_prompt(df):\n",
    "    prompt = \"\\n\".join([format_example(q, r) for q, r in zip(df.question, df.code)]) + \"\\n\"\n",
    "    return prompt"
   ]
  },
  {
   "cell_type": "code",
   "execution_count": null,
   "metadata": {},
   "outputs": [],
   "source": [
    "print(make_question_prompt(df))"
   ]
  },
  {
   "cell_type": "code",
   "execution_count": null,
   "metadata": {},
   "outputs": [],
   "source": [
    "print(make_question_to_code_prompt(df))"
   ]
  },
  {
   "cell_type": "markdown",
   "metadata": {},
   "source": [
    "# Single board evaluation"
   ]
  },
  {
   "cell_type": "code",
   "execution_count": null,
   "metadata": {},
   "outputs": [],
   "source": [
    "board = Board.from_trial_id(5)\n",
    "board"
   ]
  },
  {
   "cell_type": "code",
   "execution_count": null,
   "metadata": {},
   "outputs": [],
   "source": [
    "# Create a model instance\n",
    "model = QuestionGenerationModel(\n",
    "    lm=lm,\n",
    "    board=board,\n",
    "    question_prompt=make_question_prompt(df),\n",
    "    translation_prompt=make_question_to_code_prompt(df),\n",
    ")"
   ]
  },
  {
   "cell_type": "code",
   "execution_count": null,
   "metadata": {},
   "outputs": [],
   "source": [
    "particles = await smc_standard(model, n_particles=3)\n"
   ]
  },
  {
   "cell_type": "code",
   "execution_count": null,
   "metadata": {},
   "outputs": [],
   "source": [
    "df_results = []\n",
    "for i, p in enumerate(particles):\n",
    "    df_p = pd.DataFrame(p.get_final_results())\n",
    "    df_p[\"particle\"] = i\n",
    "    df_results.append(df_p)\n",
    "df_results = pd.concat(df_results).reset_index(drop=True)\n",
    "df_results"
   ]
  },
  {
   "cell_type": "code",
   "execution_count": null,
   "metadata": {},
   "outputs": [],
   "source": [
    "df_results.sort_values(\"score\", ascending=False).head(10)"
   ]
  },
  {
   "cell_type": "code",
   "execution_count": null,
   "metadata": {},
   "outputs": [],
   "source": [
    "df_results.query(\"type == 'final'\")"
   ]
  },
  {
   "cell_type": "code",
   "execution_count": null,
   "metadata": {},
   "outputs": [],
   "source": [
    "for p in particles:\n",
    "    print(f\"Question: {str(p.context)}\")\n",
    "    print(f\"|- Program: {p.result['translation']}\")\n",
    "    print(f\"|- EIG: {compute_score(board=board, program=p.result['translation'])}\")\n",
    "    print(f\"|- Particle weight: {p.weight:.4f}\")\n",
    "    print()"
   ]
  },
  {
   "cell_type": "markdown",
   "metadata": {},
   "source": [
    "# Multiple board evaluation"
   ]
  },
  {
   "cell_type": "code",
   "execution_count": null,
   "metadata": {},
   "outputs": [],
   "source": [
    "TRIAL_IDS = range(3, 19)\n",
    "N_PARTICLES = 3\n",
    "\n",
    "df_results = []\n",
    "for trial_id in TRIAL_IDS:\n",
    "    print(\"-\" * 80)\n",
    "    print(f\"Trial {trial_id}\")\n",
    "    print(\"-\" * 80)\n",
    "    board = Board.from_trial_id(trial_id)\n",
    "    model = QuestionGenerationModel(\n",
    "        lm=lm,\n",
    "        board=board,\n",
    "        question_prompt=make_question_prompt(df),\n",
    "        translation_prompt=make_question_to_code_prompt(df),\n",
    "    )\n",
    "    particles = await smc_standard(model, n_particles=N_PARTICLES)\n",
    "    df_trial = []\n",
    "    for i, p in enumerate(particles):\n",
    "        df_p = pd.DataFrame(p.get_final_results())\n",
    "        df_p[\"particle\"] = i\n",
    "        df_trial.append(df_p)\n",
    "    df_trial = pd.concat(df_trial).reset_index(drop=True)\n",
    "    df_trial[\"trial_id\"] = trial_id\n",
    "    df_results.append(df_trial)\n",
    "df_results = pd.concat(df_results).reset_index(drop=True)\n",
    "df_results.to_csv(\"hfppl_results.csv\", index=False)"
   ]
  },
  {
   "cell_type": "code",
   "execution_count": null,
   "metadata": {},
   "outputs": [],
   "source": [
    "df_results"
   ]
  },
  {
   "cell_type": "code",
   "execution_count": null,
   "metadata": {},
   "outputs": [],
   "source": []
  }
 ],
 "metadata": {
  "kernelspec": {
   "display_name": ".venv",
   "language": "python",
   "name": "python3"
  },
  "language_info": {
   "codemirror_mode": {
    "name": "ipython",
    "version": 3
   },
   "file_extension": ".py",
   "mimetype": "text/x-python",
   "name": "python",
   "nbconvert_exporter": "python",
   "pygments_lexer": "ipython3",
   "version": "3.11.6"
  }
 },
 "nbformat": 4,
 "nbformat_minor": 2
}
