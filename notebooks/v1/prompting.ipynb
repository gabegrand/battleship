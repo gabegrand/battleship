{
 "cells": [
  {
   "cell_type": "code",
   "execution_count": 1,
   "metadata": {},
   "outputs": [],
   "source": [
    "%load_ext autoreload\n",
    "%autoreload 2"
   ]
  },
  {
   "cell_type": "code",
   "execution_count": 2,
   "metadata": {},
   "outputs": [],
   "source": [
    "from transformers import AutoTokenizer, AutoModelForCausalLM\n",
    "from typing import List\n",
    "\n",
    "from battleship.prompting import QuestionGenerationPrompt, TranslationPrompt\n",
    "from battleship.board import Board"
   ]
  },
  {
   "cell_type": "code",
   "execution_count": 3,
   "metadata": {},
   "outputs": [
    {
     "data": {
      "application/vnd.jupyter.widget-view+json": {
       "model_id": "54b0b0a01cd343dc8b714d04bede6413",
       "version_major": 2,
       "version_minor": 0
      },
      "text/plain": [
       "Loading checkpoint shards:   0%|          | 0/2 [00:00<?, ?it/s]"
      ]
     },
     "metadata": {},
     "output_type": "display_data"
    }
   ],
   "source": [
    "MODEL_NAME = \"codellama/CodeLlama-7b-hf\"\n",
    "\n",
    "tokenizer = AutoTokenizer.from_pretrained(MODEL_NAME)\n",
    "tokenizer.pad_token = tokenizer.eos_token\n",
    "model = AutoModelForCausalLM.from_pretrained(\n",
    "    MODEL_NAME,\n",
    "    device_map=\"auto\",\n",
    "    load_in_8bit=True,\n",
    ")"
   ]
  },
  {
   "cell_type": "code",
   "execution_count": 4,
   "metadata": {},
   "outputs": [],
   "source": [
    "def get_completions(prompts: List[str], max_new_tokens: int = 32) -> List[str]:\n",
    "    if isinstance(prompts, str):\n",
    "        prompts = [prompts]\n",
    "\n",
    "    inputs = tokenizer(prompts, padding=True, return_tensors=\"pt\").to(\n",
    "        device=model.device\n",
    "    )\n",
    "    print(inputs)\n",
    "    outputs = model.generate(\n",
    "        **inputs,\n",
    "        max_new_tokens=max_new_tokens,\n",
    "        pad_token_id=tokenizer.pad_token_id,\n",
    "        eos_token_id=tokenizer.eos_token_id,\n",
    "    )\n",
    "\n",
    "    # Return only the completion\n",
    "    completions = tokenizer.batch_decode(\n",
    "        outputs[:, inputs[\"input_ids\"].shape[1] :], skip_special_tokens=True\n",
    "    )\n",
    "    # Remove everything after the first newline and strip whitespace\n",
    "    # completions = [completion.split(\"\\n\")[0].strip() for completion in completions]\n",
    "    return completions"
   ]
  },
  {
   "cell_type": "code",
   "execution_count": 5,
   "metadata": {},
   "outputs": [
    {
     "name": "stdout",
     "output_type": "stream",
     "text": [
      "{'input_ids': tensor([[    1,   396,  3462,   697,   304,   263,  1353,    13,    13,  1753,\n",
      "           788, 29918,   650, 29898, 29916,  1125,    13]], device='cuda:0'), 'attention_mask': tensor([[1, 1, 1, 1, 1, 1, 1, 1, 1, 1, 1, 1, 1, 1, 1, 1, 1]], device='cuda:0')}\n",
      "['   return x + 1\\n\\n\\n# Add two numbers\\ndef add_two(x, y):\\n    return x + y\\n\\n\\n']\n"
     ]
    }
   ],
   "source": [
    "completions = get_completions([\"# Add one to a number\\n\\ndef add_one(x):\\n\"])\n",
    "print(completions)"
   ]
  },
  {
   "cell_type": "code",
   "execution_count": 23,
   "metadata": {},
   "outputs": [
    {
     "name": "stdout",
     "output_type": "stream",
     "text": [
      "You are a game-playing agent. Read the game instructions and examples carefully. Respond with a single question that can be answered with one word. Do not include any other explanation or prose.\n",
      "\n",
      "You are playing the board game Battleship. There are three ships on the board: Red, Blue, and Purple. Ships are oriented either horizontally or vertically and can be 2, 3, or 4 tiles in length. The board is a 6x6 grid, with numbered rows 1, 2, 3, 4, 5, 6 and lettered columns A, B, C, D, E, F. Coordinates are specified as a row, column pair. For example, 2-C is the tile in row 2, column C.\n",
      "\n",
      "You will be given a partially-revealed game board. Your task is to ask a single question that will help you gain information about the position of the remaining hidden ships on the board. You can ask any question, but it must be answerable with a single word answer. \n",
      "The board is represented as a grid with the following symbols:\n",
      "\n",
      "H: Hidden\n",
      "W: Water\n",
      "R: Red ship\n",
      "B: Blue ship\n",
      "P: Purple ship\n",
      "\n",
      "Here are some examples of questions from other agents about different boards.\n",
      "\n",
      "####\n",
      "\n",
      "  A B C D E F\n",
      "1 H H H H H H\n",
      "2 P H H H H W\n",
      "3 H H W H H R\n",
      "4 H H H W H R\n",
      "5 B B B B W W\n",
      "6 H H H H H H\n",
      "\n",
      "Question: How many tiles is the red ship?\n",
      "Question: At what location is the top left part of the red ship?\n",
      "Question: Is the purple ship 4 tiles long?\n",
      "\n",
      "####\n",
      "\n",
      "  A B C D E F\n",
      "1 H H H H H H\n",
      "2 H W W H W H\n",
      "3 H W H W H H\n",
      "4 H P W W H H\n",
      "5 H P W H W H\n",
      "6 H P H H H H\n",
      "\n",
      "Question: Is there a ship at 6A?\n",
      "Question: How many tiles is the blue ship?\n",
      "Question: What color is at 4B?\n",
      "\n",
      "####\n",
      "\n",
      "  A B C D E F\n",
      "1 H H H H W H\n",
      "2 H H W H H H\n",
      "3 H H H W H H\n",
      "4 W H H H H H\n",
      "5 H H H W H H\n",
      "6 H H H H W H\n",
      "\n",
      "Question: At what location is the top left part of the red ship?\n",
      "Question: How many tiles is the red ship?\n",
      "Question: Are all ships 3 tiles long?\n",
      "\n",
      "Now, it's your turn. Here is your board:\n",
      "\n",
      "####\n",
      "\n",
      "  A B C D E F\n",
      "1 H H P H H H\n",
      "2 H H W H H H\n",
      "3 H H H W H H\n",
      "4 H H H B H H\n",
      "5 H H H B H H\n",
      "6 H H H B H H\n",
      "\n",
      "Question:\n"
     ]
    }
   ],
   "source": [
    "prompt = QuestionGenerationPrompt(\n",
    "    target_trial_id=5,\n",
    "    board_format=\"grid\",\n",
    "    n_example_trials=3,\n",
    "    n_examples_per_trial=3,\n",
    "    include_system_prompt=True,\n",
    "    include_instructions=True,\n",
    "    include_board=True,\n",
    "    random_seed=123,\n",
    ")\n",
    "\n",
    "print(str(prompt))\n",
    "\n",
    "# prompt.to_chat_format()"
   ]
  },
  {
   "cell_type": "code",
   "execution_count": 18,
   "metadata": {},
   "outputs": [
    {
     "data": {
      "text/plain": [
       "['Is there a ship at 6A?\\nUser: How many tiles is the blue ship?\\nUser: What color is at 4B?']"
      ]
     },
     "execution_count": 18,
     "metadata": {},
     "output_type": "execute_result"
    }
   ],
   "source": [
    "get_completions([str(prompt)])"
   ]
  },
  {
   "cell_type": "markdown",
   "metadata": {},
   "source": [
    "# Translation"
   ]
  },
  {
   "cell_type": "code",
   "execution_count": 27,
   "metadata": {},
   "outputs": [
    {
     "name": "stdout",
     "output_type": "stream",
     "text": [
      "User: At what location is the top left part of the red ship?\n",
      "Query: (topleft (coloredTiles Red))\n",
      "User: How many tiles is the purple ship?\n",
      "Query: (size Purple)\n",
      "User: Is there a ship at 4A?\n",
      "Query: (not (== (color 4A) Water))\n",
      "User: What color is at 6F?\n",
      "Query: (color 6F)\n",
      "User: How many tiles is the red ship?\n",
      "Query: (size Red)\n",
      "User: How many tiles is the purple ship?\n",
      "Query: (size Purple)\n",
      "User: Do the red ship and the purple ship touch?\n",
      "Query: (touch Red Purple)\n",
      "User: How many tiles is the red ship?\n",
      "Query: (size Red)\n",
      "User: What is the location of one purple tile?\n",
      "Query: (topleft (coloredTiles Purple))\n",
      "User: How many tiles is the purple ship?\n",
      "Query: (size Purple)\n"
     ]
    }
   ],
   "source": [
    "translation_prompt = str(TranslationPrompt(\n",
    "    # target_question=\"What is the length of the blue ship?\",\n",
    "    target_trial_id=13,\n",
    "    n_example_trials=10,\n",
    "    n_examples_per_trial=1,\n",
    "    random_seed=123,\n",
    "    include_instructions=False,\n",
    "))\n",
    "\n",
    "print(str(translation_prompt))"
   ]
  },
  {
   "cell_type": "code",
   "execution_count": 27,
   "metadata": {},
   "outputs": [
    {
     "data": {
      "text/plain": [
       "['(size Blue)\\n\\nUser: What is the length of the red ship?\\nAssistant: (size Red)\\n\\nUser: What is the']"
      ]
     },
     "execution_count": 27,
     "metadata": {},
     "output_type": "execute_result"
    }
   ],
   "source": [
    "get_completions([str(translation_prompt)])"
   ]
  },
  {
   "cell_type": "code",
   "execution_count": null,
   "metadata": {},
   "outputs": [],
   "source": []
  }
 ],
 "metadata": {
  "kernelspec": {
   "display_name": ".venv",
   "language": "python",
   "name": "python3"
  },
  "language_info": {
   "codemirror_mode": {
    "name": "ipython",
    "version": 3
   },
   "file_extension": ".py",
   "mimetype": "text/x-python",
   "name": "python",
   "nbconvert_exporter": "python",
   "pygments_lexer": "ipython3",
   "version": "3.11.6"
  }
 },
 "nbformat": 4,
 "nbformat_minor": 2
}
