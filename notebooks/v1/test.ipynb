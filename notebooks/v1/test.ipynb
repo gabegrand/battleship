{
 "cells": [
  {
   "cell_type": "code",
   "execution_count": 1,
   "metadata": {},
   "outputs": [],
   "source": [
    "import numpy as np\n",
    "from eig.battleship import Ship, BattleshipHypothesis, Parser, Executor\n",
    "from eig import compute_eig_fast\n",
    "from eig.battleship.program import ProgramSyntaxError"
   ]
  },
  {
   "cell_type": "code",
   "execution_count": 23,
   "metadata": {},
   "outputs": [
    {
     "name": "stdout",
     "output_type": "stream",
     "text": [
      "[[1 0 0]\n",
      " [1 0 2]\n",
      " [0 0 2]]\n"
     ]
    },
    {
     "data": {
      "text/plain": [
       "9"
      ]
     },
     "execution_count": 23,
     "metadata": {},
     "output_type": "execute_result"
    }
   ],
   "source": [
    "# define a board using BattleshipHypothesis\n",
    "ships = [\n",
    "    Ship(ship_label=1, topleft=(0, 0), size=2, orientation='V'),\n",
    "    Ship(ship_label=2, topleft=(1, 2), size=2, orientation='V')\n",
    "]\n",
    "hypothesis = BattleshipHypothesis(grid_size=3, ships=ships)\n",
    "print(hypothesis.board)\n",
    "\n",
    "# parse and execute the program\n",
    "# question = Parser.parse(\"(bottomright (coloredTiles Red))\")\n",
    "# question = Parser.parse(\"(orient Red)\")\n",
    "# question = Parser.parse(\"(color 2-1)\")\n",
    "# question = Parser.parse(\"(color A-3)\")\n",
    "question = Parser.parse(\"(not (== (color A-3) Water))\")\n",
    "\n",
    "executor = Executor(question)\n",
    "executor.execute(hypothesis)"
   ]
  },
  {
   "cell_type": "code",
   "execution_count": 3,
   "metadata": {},
   "outputs": [
    {
     "data": {
      "text/plain": [
       "<eig.battleship.program.Node at 0x1055ecc90>"
      ]
     },
     "execution_count": 3,
     "metadata": {},
     "output_type": "execute_result"
    }
   ],
   "source": [
    "Parser.parse(\"(orient Red)\")"
   ]
  },
  {
   "cell_type": "code",
   "execution_count": 4,
   "metadata": {},
   "outputs": [
    {
     "data": {
      "text/plain": [
       "(2, 2)"
      ]
     },
     "execution_count": 4,
     "metadata": {},
     "output_type": "execute_result"
    }
   ],
   "source": [
    "executor.execute(hypothesis)"
   ]
  },
  {
   "cell_type": "code",
   "execution_count": 4,
   "metadata": {},
   "outputs": [
    {
     "data": {
      "text/plain": [
       "array([[1, 0, 0],\n",
       "       [1, 0, 2],\n",
       "       [0, 0, 2]])"
      ]
     },
     "execution_count": 4,
     "metadata": {},
     "output_type": "execute_result"
    }
   ],
   "source": [
    "hypothesis.board"
   ]
  },
  {
   "cell_type": "code",
   "execution_count": 5,
   "metadata": {},
   "outputs": [
    {
     "data": {
      "text/plain": [
       "array([[ 1,  0, -1],\n",
       "       [ 1,  0,  2],\n",
       "       [ 0,  0, -1]])"
      ]
     },
     "execution_count": 5,
     "metadata": {},
     "output_type": "execute_result"
    }
   ],
   "source": [
    "h = hypothesis.board.copy()\n",
    "h[0][2] = -1\n",
    "h[2][2] = -1\n",
    "h"
   ]
  },
  {
   "cell_type": "code",
   "execution_count": 6,
   "metadata": {},
   "outputs": [],
   "source": [
    "program = \"(bottomright (coloredTiles Red))\"\n",
    "board = h\n",
    "\n",
    "score = compute_eig_fast(program, board, grid_size=3, ship_labels=[1, 2], ship_sizes=[2, 2], orientations=['V', 'H'])"
   ]
  },
  {
   "cell_type": "code",
   "execution_count": 7,
   "metadata": {},
   "outputs": [
    {
     "data": {
      "text/plain": [
       "0.9182958340544896"
      ]
     },
     "execution_count": 7,
     "metadata": {},
     "output_type": "execute_result"
    }
   ],
   "source": [
    "score"
   ]
  },
  {
   "cell_type": "code",
   "execution_count": null,
   "metadata": {},
   "outputs": [],
   "source": []
  }
 ],
 "metadata": {
  "kernelspec": {
   "display_name": "eig",
   "language": "python",
   "name": "python3"
  },
  "language_info": {
   "codemirror_mode": {
    "name": "ipython",
    "version": 3
   },
   "file_extension": ".py",
   "mimetype": "text/x-python",
   "name": "python",
   "nbconvert_exporter": "python",
   "pygments_lexer": "ipython3",
   "version": "3.11.4"
  }
 },
 "nbformat": 4,
 "nbformat_minor": 2
}
