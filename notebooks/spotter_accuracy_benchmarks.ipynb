{
 "cells": [
  {
   "cell_type": "code",
   "execution_count": 12,
   "metadata": {},
   "outputs": [
    {
     "name": "stdout",
     "output_type": "stream",
     "text": [
      "18\n"
     ]
    }
   ],
   "source": [
    "import sys\n",
    "sys.path.insert(0, '..')\n",
    "\n",
    "from battleship.agents import CodeSpotterModel\n",
    "from battleship.agents import DirectSpotterModel\n",
    "from battleship.agents import CacheMode\n",
    "from battleship.run_spotter_benchmarks import load_data, benchmark_on_rounds\n",
    "\n",
    "df, rounds_questions_dict = load_data(\n",
    "        stages_path=\"/home/ubuntu/repo_battleship/temp/gold_annotations_partial.csv\",\n",
    "        rounds_path=\"/home/ubuntu/repo_battleship/battleship/experiments/collaborative/battleship-final-data/round.csv\",\n",
    "        goldAnnotations=[\"answer\", \"ambiguous\", \"contextual\", \"unanswerable\"],\n",
    "    )\n",
    "\n",
    "print(len(rounds_questions_dict.keys()))"
   ]
  },
  {
   "cell_type": "code",
   "execution_count": 13,
   "metadata": {},
   "outputs": [
    {
     "name": "stdout",
     "output_type": "stream",
     "text": [
      "Benchmarking DirectSpotterModel with language model gpt-4o, COT: True\n"
     ]
    },
    {
     "name": "stderr",
     "output_type": "stream",
     "text": [
      "Round 01JDMZVSGBA3PJBC5AY3SB613R, 1/20: 100%|██████████| 9/9 [01:26<00:00,  9.65s/it]\n",
      "Round 01JDN0YJBF5TJSXNKP39DX8EXN, 2/20: 100%|██████████| 1/1 [00:05<00:00,  5.76s/it]\n",
      "Round 01JDN1NWS7N98J9JWVN85AY2KE, 3/20: 100%|██████████| 10/10 [00:55<00:00,  5.59s/it]\n",
      "Round 01JDN2NAXAFG09SBTW0SG2QQM6, 4/20: 100%|██████████| 5/5 [00:30<00:00,  6.20s/it]\n",
      "Round 01JDN32SA1YJMXY3MYS8TRHFEF, 5/20: 100%|██████████| 9/9 [01:20<00:00,  8.93s/it]\n",
      "Round 01JDN4116HF7HQJSHNS8HEK3NE, 6/20: 100%|██████████| 3/3 [00:30<00:00, 10.07s/it]\n",
      "Round 01JDN4BVCA333MJVYBCWFZDZ9S, 7/20: 100%|██████████| 14/14 [02:18<00:00,  9.91s/it]\n",
      "Round 01JFFXS7501ZW3RJWXE41K08B4, 8/20: 100%|██████████| 5/5 [00:32<00:00,  6.49s/it]\n",
      "Round 01JFFYG6CZEQJMAWZEAS0HQ2FJ, 9/20: 100%|██████████| 2/2 [00:14<00:00,  7.34s/it]\n",
      "Round 01JFFZ7SH7BGCW6HCDTH6WHHPP, 10/20: 100%|██████████| 4/4 [00:37<00:00,  9.49s/it]\n",
      "Round 01JG2RXQ8TFT1754V71A4WJ60M, 11/20: 100%|██████████| 3/3 [00:27<00:00,  9.19s/it]\n",
      "Round 01JJ5TAGBMX5JXPQQ2AY5BBSMQ, 12/20: 100%|██████████| 3/3 [00:28<00:00,  9.61s/it]\n",
      "Round 01JJ7XE7JD29BEKTD8K2YMZW8B, 13/20:  25%|██▌       | 1/4 [00:07<00:23,  7.92s/it]"
     ]
    },
    {
     "name": "stdout",
     "output_type": "stream",
     "text": [
      "Error with decision id 15\n",
      "Error with decision id 17\n"
     ]
    },
    {
     "name": "stderr",
     "output_type": "stream",
     "text": [
      "Round 01JJ7XE7JD29BEKTD8K2YMZW8B, 13/20: 100%|██████████| 4/4 [00:29<00:00,  7.29s/it]\n",
      "Round 01JJ87SRSC9J8DPQ3QR4PHD1NS, 14/20: 100%|██████████| 2/2 [00:21<00:00, 10.79s/it]\n",
      "Round 01JJ8BHRK7THZ5A14XESXTCCJZ, 15/20:   0%|          | 0/4 [00:00<?, ?it/s]"
     ]
    },
    {
     "name": "stdout",
     "output_type": "stream",
     "text": [
      "Error with decision id 32\n"
     ]
    },
    {
     "name": "stderr",
     "output_type": "stream",
     "text": [
      "Round 01JJ8BHRK7THZ5A14XESXTCCJZ, 15/20: 100%|██████████| 4/4 [00:30<00:00,  7.72s/it]\n",
      "Round 01JJWZGGF9SQ6RKQ80Z1KY7MGA, 16/20:   0%|          | 0/3 [00:00<?, ?it/s]"
     ]
    },
    {
     "name": "stdout",
     "output_type": "stream",
     "text": [
      "Error with decision id 1\n"
     ]
    },
    {
     "name": "stderr",
     "output_type": "stream",
     "text": [
      "Round 01JJWZGGF9SQ6RKQ80Z1KY7MGA, 16/20:  33%|███▎      | 1/3 [00:05<00:10,  5.26s/it]"
     ]
    },
    {
     "name": "stdout",
     "output_type": "stream",
     "text": [
      "Error with decision id 1\n"
     ]
    },
    {
     "name": "stderr",
     "output_type": "stream",
     "text": [
      "Round 01JJWZGGF9SQ6RKQ80Z1KY7MGA, 16/20:  67%|██████▋   | 2/3 [00:14<00:07,  7.48s/it]"
     ]
    },
    {
     "name": "stdout",
     "output_type": "stream",
     "text": [
      "Error with decision id 1\n"
     ]
    },
    {
     "name": "stderr",
     "output_type": "stream",
     "text": [
      "Round 01JJWZGGF9SQ6RKQ80Z1KY7MGA, 16/20: 100%|██████████| 3/3 [00:30<00:00, 10.02s/it]\n",
      "Round 01JJX4GHN3HRHC824G30W9WG71, 17/20: 100%|██████████| 11/11 [02:03<00:00, 11.25s/it]\n",
      "Round 01JJX5ZAZ3M6RG9F3ZCB0H4SBY, 18/20: 100%|██████████| 8/8 [01:15<00:00,  9.46s/it]\n"
     ]
    },
    {
     "name": "stdout",
     "output_type": "stream",
     "text": [
      "Accuracy: 0.87\n",
      "Benchmarking DirectSpotterModel with language model gpt-4o, COT: False\n"
     ]
    },
    {
     "name": "stderr",
     "output_type": "stream",
     "text": [
      "Round 01JDMZVSGBA3PJBC5AY3SB613R, 1/20: 100%|██████████| 9/9 [00:05<00:00,  1.57it/s]\n",
      "Round 01JDN0YJBF5TJSXNKP39DX8EXN, 2/20: 100%|██████████| 1/1 [00:00<00:00,  2.65it/s]\n",
      "Round 01JDN1NWS7N98J9JWVN85AY2KE, 3/20: 100%|██████████| 10/10 [00:09<00:00,  1.01it/s]\n",
      "Round 01JDN2NAXAFG09SBTW0SG2QQM6, 4/20: 100%|██████████| 5/5 [00:04<00:00,  1.17it/s]\n",
      "Round 01JDN32SA1YJMXY3MYS8TRHFEF, 5/20: 100%|██████████| 9/9 [00:09<00:00,  1.01s/it]\n",
      "Round 01JDN4116HF7HQJSHNS8HEK3NE, 6/20: 100%|██████████| 3/3 [00:02<00:00,  1.22it/s]\n",
      "Round 01JDN4BVCA333MJVYBCWFZDZ9S, 7/20: 100%|██████████| 14/14 [00:13<00:00,  1.00it/s]\n",
      "Round 01JFFXS7501ZW3RJWXE41K08B4, 8/20: 100%|██████████| 5/5 [00:02<00:00,  2.40it/s]\n",
      "Round 01JFFYG6CZEQJMAWZEAS0HQ2FJ, 9/20: 100%|██████████| 2/2 [00:01<00:00,  1.45it/s]\n",
      "Round 01JFFZ7SH7BGCW6HCDTH6WHHPP, 10/20: 100%|██████████| 4/4 [00:02<00:00,  1.54it/s]\n",
      "Round 01JG2RXQ8TFT1754V71A4WJ60M, 11/20: 100%|██████████| 3/3 [00:01<00:00,  1.71it/s]\n",
      "Round 01JJ5TAGBMX5JXPQQ2AY5BBSMQ, 12/20: 100%|██████████| 3/3 [00:02<00:00,  1.37it/s]\n",
      "Round 01JJ7XE7JD29BEKTD8K2YMZW8B, 13/20:  25%|██▌       | 1/4 [00:00<00:01,  2.50it/s]"
     ]
    },
    {
     "name": "stdout",
     "output_type": "stream",
     "text": [
      "Error with decision id 15\n",
      "Error with decision id 17\n"
     ]
    },
    {
     "name": "stderr",
     "output_type": "stream",
     "text": [
      "Round 01JJ7XE7JD29BEKTD8K2YMZW8B, 13/20: 100%|██████████| 4/4 [00:02<00:00,  1.41it/s]\n",
      "Round 01JJ87SRSC9J8DPQ3QR4PHD1NS, 14/20: 100%|██████████| 2/2 [00:01<00:00,  1.28it/s]\n",
      "Round 01JJ8BHRK7THZ5A14XESXTCCJZ, 15/20:   0%|          | 0/4 [00:00<?, ?it/s]"
     ]
    },
    {
     "name": "stdout",
     "output_type": "stream",
     "text": [
      "Error with decision id 32\n"
     ]
    },
    {
     "name": "stderr",
     "output_type": "stream",
     "text": [
      "Round 01JJ8BHRK7THZ5A14XESXTCCJZ, 15/20: 100%|██████████| 4/4 [00:02<00:00,  1.45it/s]\n",
      "Round 01JJWZGGF9SQ6RKQ80Z1KY7MGA, 16/20:   0%|          | 0/3 [00:00<?, ?it/s]"
     ]
    },
    {
     "name": "stdout",
     "output_type": "stream",
     "text": [
      "Error with decision id 1\n"
     ]
    },
    {
     "name": "stderr",
     "output_type": "stream",
     "text": [
      "Round 01JJWZGGF9SQ6RKQ80Z1KY7MGA, 16/20:  33%|███▎      | 1/3 [00:00<00:01,  1.31it/s]"
     ]
    },
    {
     "name": "stdout",
     "output_type": "stream",
     "text": [
      "Error with decision id 1\n"
     ]
    },
    {
     "name": "stderr",
     "output_type": "stream",
     "text": [
      "Round 01JJWZGGF9SQ6RKQ80Z1KY7MGA, 16/20:  67%|██████▋   | 2/3 [00:01<00:00,  1.51it/s]"
     ]
    },
    {
     "name": "stdout",
     "output_type": "stream",
     "text": [
      "Error with decision id 1\n"
     ]
    },
    {
     "name": "stderr",
     "output_type": "stream",
     "text": [
      "Round 01JJWZGGF9SQ6RKQ80Z1KY7MGA, 16/20: 100%|██████████| 3/3 [00:01<00:00,  1.60it/s]\n",
      "Round 01JJX4GHN3HRHC824G30W9WG71, 17/20: 100%|██████████| 11/11 [00:09<00:00,  1.21it/s]\n",
      "Round 01JJX5ZAZ3M6RG9F3ZCB0H4SBY, 18/20: 100%|██████████| 8/8 [00:04<00:00,  1.66it/s]\n"
     ]
    },
    {
     "name": "stdout",
     "output_type": "stream",
     "text": [
      "Accuracy: 0.69\n",
      "Benchmarking CodeSpotterModel with language model gpt-4o, COT: True\n"
     ]
    },
    {
     "name": "stderr",
     "output_type": "stream",
     "text": [
      "Round 01JDMZVSGBA3PJBC5AY3SB613R, 1/20: 100%|██████████| 9/9 [01:06<00:00,  7.42s/it]\n",
      "Round 01JDN0YJBF5TJSXNKP39DX8EXN, 2/20: 100%|██████████| 1/1 [00:03<00:00,  3.08s/it]\n",
      "Round 01JDN1NWS7N98J9JWVN85AY2KE, 3/20: 100%|██████████| 10/10 [00:54<00:00,  5.46s/it]\n",
      "Round 01JDN2NAXAFG09SBTW0SG2QQM6, 4/20: 100%|██████████| 5/5 [00:33<00:00,  6.75s/it]\n",
      "Round 01JDN32SA1YJMXY3MYS8TRHFEF, 5/20: 100%|██████████| 9/9 [01:08<00:00,  7.62s/it]\n",
      "Round 01JDN4116HF7HQJSHNS8HEK3NE, 6/20: 100%|██████████| 3/3 [00:22<00:00,  7.62s/it]\n",
      "Round 01JDN4BVCA333MJVYBCWFZDZ9S, 7/20: 100%|██████████| 14/14 [01:49<00:00,  7.84s/it]\n",
      "Round 01JFFXS7501ZW3RJWXE41K08B4, 8/20: 100%|██████████| 5/5 [00:19<00:00,  3.86s/it]\n",
      "Round 01JFFYG6CZEQJMAWZEAS0HQ2FJ, 9/20: 100%|██████████| 2/2 [00:09<00:00,  4.76s/it]\n",
      "Round 01JFFZ7SH7BGCW6HCDTH6WHHPP, 10/20: 100%|██████████| 4/4 [00:42<00:00, 10.68s/it]\n",
      "Round 01JG2RXQ8TFT1754V71A4WJ60M, 11/20: 100%|██████████| 3/3 [00:15<00:00,  5.21s/it]\n",
      "Round 01JJ5TAGBMX5JXPQQ2AY5BBSMQ, 12/20: 100%|██████████| 3/3 [00:11<00:00,  3.91s/it]\n",
      "Round 01JJ7XE7JD29BEKTD8K2YMZW8B, 13/20:  25%|██▌       | 1/4 [00:05<00:16,  5.53s/it]"
     ]
    },
    {
     "name": "stdout",
     "output_type": "stream",
     "text": [
      "Error with decision id 15\n",
      "Error with decision id 17\n"
     ]
    },
    {
     "name": "stderr",
     "output_type": "stream",
     "text": [
      "Round 01JJ7XE7JD29BEKTD8K2YMZW8B, 13/20: 100%|██████████| 4/4 [00:18<00:00,  4.59s/it]\n",
      "Round 01JJ87SRSC9J8DPQ3QR4PHD1NS, 14/20: 100%|██████████| 2/2 [00:10<00:00,  5.15s/it]\n",
      "Round 01JJ8BHRK7THZ5A14XESXTCCJZ, 15/20:   0%|          | 0/4 [00:00<?, ?it/s]"
     ]
    },
    {
     "name": "stdout",
     "output_type": "stream",
     "text": [
      "Error with decision id 32\n"
     ]
    },
    {
     "name": "stderr",
     "output_type": "stream",
     "text": [
      "Round 01JJ8BHRK7THZ5A14XESXTCCJZ, 15/20: 100%|██████████| 4/4 [00:15<00:00,  3.87s/it]\n",
      "Round 01JJWZGGF9SQ6RKQ80Z1KY7MGA, 16/20:   0%|          | 0/3 [00:00<?, ?it/s]"
     ]
    },
    {
     "name": "stdout",
     "output_type": "stream",
     "text": [
      "Error with decision id 1\n"
     ]
    },
    {
     "name": "stderr",
     "output_type": "stream",
     "text": [
      "Round 01JJWZGGF9SQ6RKQ80Z1KY7MGA, 16/20:  33%|███▎      | 1/3 [00:06<00:12,  6.28s/it]"
     ]
    },
    {
     "name": "stdout",
     "output_type": "stream",
     "text": [
      "Error with decision id 1\n"
     ]
    },
    {
     "name": "stderr",
     "output_type": "stream",
     "text": [
      "Round 01JJWZGGF9SQ6RKQ80Z1KY7MGA, 16/20:  67%|██████▋   | 2/3 [00:10<00:05,  5.14s/it]"
     ]
    },
    {
     "name": "stdout",
     "output_type": "stream",
     "text": [
      "Error with decision id 1\n"
     ]
    },
    {
     "name": "stderr",
     "output_type": "stream",
     "text": [
      "Round 01JJWZGGF9SQ6RKQ80Z1KY7MGA, 16/20: 100%|██████████| 3/3 [00:15<00:00,  5.18s/it]\n",
      "Round 01JJX4GHN3HRHC824G30W9WG71, 17/20: 100%|██████████| 11/11 [01:03<00:00,  5.73s/it]\n",
      "Round 01JJX5ZAZ3M6RG9F3ZCB0H4SBY, 18/20: 100%|██████████| 8/8 [00:33<00:00,  4.21s/it]\n"
     ]
    },
    {
     "name": "stdout",
     "output_type": "stream",
     "text": [
      "Accuracy: 0.9081632653061225\n",
      "Benchmarking CodeSpotterModel with language model gpt-4o, COT: False\n"
     ]
    },
    {
     "name": "stderr",
     "output_type": "stream",
     "text": [
      "Round 01JDMZVSGBA3PJBC5AY3SB613R, 1/20: 100%|██████████| 9/9 [00:17<00:00,  1.93s/it]\n",
      "Round 01JDN0YJBF5TJSXNKP39DX8EXN, 2/20: 100%|██████████| 1/1 [00:01<00:00,  1.04s/it]\n",
      "Round 01JDN1NWS7N98J9JWVN85AY2KE, 3/20: 100%|██████████| 10/10 [00:11<00:00,  1.11s/it]\n",
      "Round 01JDN2NAXAFG09SBTW0SG2QQM6, 4/20: 100%|██████████| 5/5 [00:05<00:00,  1.16s/it]\n",
      "Round 01JDN32SA1YJMXY3MYS8TRHFEF, 5/20: 100%|██████████| 9/9 [00:11<00:00,  1.32s/it]\n",
      "Round 01JDN4116HF7HQJSHNS8HEK3NE, 6/20: 100%|██████████| 3/3 [00:06<00:00,  2.22s/it]\n",
      "Round 01JDN4BVCA333MJVYBCWFZDZ9S, 7/20: 100%|██████████| 14/14 [00:22<00:00,  1.64s/it]\n",
      "Round 01JFFXS7501ZW3RJWXE41K08B4, 8/20: 100%|██████████| 5/5 [00:04<00:00,  1.04it/s]\n",
      "Round 01JFFYG6CZEQJMAWZEAS0HQ2FJ, 9/20: 100%|██████████| 2/2 [00:01<00:00,  1.05it/s]\n",
      "Round 01JFFZ7SH7BGCW6HCDTH6WHHPP, 10/20: 100%|██████████| 4/4 [00:03<00:00,  1.06it/s]\n",
      "Round 01JG2RXQ8TFT1754V71A4WJ60M, 11/20: 100%|██████████| 3/3 [00:04<00:00,  1.37s/it]\n",
      "Round 01JJ5TAGBMX5JXPQQ2AY5BBSMQ, 12/20: 100%|██████████| 3/3 [00:04<00:00,  1.38s/it]\n",
      "Round 01JJ7XE7JD29BEKTD8K2YMZW8B, 13/20:  25%|██▌       | 1/4 [00:00<00:02,  1.07it/s]"
     ]
    },
    {
     "name": "stdout",
     "output_type": "stream",
     "text": [
      "Error with decision id 15\n",
      "Error with decision id 17\n"
     ]
    },
    {
     "name": "stderr",
     "output_type": "stream",
     "text": [
      "Round 01JJ7XE7JD29BEKTD8K2YMZW8B, 13/20: 100%|██████████| 4/4 [00:04<00:00,  1.15s/it]\n",
      "Round 01JJ87SRSC9J8DPQ3QR4PHD1NS, 14/20: 100%|██████████| 2/2 [00:04<00:00,  2.00s/it]\n",
      "Round 01JJ8BHRK7THZ5A14XESXTCCJZ, 15/20:   0%|          | 0/4 [00:00<?, ?it/s]"
     ]
    },
    {
     "name": "stdout",
     "output_type": "stream",
     "text": [
      "Error with decision id 32\n"
     ]
    },
    {
     "name": "stderr",
     "output_type": "stream",
     "text": [
      "Round 01JJ8BHRK7THZ5A14XESXTCCJZ, 15/20: 100%|██████████| 4/4 [00:04<00:00,  1.05s/it]\n",
      "Round 01JJWZGGF9SQ6RKQ80Z1KY7MGA, 16/20:   0%|          | 0/3 [00:00<?, ?it/s]"
     ]
    },
    {
     "name": "stdout",
     "output_type": "stream",
     "text": [
      "Error with decision id 1\n"
     ]
    },
    {
     "name": "stderr",
     "output_type": "stream",
     "text": [
      "Round 01JJWZGGF9SQ6RKQ80Z1KY7MGA, 16/20:  33%|███▎      | 1/3 [00:01<00:02,  1.41s/it]"
     ]
    },
    {
     "name": "stdout",
     "output_type": "stream",
     "text": [
      "Error with decision id 1\n"
     ]
    },
    {
     "name": "stderr",
     "output_type": "stream",
     "text": [
      "Round 01JJWZGGF9SQ6RKQ80Z1KY7MGA, 16/20:  67%|██████▋   | 2/3 [00:02<00:01,  1.27s/it]"
     ]
    },
    {
     "name": "stdout",
     "output_type": "stream",
     "text": [
      "Error with decision id 1\n"
     ]
    },
    {
     "name": "stderr",
     "output_type": "stream",
     "text": [
      "Round 01JJWZGGF9SQ6RKQ80Z1KY7MGA, 16/20: 100%|██████████| 3/3 [00:03<00:00,  1.18s/it]\n",
      "Round 01JJX4GHN3HRHC824G30W9WG71, 17/20: 100%|██████████| 11/11 [00:16<00:00,  1.51s/it]\n",
      "Round 01JJX5ZAZ3M6RG9F3ZCB0H4SBY, 18/20: 100%|██████████| 8/8 [00:15<00:00,  1.88s/it]"
     ]
    },
    {
     "name": "stdout",
     "output_type": "stream",
     "text": [
      "Accuracy: 0.84375\n"
     ]
    },
    {
     "name": "stderr",
     "output_type": "stream",
     "text": [
      "\n"
     ]
    }
   ],
   "source": [
    "import numpy as np\n",
    "import pandas as pd\n",
    "import matplotlib.pyplot as plt\n",
    "\n",
    "# We'll store the accuracy results in a dictionary:\n",
    "# Key: language model string\n",
    "# Value: list of accuracies [DirectSpotter, CodeSpotterModel]\n",
    "results = {\"language_model\":[],\"spotter_model\":[],\"accuracy\":[],\"cot\":[]}\n",
    "QUESTIONS = 20\n",
    "ROUNDS = 20\n",
    "\n",
    "cot_list = [True, False]\n",
    "spotter_models = [DirectSpotterModel, CodeSpotterModel]\n",
    "language_models = [\"gpt-4o\"]\n",
    "\n",
    "for llm in language_models:\n",
    "        for spotter in spotter_models:\n",
    "                for cot_option in cot_list:\n",
    "                        print(f\"Benchmarking {spotter.__name__} with language model {llm}, COT: {cot_option}\")\n",
    "                        accuracy, failed = benchmark_on_rounds(\n",
    "                                df=df,\n",
    "                                rounds_question_ids=rounds_questions_dict,\n",
    "                                model=spotter,\n",
    "                                model_string=llm,\n",
    "                                max_rounds=ROUNDS,\n",
    "                                max_questions=QUESTIONS,\n",
    "                                cache_mode=CacheMode.WRITE_ONLY,\n",
    "                                use_cot=cot_option,\n",
    "                                use_history=True,\n",
    "                        )\n",
    "                        results[\"language_model\"].append(llm)\n",
    "                        results[\"spotter_model\"].append(spotter.__name__)\n",
    "                        results[\"cot\"].append(cot_option)\n",
    "                        results[\"accuracy\"].append(accuracy)\n",
    "                        print(f\"Accuracy: {accuracy}\")\n",
    "\n",
    "# Convert the results to a df for easier manipulation\n",
    "results_df = pd.DataFrame(results)"
   ]
  },
  {
   "cell_type": "code",
   "execution_count": 14,
   "metadata": {},
   "outputs": [
    {
     "data": {
      "text/html": [
       "<div>\n",
       "<style scoped>\n",
       "    .dataframe tbody tr th:only-of-type {\n",
       "        vertical-align: middle;\n",
       "    }\n",
       "\n",
       "    .dataframe tbody tr th {\n",
       "        vertical-align: top;\n",
       "    }\n",
       "\n",
       "    .dataframe thead th {\n",
       "        text-align: right;\n",
       "    }\n",
       "</style>\n",
       "<table border=\"1\" class=\"dataframe\">\n",
       "  <thead>\n",
       "    <tr style=\"text-align: right;\">\n",
       "      <th></th>\n",
       "      <th>language_model</th>\n",
       "      <th>spotter_model</th>\n",
       "      <th>accuracy</th>\n",
       "      <th>cot</th>\n",
       "    </tr>\n",
       "  </thead>\n",
       "  <tbody>\n",
       "    <tr>\n",
       "      <th>0</th>\n",
       "      <td>gpt-4o</td>\n",
       "      <td>DirectSpotterModel</td>\n",
       "      <td>0.870000</td>\n",
       "      <td>True</td>\n",
       "    </tr>\n",
       "    <tr>\n",
       "      <th>1</th>\n",
       "      <td>gpt-4o</td>\n",
       "      <td>DirectSpotterModel</td>\n",
       "      <td>0.690000</td>\n",
       "      <td>False</td>\n",
       "    </tr>\n",
       "    <tr>\n",
       "      <th>2</th>\n",
       "      <td>gpt-4o</td>\n",
       "      <td>CodeSpotterModel</td>\n",
       "      <td>0.908163</td>\n",
       "      <td>True</td>\n",
       "    </tr>\n",
       "    <tr>\n",
       "      <th>3</th>\n",
       "      <td>gpt-4o</td>\n",
       "      <td>CodeSpotterModel</td>\n",
       "      <td>0.843750</td>\n",
       "      <td>False</td>\n",
       "    </tr>\n",
       "  </tbody>\n",
       "</table>\n",
       "</div>"
      ],
      "text/plain": [
       "  language_model       spotter_model  accuracy    cot\n",
       "0         gpt-4o  DirectSpotterModel  0.870000   True\n",
       "1         gpt-4o  DirectSpotterModel  0.690000  False\n",
       "2         gpt-4o    CodeSpotterModel  0.908163   True\n",
       "3         gpt-4o    CodeSpotterModel  0.843750  False"
      ]
     },
     "execution_count": 14,
     "metadata": {},
     "output_type": "execute_result"
    }
   ],
   "source": [
    "results_df = pd.DataFrame(results)\n",
    "results_df"
   ]
  },
  {
   "cell_type": "code",
   "execution_count": 15,
   "metadata": {},
   "outputs": [
    {
     "data": {
      "image/png": "[encoded data removed]",
      "text/plain": [
       "<Figure size 1000x600 with 1 Axes>"
      ]
     },
     "metadata": {},
     "output_type": "display_data"
    }
   ],
   "source": [
    "import seaborn as sns\n",
    "\n",
    "# Create a bar plot to visualize the accuracy by spotter model and COT\n",
    "plt.figure(figsize=(10, 6))\n",
    "sns.barplot(\n",
    "    data=results_df,\n",
    "    x=\"spotter_model\",\n",
    "    y=\"accuracy\",\n",
    "    hue=\"cot\",\n",
    "    palette=\"viridis\"\n",
    ")\n",
    "\n",
    "# Add labels and title\n",
    "plt.title(\"Accuracy by Spotter Model and COT\")\n",
    "plt.xlabel(\"Spotter Model\")\n",
    "plt.ylabel(\"Accuracy\")\n",
    "plt.ylim((0,1))\n",
    "plt.legend(title=\"COT\")\n",
    "plt.tight_layout()\n",
    "plt.show()"
   ]
  },
  {
   "cell_type": "code",
   "execution_count": 8,
   "metadata": {},
   "outputs": [
    {
     "ename": "KeyError",
     "evalue": "'gpt-4o'",
     "output_type": "error",
     "traceback": [
      "\u001b[0;31m---------------------------------------------------------------------------\u001b[0m",
      "\u001b[0;31mKeyError\u001b[0m                                  Traceback (most recent call last)",
      "Cell \u001b[0;32mIn[8], line 9\u001b[0m\n\u001b[1;32m      6\u001b[0m fig, ax \u001b[38;5;241m=\u001b[39m plt\u001b[38;5;241m.\u001b[39msubplots(figsize\u001b[38;5;241m=\u001b[39m(\u001b[38;5;241m8\u001b[39m, \u001b[38;5;241m6\u001b[39m))\n\u001b[1;32m      8\u001b[0m \u001b[38;5;66;03m# For each language model, the first element is for DirectSpotter and the second for CodeSpotterModel.\u001b[39;00m\n\u001b[0;32m----> 9\u001b[0m direct \u001b[38;5;241m=\u001b[39m [\u001b[43mresults\u001b[49m\u001b[43m[\u001b[49m\u001b[43ml\u001b[49m\u001b[43m]\u001b[49m[\u001b[38;5;241m0\u001b[39m] \u001b[38;5;28;01mfor\u001b[39;00m l \u001b[38;5;129;01min\u001b[39;00m labels]\n\u001b[1;32m     10\u001b[0m code \u001b[38;5;241m=\u001b[39m [results[l][\u001b[38;5;241m1\u001b[39m] \u001b[38;5;28;01mfor\u001b[39;00m l \u001b[38;5;129;01min\u001b[39;00m labels]\n\u001b[1;32m     13\u001b[0m rects1 \u001b[38;5;241m=\u001b[39m ax\u001b[38;5;241m.\u001b[39mbar(x \u001b[38;5;241m-\u001b[39m width\u001b[38;5;241m/\u001b[39m\u001b[38;5;241m2\u001b[39m, direct, width, label\u001b[38;5;241m=\u001b[39m\u001b[38;5;124m'\u001b[39m\u001b[38;5;124mDirectSpotter\u001b[39m\u001b[38;5;124m'\u001b[39m)\n",
      "\u001b[0;31mKeyError\u001b[0m: 'gpt-4o'"
     ]
    },
    {
     "data": {
      "image/png": "[encoded data removed]",
      "text/plain": [
       "<Figure size 800x600 with 1 Axes>"
      ]
     },
     "metadata": {},
     "output_type": "display_data"
    }
   ],
   "source": [
    "# Prepare data for the plot\n",
    "labels = language_models\n",
    "x = np.arange(len(labels))  # positions for language models on x-axis\n",
    "width = 0.35  # width of each bar\n",
    "\n",
    "fig, ax = plt.subplots(figsize=(8, 6))\n",
    "\n",
    "# For each language model, the first element is for DirectSpotter and the second for CodeSpotterModel.\n",
    "direct = [results[l][0] for l in labels]\n",
    "code = [results[l][1] for l in labels]\n",
    "\n",
    "\n",
    "rects1 = ax.bar(x - width/2, direct, width, label='DirectSpotter')\n",
    "rects2 = ax.bar(x + width/2, code, width, label='CodeSpotterModel')\n",
    "\n",
    "ax.set_ylabel('Accuracy')\n",
    "ax.set_title('Accuracy by Language Model and Spotter Model')\n",
    "ax.set_xticks(x)\n",
    "ax.set_xticklabels(labels, rotation=45)\n",
    "ax.legend()\n",
    "\n",
    "# Annotate bars with the accuracy values.\n",
    "def autolabel(rects):\n",
    "        for rect in rects:\n",
    "                height = rect.get_height()\n",
    "                ax.annotate(f'{height:.2f}',\n",
    "                                        xy=(rect.get_x() + rect.get_width() / 2, height),\n",
    "                                        xytext=(0, 3),  # vertical offset in points\n",
    "                                        textcoords=\"offset points\",\n",
    "                                        ha='center', va='bottom')\n",
    "\n",
    "autolabel(rects1)\n",
    "autolabel(rects2)\n",
    "\n",
    "plt.tight_layout()\n",
    "plt.show()"
   ]
  }
 ],
 "metadata": {
  "kernelspec": {
   "display_name": "battleship-7EcZJYqU-py3.12",
   "language": "python",
   "name": "python3"
  },
  "language_info": {
   "codemirror_mode": {
    "name": "ipython",
    "version": 3
   },
   "file_extension": ".py",
   "mimetype": "text/x-python",
   "name": "python",
   "nbconvert_exporter": "python",
   "pygments_lexer": "ipython3",
   "version": "3.12.2"
  }
 },
 "nbformat": 4,
 "nbformat_minor": 2
}
