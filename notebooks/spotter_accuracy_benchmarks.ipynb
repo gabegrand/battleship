{
 "cells": [
  {
   "cell_type": "code",
   "execution_count": 3,
   "metadata": {},
   "outputs": [],
   "source": [
    "import sys\n",
    "import os\n",
    "sys.path.append(os.path.abspath(os.path.join(os.getcwd(), \"..\", \"battleship\")))\n",
    "\n",
    "from spotter_model import CodeSpotterModel\n",
    "from spotter_model import DirectSpotterModel\n",
    "from run_spotter_benchmarks import load_data, benchmark_on_rounds\n",
    "\n",
    "df, rounds_questions_dict = load_data(\n",
    "        stages_path=\"/home/ubuntu/repo_battleship/temp/gold_annotations_partial.csv\",\n",
    "        rounds_path=\"/home/ubuntu/repo_battleship/battleship/experiments/collaborative/battleship-final-data/round.csv\",\n",
    "        goldAnnotations=[\"answer\", \"ambiguous\", \"contextual\", \"unanswerable\"],\n",
    "    )"
   ]
  },
  {
   "cell_type": "code",
   "execution_count": 6,
   "metadata": {},
   "outputs": [
    {
     "name": "stdout",
     "output_type": "stream",
     "text": [
      "Benchmarking DirectSpotterModel with language model openai/gpt-4o\n"
     ]
    },
    {
     "name": "stderr",
     "output_type": "stream",
     "text": [
      "Round 01JDMZVSGBA3PJBC5AY3SB613R, 1/21: 100%|██████████| 9/9 [00:00<00:00, 108.66it/s]\n",
      "Round 01JDN0YJBF5TJSXNKP39DX8EXN, 2/21: 100%|██████████| 1/1 [00:00<00:00, 516.54it/s]\n",
      "Round 01JDN1NWS7N98J9JWVN85AY2KE, 3/21: 100%|██████████| 10/10 [00:00<00:00, 107.27it/s]\n",
      "Round 01JDN2NAXAFG09SBTW0SG2QQM6, 4/21: 100%|██████████| 5/5 [00:00<00:00, 128.72it/s]\n",
      "Round 01JDN32SA1YJMXY3MYS8TRHFEF, 5/21: 100%|██████████| 9/9 [00:00<00:00, 99.92it/s]\n",
      "Round 01JDN4116HF7HQJSHNS8HEK3NE, 6/21: 100%|██████████| 3/3 [00:00<00:00, 191.48it/s]\n",
      "Round 01JDN4BVCA333MJVYBCWFZDZ9S, 7/21: 100%|██████████| 10/10 [00:00<00:00, 215.37it/s]\n",
      "Round 01JFFXS7501ZW3RJWXE41K08B4, 8/21: 100%|██████████| 5/5 [00:00<00:00, 167.75it/s]\n",
      "Round 01JFFYG6CZEQJMAWZEAS0HQ2FJ, 9/21: 100%|██████████| 2/2 [00:00<00:00, 94.14it/s]\n",
      "Round 01JFFZ7SH7BGCW6HCDTH6WHHPP, 10/21: 100%|██████████| 4/4 [00:00<00:00, 98.27it/s]\n",
      "Round 01JG2RXQ8TFT1754V71A4WJ60M, 11/21: 100%|██████████| 3/3 [00:00<00:00, 98.32it/s]\n",
      "Round 01JJ5TAGBMX5JXPQQ2AY5BBSMQ, 12/21: 100%|██████████| 3/3 [00:00<00:00, 95.89it/s]\n",
      "Round 01JJ7XE7JD29BEKTD8K2YMZW8B, 13/21: 100%|██████████| 4/4 [00:00<00:00, 186.11it/s]\n"
     ]
    },
    {
     "name": "stdout",
     "output_type": "stream",
     "text": [
      "Error with decision id 15\n",
      "Error with decision id 17\n"
     ]
    },
    {
     "name": "stderr",
     "output_type": "stream",
     "text": [
      "Round 01JJ87SRSC9J8DPQ3QR4PHD1NS, 14/21: 100%|██████████| 2/2 [00:00<00:00, 99.48it/s]\n",
      "Round 01JJ8BHRK7THZ5A14XESXTCCJZ, 15/21: 100%|██████████| 4/4 [00:00<00:00, 167.14it/s]\n"
     ]
    },
    {
     "name": "stdout",
     "output_type": "stream",
     "text": [
      "Error with decision id 32\n"
     ]
    },
    {
     "name": "stderr",
     "output_type": "stream",
     "text": [
      "Round 01JJWZGGF9SQ6RKQ80Z1KY7MGA, 16/21: 100%|██████████| 3/3 [00:00<00:00, 102.05it/s]\n"
     ]
    },
    {
     "name": "stdout",
     "output_type": "stream",
     "text": [
      "Error with decision id 1\n",
      "Error with decision id 1\n",
      "Error with decision id 1\n"
     ]
    },
    {
     "name": "stderr",
     "output_type": "stream",
     "text": [
      "Round 01JJX4GHN3HRHC824G30W9WG71, 17/21: 100%|██████████| 10/10 [00:00<00:00, 178.05it/s]\n",
      "Round 01JJX5ZAZ3M6RG9F3ZCB0H4SBY, 18/21: 100%|██████████| 8/8 [00:00<00:00, 195.41it/s]\n"
     ]
    },
    {
     "name": "stdout",
     "output_type": "stream",
     "text": [
      "Accuracy: 0.7684210526315789\n",
      "Benchmarking CodeSpotterModel with language model openai/gpt-4o\n"
     ]
    },
    {
     "name": "stderr",
     "output_type": "stream",
     "text": [
      "Round 01JDMZVSGBA3PJBC5AY3SB613R, 1/21: 100%|██████████| 9/9 [00:00<00:00, 115.40it/s]\n",
      "Round 01JDN0YJBF5TJSXNKP39DX8EXN, 2/21: 100%|██████████| 1/1 [00:00<00:00, 555.17it/s]\n",
      "Round 01JDN1NWS7N98J9JWVN85AY2KE, 3/21: 100%|██████████| 10/10 [00:00<00:00, 104.66it/s]\n",
      "Round 01JDN2NAXAFG09SBTW0SG2QQM6, 4/21: 100%|██████████| 5/5 [00:00<00:00, 118.09it/s]\n",
      "Round 01JDN32SA1YJMXY3MYS8TRHFEF, 5/21: 100%|██████████| 9/9 [00:00<00:00, 93.91it/s]\n",
      "Round 01JDN4116HF7HQJSHNS8HEK3NE, 6/21: 100%|██████████| 3/3 [00:00<00:00, 188.79it/s]\n",
      "Round 01JDN4BVCA333MJVYBCWFZDZ9S, 7/21: 100%|██████████| 10/10 [00:00<00:00, 168.69it/s]\n",
      "Round 01JFFXS7501ZW3RJWXE41K08B4, 8/21: 100%|██████████| 5/5 [00:00<00:00, 158.08it/s]\n",
      "Round 01JFFYG6CZEQJMAWZEAS0HQ2FJ, 9/21: 100%|██████████| 2/2 [00:00<00:00, 94.68it/s]\n",
      "Round 01JFFZ7SH7BGCW6HCDTH6WHHPP, 10/21: 100%|██████████| 4/4 [00:00<00:00, 110.99it/s]\n",
      "Round 01JG2RXQ8TFT1754V71A4WJ60M, 11/21: 100%|██████████| 3/3 [00:00<00:00, 83.80it/s]\n",
      "Round 01JJ5TAGBMX5JXPQQ2AY5BBSMQ, 12/21: 100%|██████████| 3/3 [00:00<00:00, 125.96it/s]\n",
      "Round 01JJ7XE7JD29BEKTD8K2YMZW8B, 13/21: 100%|██████████| 4/4 [00:00<00:00, 248.61it/s]\n"
     ]
    },
    {
     "name": "stdout",
     "output_type": "stream",
     "text": [
      "Error with decision id 15\n",
      "Error with decision id 17\n"
     ]
    },
    {
     "name": "stderr",
     "output_type": "stream",
     "text": [
      "Round 01JJ87SRSC9J8DPQ3QR4PHD1NS, 14/21: 100%|██████████| 2/2 [00:00<00:00, 85.65it/s]\n",
      "Round 01JJ8BHRK7THZ5A14XESXTCCJZ, 15/21: 100%|██████████| 4/4 [00:00<00:00, 199.42it/s]\n"
     ]
    },
    {
     "name": "stdout",
     "output_type": "stream",
     "text": [
      "Error with decision id 32\n"
     ]
    },
    {
     "name": "stderr",
     "output_type": "stream",
     "text": [
      "Round 01JJWZGGF9SQ6RKQ80Z1KY7MGA, 16/21: 100%|██████████| 3/3 [00:00<00:00, 96.16it/s]\n"
     ]
    },
    {
     "name": "stdout",
     "output_type": "stream",
     "text": [
      "Error with decision id 1\n",
      "Error with decision id 1\n",
      "Error with decision id 1\n"
     ]
    },
    {
     "name": "stderr",
     "output_type": "stream",
     "text": [
      "Round 01JJX4GHN3HRHC824G30W9WG71, 17/21: 100%|██████████| 10/10 [00:00<00:00, 194.77it/s]\n",
      "Round 01JJX5ZAZ3M6RG9F3ZCB0H4SBY, 18/21: 100%|██████████| 8/8 [00:00<00:00, 206.92it/s]\n"
     ]
    },
    {
     "name": "stdout",
     "output_type": "stream",
     "text": [
      "Accuracy: 0.7789473684210526\n",
      "Benchmarking DirectSpotterModel with language model anthropic/claude-3.5-sonnet\n"
     ]
    },
    {
     "name": "stderr",
     "output_type": "stream",
     "text": [
      "Round 01JDMZVSGBA3PJBC5AY3SB613R, 1/21: 100%|██████████| 9/9 [00:00<00:00, 105.27it/s]\n",
      "Round 01JDN0YJBF5TJSXNKP39DX8EXN, 2/21: 100%|██████████| 1/1 [00:00<00:00, 426.42it/s]\n",
      "Round 01JDN1NWS7N98J9JWVN85AY2KE, 3/21: 100%|██████████| 10/10 [00:00<00:00, 99.13it/s]\n",
      "Round 01JDN2NAXAFG09SBTW0SG2QQM6, 4/21: 100%|██████████| 5/5 [00:00<00:00, 141.93it/s]\n",
      "Round 01JDN32SA1YJMXY3MYS8TRHFEF, 5/21: 100%|██████████| 9/9 [00:00<00:00, 123.25it/s]\n",
      "Round 01JDN4116HF7HQJSHNS8HEK3NE, 6/21: 100%|██████████| 3/3 [00:00<00:00, 246.92it/s]\n",
      "Round 01JDN4BVCA333MJVYBCWFZDZ9S, 7/21: 100%|██████████| 10/10 [00:00<00:00, 287.92it/s]\n",
      "Round 01JFFXS7501ZW3RJWXE41K08B4, 8/21: 100%|██████████| 5/5 [00:00<00:00, 189.26it/s]\n",
      "Round 01JFFYG6CZEQJMAWZEAS0HQ2FJ, 9/21: 100%|██████████| 2/2 [00:00<00:00, 120.28it/s]\n",
      "Round 01JFFZ7SH7BGCW6HCDTH6WHHPP, 10/21: 100%|██████████| 4/4 [00:00<00:00, 114.56it/s]\n",
      "Round 01JG2RXQ8TFT1754V71A4WJ60M, 11/21: 100%|██████████| 3/3 [00:00<00:00, 93.60it/s]\n",
      "Round 01JJ5TAGBMX5JXPQQ2AY5BBSMQ, 12/21: 100%|██████████| 3/3 [00:00<00:00, 161.78it/s]\n",
      "Round 01JJ7XE7JD29BEKTD8K2YMZW8B, 13/21: 100%|██████████| 4/4 [00:00<00:00, 287.41it/s]\n"
     ]
    },
    {
     "name": "stdout",
     "output_type": "stream",
     "text": [
      "Error with decision id 15\n",
      "Error with decision id 17\n"
     ]
    },
    {
     "name": "stderr",
     "output_type": "stream",
     "text": [
      "Round 01JJ87SRSC9J8DPQ3QR4PHD1NS, 14/21: 100%|██████████| 2/2 [00:00<00:00, 103.64it/s]\n",
      "Round 01JJ8BHRK7THZ5A14XESXTCCJZ, 15/21: 100%|██████████| 4/4 [00:00<00:00, 197.51it/s]\n"
     ]
    },
    {
     "name": "stdout",
     "output_type": "stream",
     "text": [
      "Error with decision id 32\n"
     ]
    },
    {
     "name": "stderr",
     "output_type": "stream",
     "text": [
      "Round 01JJWZGGF9SQ6RKQ80Z1KY7MGA, 16/21: 100%|██████████| 3/3 [00:00<00:00, 158.41it/s]\n"
     ]
    },
    {
     "name": "stdout",
     "output_type": "stream",
     "text": [
      "Error with decision id 1\n",
      "Error with decision id 1\n",
      "Error with decision id 1\n"
     ]
    },
    {
     "name": "stderr",
     "output_type": "stream",
     "text": [
      "Round 01JJX4GHN3HRHC824G30W9WG71, 17/21: 100%|██████████| 10/10 [00:00<00:00, 240.48it/s]\n",
      "Round 01JJX5ZAZ3M6RG9F3ZCB0H4SBY, 18/21: 100%|██████████| 8/8 [00:00<00:00, 248.83it/s]\n"
     ]
    },
    {
     "name": "stdout",
     "output_type": "stream",
     "text": [
      "Accuracy: 0.7578947368421053\n",
      "Benchmarking CodeSpotterModel with language model anthropic/claude-3.5-sonnet\n"
     ]
    },
    {
     "name": "stderr",
     "output_type": "stream",
     "text": [
      "Round 01JDMZVSGBA3PJBC5AY3SB613R, 1/21: 100%|██████████| 9/9 [00:00<00:00, 124.09it/s]\n",
      "Round 01JDN0YJBF5TJSXNKP39DX8EXN, 2/21: 100%|██████████| 1/1 [00:00<00:00, 657.83it/s]\n",
      "Round 01JDN1NWS7N98J9JWVN85AY2KE, 3/21: 100%|██████████| 10/10 [00:00<00:00, 125.94it/s]\n",
      "Round 01JDN2NAXAFG09SBTW0SG2QQM6, 4/21: 100%|██████████| 5/5 [00:00<00:00, 167.50it/s]\n",
      "Round 01JDN32SA1YJMXY3MYS8TRHFEF, 5/21: 100%|██████████| 9/9 [00:00<00:00, 125.76it/s]\n",
      "Round 01JDN4116HF7HQJSHNS8HEK3NE, 6/21: 100%|██████████| 3/3 [00:00<00:00, 250.24it/s]\n",
      "Round 01JDN4BVCA333MJVYBCWFZDZ9S, 7/21: 100%|██████████| 10/10 [00:00<00:00, 248.72it/s]\n",
      "Round 01JFFXS7501ZW3RJWXE41K08B4, 8/21: 100%|██████████| 5/5 [00:00<00:00, 226.17it/s]\n",
      "Round 01JFFYG6CZEQJMAWZEAS0HQ2FJ, 9/21: 100%|██████████| 2/2 [00:00<00:00, 141.49it/s]\n",
      "Round 01JFFZ7SH7BGCW6HCDTH6WHHPP, 10/21: 100%|██████████| 4/4 [00:00<00:00, 126.32it/s]\n",
      "Round 01JG2RXQ8TFT1754V71A4WJ60M, 11/21: 100%|██████████| 3/3 [00:00<00:00, 97.26it/s]\n",
      "Round 01JJ5TAGBMX5JXPQQ2AY5BBSMQ, 12/21: 100%|██████████| 3/3 [00:00<00:00, 151.58it/s]\n",
      "Round 01JJ7XE7JD29BEKTD8K2YMZW8B, 13/21: 100%|██████████| 4/4 [00:00<00:00, 236.85it/s]\n"
     ]
    },
    {
     "name": "stdout",
     "output_type": "stream",
     "text": [
      "Error with decision id 15\n",
      "Error with decision id 17\n"
     ]
    },
    {
     "name": "stderr",
     "output_type": "stream",
     "text": [
      "Round 01JJ87SRSC9J8DPQ3QR4PHD1NS, 14/21: 100%|██████████| 2/2 [00:00<00:00, 126.81it/s]\n",
      "Round 01JJ8BHRK7THZ5A14XESXTCCJZ, 15/21: 100%|██████████| 4/4 [00:00<00:00, 186.66it/s]\n"
     ]
    },
    {
     "name": "stdout",
     "output_type": "stream",
     "text": [
      "Error with decision id 32\n"
     ]
    },
    {
     "name": "stderr",
     "output_type": "stream",
     "text": [
      "Round 01JJWZGGF9SQ6RKQ80Z1KY7MGA, 16/21: 100%|██████████| 3/3 [00:00<00:00, 136.39it/s]\n"
     ]
    },
    {
     "name": "stdout",
     "output_type": "stream",
     "text": [
      "Error with decision id 1\n",
      "Error with decision id 1\n",
      "Error with decision id 1\n"
     ]
    },
    {
     "name": "stderr",
     "output_type": "stream",
     "text": [
      "Round 01JJX4GHN3HRHC824G30W9WG71, 17/21: 100%|██████████| 10/10 [00:00<00:00, 206.66it/s]\n",
      "Round 01JJX5ZAZ3M6RG9F3ZCB0H4SBY, 18/21: 100%|██████████| 8/8 [00:00<00:00, 225.94it/s]\n"
     ]
    },
    {
     "name": "stdout",
     "output_type": "stream",
     "text": [
      "Accuracy: 0.8\n",
      "Benchmarking DirectSpotterModel with language model meta-llama/llama-3.3-70b-instruct\n"
     ]
    },
    {
     "name": "stderr",
     "output_type": "stream",
     "text": [
      "Round 01JDMZVSGBA3PJBC5AY3SB613R, 1/21: 100%|██████████| 9/9 [00:00<00:00, 110.08it/s]\n",
      "Round 01JDN0YJBF5TJSXNKP39DX8EXN, 2/21: 100%|██████████| 1/1 [00:00<00:00, 580.37it/s]\n",
      "Round 01JDN1NWS7N98J9JWVN85AY2KE, 3/21: 100%|██████████| 10/10 [00:00<00:00, 110.97it/s]\n",
      "Round 01JDN2NAXAFG09SBTW0SG2QQM6, 4/21: 100%|██████████| 5/5 [00:00<00:00, 121.96it/s]\n",
      "Round 01JDN32SA1YJMXY3MYS8TRHFEF, 5/21: 100%|██████████| 9/9 [00:00<00:00, 89.98it/s]\n",
      "Round 01JDN4116HF7HQJSHNS8HEK3NE, 6/21: 100%|██████████| 3/3 [00:00<00:00, 218.84it/s]\n",
      "Round 01JDN4BVCA333MJVYBCWFZDZ9S, 7/21: 100%|██████████| 10/10 [00:00<00:00, 182.43it/s]\n",
      "Round 01JFFXS7501ZW3RJWXE41K08B4, 8/21: 100%|██████████| 5/5 [00:00<00:00, 172.30it/s]\n",
      "Round 01JFFYG6CZEQJMAWZEAS0HQ2FJ, 9/21: 100%|██████████| 2/2 [00:00<00:00, 96.16it/s]\n",
      "Round 01JFFZ7SH7BGCW6HCDTH6WHHPP, 10/21: 100%|██████████| 4/4 [00:00<00:00, 90.94it/s]\n",
      "Round 01JG2RXQ8TFT1754V71A4WJ60M, 11/21: 100%|██████████| 3/3 [00:00<00:00, 85.20it/s]\n",
      "Round 01JJ5TAGBMX5JXPQQ2AY5BBSMQ, 12/21: 100%|██████████| 3/3 [00:00<00:00, 124.82it/s]\n",
      "Round 01JJ7XE7JD29BEKTD8K2YMZW8B, 13/21: 100%|██████████| 4/4 [00:00<00:00, 252.91it/s]\n"
     ]
    },
    {
     "name": "stdout",
     "output_type": "stream",
     "text": [
      "Error with decision id 15\n",
      "Error with decision id 17\n"
     ]
    },
    {
     "name": "stderr",
     "output_type": "stream",
     "text": [
      "Round 01JJ87SRSC9J8DPQ3QR4PHD1NS, 14/21: 100%|██████████| 2/2 [00:00<00:00, 83.34it/s]\n",
      "Round 01JJ8BHRK7THZ5A14XESXTCCJZ, 15/21: 100%|██████████| 4/4 [00:00<00:00, 155.02it/s]\n"
     ]
    },
    {
     "name": "stdout",
     "output_type": "stream",
     "text": [
      "Error with decision id 32\n"
     ]
    },
    {
     "name": "stderr",
     "output_type": "stream",
     "text": [
      "Round 01JJWZGGF9SQ6RKQ80Z1KY7MGA, 16/21: 100%|██████████| 3/3 [00:00<00:00, 120.65it/s]\n"
     ]
    },
    {
     "name": "stdout",
     "output_type": "stream",
     "text": [
      "Error with decision id 1\n",
      "Error with decision id 1\n",
      "Error with decision id 1\n"
     ]
    },
    {
     "name": "stderr",
     "output_type": "stream",
     "text": [
      "Round 01JJX4GHN3HRHC824G30W9WG71, 17/21: 100%|██████████| 10/10 [00:00<00:00, 197.63it/s]\n",
      "Round 01JJX5ZAZ3M6RG9F3ZCB0H4SBY, 18/21: 100%|██████████| 8/8 [00:00<00:00, 217.84it/s]\n"
     ]
    },
    {
     "name": "stdout",
     "output_type": "stream",
     "text": [
      "Accuracy: 0.6842105263157895\n",
      "Benchmarking CodeSpotterModel with language model meta-llama/llama-3.3-70b-instruct\n"
     ]
    },
    {
     "name": "stderr",
     "output_type": "stream",
     "text": [
      "Round 01JDMZVSGBA3PJBC5AY3SB613R, 1/21: 100%|██████████| 9/9 [00:00<00:00, 109.55it/s]\n",
      "Round 01JDN0YJBF5TJSXNKP39DX8EXN, 2/21: 100%|██████████| 1/1 [00:00<00:00, 780.77it/s]\n",
      "Round 01JDN1NWS7N98J9JWVN85AY2KE, 3/21: 100%|██████████| 10/10 [00:00<00:00, 97.79it/s]\n",
      "Round 01JDN2NAXAFG09SBTW0SG2QQM6, 4/21: 100%|██████████| 5/5 [00:00<00:00, 129.80it/s]\n",
      "Round 01JDN32SA1YJMXY3MYS8TRHFEF, 5/21: 100%|██████████| 9/9 [00:00<00:00, 98.45it/s]\n",
      "Round 01JDN4116HF7HQJSHNS8HEK3NE, 6/21: 100%|██████████| 3/3 [00:00<00:00, 202.90it/s]\n",
      "Round 01JDN4BVCA333MJVYBCWFZDZ9S, 7/21: 100%|██████████| 10/10 [00:00<00:00, 196.28it/s]\n",
      "Round 01JFFXS7501ZW3RJWXE41K08B4, 8/21: 100%|██████████| 5/5 [00:00<00:00, 143.36it/s]\n",
      "Round 01JFFYG6CZEQJMAWZEAS0HQ2FJ, 9/21: 100%|██████████| 2/2 [00:00<00:00, 86.96it/s]\n",
      "Round 01JFFZ7SH7BGCW6HCDTH6WHHPP, 10/21: 100%|██████████| 4/4 [00:00<00:00, 86.82it/s]\n",
      "Round 01JG2RXQ8TFT1754V71A4WJ60M, 11/21: 100%|██████████| 3/3 [00:00<00:00, 77.58it/s]\n",
      "Round 01JJ5TAGBMX5JXPQQ2AY5BBSMQ, 12/21: 100%|██████████| 3/3 [00:00<00:00, 124.27it/s]\n",
      "Round 01JJ7XE7JD29BEKTD8K2YMZW8B, 13/21: 100%|██████████| 4/4 [00:00<00:00, 136.38it/s]\n"
     ]
    },
    {
     "name": "stdout",
     "output_type": "stream",
     "text": [
      "Error with decision id 15\n",
      "Error with decision id 17\n"
     ]
    },
    {
     "name": "stderr",
     "output_type": "stream",
     "text": [
      "Round 01JJ87SRSC9J8DPQ3QR4PHD1NS, 14/21: 100%|██████████| 2/2 [00:00<00:00, 102.22it/s]\n",
      "Round 01JJ8BHRK7THZ5A14XESXTCCJZ, 15/21: 100%|██████████| 4/4 [00:00<00:00, 201.31it/s]\n"
     ]
    },
    {
     "name": "stdout",
     "output_type": "stream",
     "text": [
      "Error with decision id 32\n"
     ]
    },
    {
     "name": "stderr",
     "output_type": "stream",
     "text": [
      "Round 01JJWZGGF9SQ6RKQ80Z1KY7MGA, 16/21: 100%|██████████| 3/3 [00:00<00:00, 114.92it/s]\n"
     ]
    },
    {
     "name": "stdout",
     "output_type": "stream",
     "text": [
      "Error with decision id 1\n",
      "Error with decision id 1\n",
      "Error with decision id 1\n"
     ]
    },
    {
     "name": "stderr",
     "output_type": "stream",
     "text": [
      "Round 01JJX4GHN3HRHC824G30W9WG71, 17/21: 100%|██████████| 10/10 [00:00<00:00, 208.70it/s]\n",
      "Round 01JJX5ZAZ3M6RG9F3ZCB0H4SBY, 18/21: 100%|██████████| 8/8 [00:00<00:00, 207.65it/s]"
     ]
    },
    {
     "name": "stdout",
     "output_type": "stream",
     "text": [
      "Accuracy: 0.4\n"
     ]
    },
    {
     "name": "stderr",
     "output_type": "stream",
     "text": [
      "\n"
     ]
    }
   ],
   "source": [
    "import numpy as np\n",
    "import matplotlib.pyplot as plt\n",
    "\n",
    "# We'll store the accuracy results in a dictionary:\n",
    "# Key: language model string\n",
    "# Value: list of accuracies [DirectSpotter, CodeSpotterModel]\n",
    "results = {}\n",
    "ROUNDS = 21\n",
    "\n",
    "spotter_models = [DirectSpotterModel, CodeSpotterModel]\n",
    "language_models = [\"openai/gpt-4o\", \"anthropic/claude-3.5-sonnet\", \"meta-llama/llama-3.3-70b-instruct\"]\n",
    "\n",
    "for llm in language_models:\n",
    "        results[llm] = []\n",
    "        for spotter in spotter_models:\n",
    "                print(f\"Benchmarking {spotter.__name__} with language model {llm}\")\n",
    "                accuracy, failed = benchmark_on_rounds(\n",
    "                        df=df,\n",
    "                        rounds_question_ids=rounds_questions_dict,\n",
    "                        model=spotter,\n",
    "                        model_string=llm,\n",
    "                        max_rounds=ROUNDS,\n",
    "                        use_cache=True,\n",
    "                )\n",
    "                results[llm].append(accuracy)\n",
    "                print(f\"Accuracy: {accuracy}\")"
   ]
  },
  {
   "cell_type": "code",
   "execution_count": 7,
   "metadata": {},
   "outputs": [
    {
     "data": {
      "image/png": "[encoded data removed]",
      "text/plain": [
       "<Figure size 800x600 with 1 Axes>"
      ]
     },
     "metadata": {},
     "output_type": "display_data"
    }
   ],
   "source": [
    "# Prepare data for the plot\n",
    "labels = language_models\n",
    "x = np.arange(len(labels))  # positions for language models on x-axis\n",
    "width = 0.35  # width of each bar\n",
    "\n",
    "fig, ax = plt.subplots(figsize=(8, 6))\n",
    "\n",
    "# For each language model, the first element is for DirectSpotter and the second for CodeSpotterModel.\n",
    "direct = [results[l][0] for l in labels]\n",
    "code = [results[l][1] for l in labels]\n",
    "\n",
    "rects1 = ax.bar(x - width/2, direct, width, label='DirectSpotter')\n",
    "rects2 = ax.bar(x + width/2, code, width, label='CodeSpotterModel')\n",
    "\n",
    "ax.set_ylabel('Accuracy')\n",
    "ax.set_title('Accuracy by Language Model and Spotter Model')\n",
    "ax.set_xticks(x)\n",
    "ax.set_xticklabels(labels, rotation=45)\n",
    "ax.legend()\n",
    "\n",
    "# Annotate bars with the accuracy values.\n",
    "def autolabel(rects):\n",
    "        for rect in rects:\n",
    "                height = rect.get_height()\n",
    "                ax.annotate(f'{height:.2f}',\n",
    "                                        xy=(rect.get_x() + rect.get_width() / 2, height),\n",
    "                                        xytext=(0, 3),  # vertical offset in points\n",
    "                                        textcoords=\"offset points\",\n",
    "                                        ha='center', va='bottom')\n",
    "\n",
    "autolabel(rects1)\n",
    "autolabel(rects2)\n",
    "\n",
    "plt.tight_layout()\n",
    "plt.show()"
   ]
  }
 ],
 "metadata": {
  "kernelspec": {
   "display_name": "battleship-7EcZJYqU-py3.12",
   "language": "python",
   "name": "python3"
  },
  "language_info": {
   "codemirror_mode": {
    "name": "ipython",
    "version": 3
   },
   "file_extension": ".py",
   "mimetype": "text/x-python",
   "name": "python",
   "nbconvert_exporter": "python",
   "pygments_lexer": "ipython3",
   "version": "3.12.2"
  }
 },
 "nbformat": 4,
 "nbformat_minor": 2
}
