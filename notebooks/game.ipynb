{
 "cells": [
  {
   "cell_type": "code",
   "execution_count": 1,
   "metadata": {},
   "outputs": [],
   "source": [
    "%load_ext autoreload\n",
    "%autoreload 2"
   ]
  },
  {
   "cell_type": "code",
   "execution_count": 2,
   "metadata": {},
   "outputs": [],
   "source": [
    "import numpy as np\n",
    "from io import StringIO\n",
    "\n",
    "from battleship.agents import RandomCaptain, MAPCaptain\n",
    "from battleship.board import Board\n",
    "from battleship.game import BattleshipGame"
   ]
  },
  {
   "cell_type": "code",
   "execution_count": null,
   "metadata": {},
   "outputs": [],
   "source": [
    "board_txt = \"\"\"\\\n",
    "W,O,O,O,O,W,W,W\n",
    "W,W,W,W,W,W,W,R\n",
    "W,W,W,W,W,W,W,R\n",
    "W,W,W,W,W,W,W,W\n",
    "W,W,W,W,W,W,W,W\n",
    "W,W,W,W,G,W,W,W\n",
    "W,W,W,W,G,W,W,W\n",
    "W,P,P,P,P,W,W,W\n",
    "\"\"\"\n",
    "board = Board.from_text_file(StringIO(board_txt))\n",
    "board"
   ]
  },
  {
   "cell_type": "markdown",
   "metadata": {},
   "source": [
    "# Play the game all the way through"
   ]
  },
  {
   "cell_type": "code",
   "execution_count": null,
   "metadata": {},
   "outputs": [],
   "source": [
    "game = BattleshipGame(\n",
    "    board_target=board,\n",
    "    # captain=RandomCaptain(seed=42),\n",
    "    captain=MAPCaptain(seed=42, n_samples=100),\n",
    "    spotter=None,\n",
    ")\n",
    "\n",
    "print(game)\n",
    "game"
   ]
  },
  {
   "cell_type": "code",
   "execution_count": 10,
   "metadata": {},
   "outputs": [],
   "source": [
    "game.play()"
   ]
  },
  {
   "cell_type": "code",
   "execution_count": null,
   "metadata": {},
   "outputs": [],
   "source": [
    "print(game)\n",
    "game"
   ]
  },
  {
   "cell_type": "markdown",
   "metadata": {},
   "source": [
    "# Playing the game turn-by-turn"
   ]
  },
  {
   "cell_type": "code",
   "execution_count": null,
   "metadata": {},
   "outputs": [],
   "source": [
    "game = BattleshipGame(\n",
    "    board_target=board,\n",
    "    # captain=RandomCaptain(seed=42),\n",
    "    captain=MAPCaptain(seed=42, n_samples=100),\n",
    "    spotter=None,\n",
    ")\n",
    "\n",
    "print(game)\n",
    "game"
   ]
  },
  {
   "cell_type": "code",
   "execution_count": null,
   "metadata": {},
   "outputs": [],
   "source": [
    "for _ in game:\n",
    "    # print(game)\n",
    "    display(game)"
   ]
  }
 ],
 "metadata": {
  "kernelspec": {
   "display_name": ".venv",
   "language": "python",
   "name": "python3"
  },
  "language_info": {
   "codemirror_mode": {
    "name": "ipython",
    "version": 3
   },
   "file_extension": ".py",
   "mimetype": "text/x-python",
   "name": "python",
   "nbconvert_exporter": "python",
   "pygments_lexer": "ipython3",
   "version": "3.11.5"
  }
 },
 "nbformat": 4,
 "nbformat_minor": 2
}
