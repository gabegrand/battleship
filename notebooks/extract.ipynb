{
 "cells": [
  {
   "cell_type": "code",
   "execution_count": 1,
   "id": "08ba1dd9",
   "metadata": {},
   "outputs": [],
   "source": [
    "import re"
   ]
  },
  {
   "cell_type": "code",
   "execution_count": 2,
   "id": "45fbf31c",
   "metadata": {},
   "outputs": [],
   "source": [
    "CODE_ANSWER_PATTERN = re.compile(\"```python(.*?)```\", re.DOTALL)"
   ]
  },
  {
   "cell_type": "code",
   "execution_count": 4,
   "id": "5ff641a0",
   "metadata": {},
   "outputs": [
    {
     "name": "stdout",
     "output_type": "stream",
     "text": [
      "\n",
      "import numpy as np\n",
      "\n",
      "def answer(true_board: np.ndarray, partial_board: np.ndarray) -> bool:\n",
      "    # Identify unique ship IDs from the true board, excluding water (0)\n",
      "    ship_ids = np.unique(true_board[true_board > 0])\n",
      "\n",
      "    for ship_id in ship_ids:\n",
      "        # Get the coordinates of all tiles belonging to the current ship\n",
      "        ship_tiles_true = np.argwhere(true_board == ship_id)\n",
      "\n",
      "        # Check if the ship has already been fully revealed on the partial board\n",
      "        # A ship is fully revealed if all its tiles on the true_board are not -1 on the partial_board\n",
      "        # And if at least one of its tiles is actually revealed (not -1)\n",
      "\n",
      "        # Check if any part of this ship is still hidden\n",
      "        is_hidden_anywhere = False\n",
      "        for r, c in ship_tiles_true:\n",
      "            if partial_board[r, c] == -1:\n",
      "                is_hidden_anywhere = True\n",
      "                break\n",
      "\n",
      "        # If the ship is entirely revealed, it's not relevant for finding\n",
      "        # If no part of the ship is hidden, it's not a target for the Captain to find anymore.\n",
      "        if not is_hidden_anywhere:\n",
      "            continue\n",
      "\n",
      "        # Calculate the length of the ship\n",
      "        ship_length = len(ship_tiles_true)\n",
      "\n",
      "        if ship_length > 3:\n",
      "            return True\n",
      "\n",
      "    return False\n",
      "\n"
     ]
    }
   ],
   "source": [
    "code = \"\"\"\n",
    "```python\n",
    "import numpy as np\n",
    "\n",
    "def answer(true_board: np.ndarray, partial_board: np.ndarray) -> bool:\n",
    "    # Identify unique ship IDs from the true board, excluding water (0)\n",
    "    ship_ids = np.unique(true_board[true_board > 0])\n",
    "\n",
    "    for ship_id in ship_ids:\n",
    "        # Get the coordinates of all tiles belonging to the current ship\n",
    "        ship_tiles_true = np.argwhere(true_board == ship_id)\n",
    "\n",
    "        # Check if the ship has already been fully revealed on the partial board\n",
    "        # A ship is fully revealed if all its tiles on the true_board are not -1 on the partial_board\n",
    "        # And if at least one of its tiles is actually revealed (not -1)\n",
    "\n",
    "        # Check if any part of this ship is still hidden\n",
    "        is_hidden_anywhere = False\n",
    "        for r, c in ship_tiles_true:\n",
    "            if partial_board[r, c] == -1:\n",
    "                is_hidden_anywhere = True\n",
    "                break\n",
    "\n",
    "        # If the ship is entirely revealed, it's not relevant for finding\n",
    "        # If no part of the ship is hidden, it's not a target for the Captain to find anymore.\n",
    "        if not is_hidden_anywhere:\n",
    "            continue\n",
    "\n",
    "        # Calculate the length of the ship\n",
    "        ship_length = len(ship_tiles_true)\n",
    "\n",
    "        if ship_length > 3:\n",
    "            return True\n",
    "\n",
    "    return False\n",
    "```\n",
    "\"\"\"\n",
    "\n",
    "import re\n",
    "\n",
    "match = CODE_ANSWER_PATTERN.search(code)\n",
    "if match:\n",
    "    code = match.group(1)\n",
    "\n",
    "print(code)"
   ]
  },
  {
   "cell_type": "code",
   "execution_count": null,
   "id": "1603160f",
   "metadata": {},
   "outputs": [],
   "source": []
  }
 ],
 "metadata": {
  "kernelspec": {
   "display_name": ".venv",
   "language": "python",
   "name": "python3"
  },
  "language_info": {
   "codemirror_mode": {
    "name": "ipython",
    "version": 3
   },
   "file_extension": ".py",
   "mimetype": "text/x-python",
   "name": "python",
   "nbconvert_exporter": "python",
   "pygments_lexer": "ipython3",
   "version": "3.11.5"
  }
 },
 "nbformat": 4,
 "nbformat_minor": 5
}
