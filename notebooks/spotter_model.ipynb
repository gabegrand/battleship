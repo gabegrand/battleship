{
 "cells": [
  {
   "cell_type": "code",
   "execution_count": 1,
   "metadata": {},
   "outputs": [
    {
     "data": {
      "image/png": "[encoded data removed]",
      "text/plain": [
       "<Figure size 768x768 with 1 Axes>"
      ]
     },
     "metadata": {},
     "output_type": "display_data"
    }
   ],
   "source": [
    "from battleship.board import *\n",
    "from battleship.spotter_model import Question, Answer, CodeSpotterModel, DirectSpotterModel\n",
    "from tqdm import tqdm\n",
    "\n",
    "board_array = Board.from_trial_id(1,\"prolific_contexts\").to_symbolic_array()\n",
    "Board.from_trial_id(1,\"prolific_contexts\")"
   ]
  },
  {
   "cell_type": "code",
   "execution_count": 2,
   "metadata": {},
   "outputs": [],
   "source": [
    "user_question = \"Are there more ship tiles in odd rows than even rows?\"\n",
    "\n",
    "code_spotter_model = CodeSpotterModel(board_id=1, board_experiment=\"prolific_contexts\", history=None)\n",
    "direct_spotter_model = DirectSpotterModel(board_id=1, board_experiment=\"prolific_contexts\", history=None)\n",
    "\n",
    "q = Question(text=user_question)\n",
    "code_ans = code_spotter_model.answer(q)\n",
    "direct_ans = direct_spotter_model.answer(q)"
   ]
  },
  {
   "cell_type": "code",
   "execution_count": 3,
   "metadata": {},
   "outputs": [
    {
     "data": {
      "text/plain": [
       "(Yes, No)"
      ]
     },
     "execution_count": 3,
     "metadata": {},
     "output_type": "execute_result"
    }
   ],
   "source": [
    "code_ans, direct_ans"
   ]
  },
  {
   "cell_type": "code",
   "execution_count": 8,
   "metadata": {},
   "outputs": [
    {
     "data": {
      "text/plain": [
       "'Are there more ship tiles in odd rows than even rows?'"
      ]
     },
     "execution_count": 8,
     "metadata": {},
     "output_type": "execute_result"
    }
   ],
   "source": [
    "code_ans.code_question.question.text"
   ]
  },
  {
   "cell_type": "code",
   "execution_count": 5,
   "metadata": {},
   "outputs": [
    {
     "ename": "AssertionError",
     "evalue": "",
     "output_type": "error",
     "traceback": [
      "\u001b[0;31m---------------------------------------------------------------------------\u001b[0m",
      "\u001b[0;31mAssertionError\u001b[0m                            Traceback (most recent call last)",
      "Cell \u001b[0;32mIn[5], line 1\u001b[0m\n\u001b[0;32m----> 1\u001b[0m \u001b[38;5;28;01massert\u001b[39;00m \u001b[38;5;28;01mFalse\u001b[39;00m\n",
      "\u001b[0;31mAssertionError\u001b[0m: "
     ]
    }
   ],
   "source": [
    "assert False"
   ]
  },
  {
   "cell_type": "code",
   "execution_count": null,
   "metadata": {},
   "outputs": [
    {
     "name": "stderr",
     "output_type": "stream",
     "text": [
      "100%|██████████| 5/5 [00:05<00:00,  1.07s/it]\n"
     ]
    }
   ],
   "source": [
    "examples_history = []\n",
    "\n",
    "questions_boards = [(\"Is there a ship at B6?\",5),\n",
    "                    (\"Is the green ship horizontal?\",4),\n",
    "                    (\"Is the orange ship 5 tiles long?\",3),\n",
    "                    (\"Is the red ship vertical?\",2),\n",
    "                    (\"Is there a ship at A4?\",1),\n",
    "                    ]\n",
    "\n",
    "for (question, board) in tqdm(questions_boards):\n",
    "    spotter_model = SpotterModel(board_id=board, board_experiment=\"prolific_contexts\", history=None)\n",
    "    q_ex = Question(text=question)\n",
    "    a_ex = spotter_model.answer(q_ex)\n",
    "    examples_history.append({\"question\":question, \"code\": q_ex.codestr, \"answer\": a_ex.text, \"board_id\": board})"
   ]
  },
  {
   "cell_type": "code",
   "execution_count": null,
   "metadata": {},
   "outputs": [
    {
     "data": {
      "text/plain": [
       "[{'question': 'Is there a ship at B6?',\n",
       "  'code': \"def answer(board):\\n    return 'Yes' if board[5, 1] != 'W' else 'No'\",\n",
       "  'answer': 'Yes',\n",
       "  'board_id': 5},\n",
       " {'question': 'Is the green ship horizontal?',\n",
       "  'code': \"def answer(board):\\n    return 'Yes' if board[5, 5] == 'G' and board[5, 6] == 'G' else 'No'\",\n",
       "  'answer': 'No',\n",
       "  'board_id': 4},\n",
       " {'question': 'Is the orange ship 5 tiles long?',\n",
       "  'code': \"def answer(board):\\n    return 'No' if np.sum(board == 'O') == 5 else 'Yes'\",\n",
       "  'answer': 'Yes',\n",
       "  'board_id': 3},\n",
       " {'question': 'Is the red ship vertical?',\n",
       "  'code': \"def answer(board):\\n    return 'Yes' if board[5:8, 2].tolist() == ['R', 'R', 'R'] else 'No'\",\n",
       "  'answer': 'Yes',\n",
       "  'board_id': 2},\n",
       " {'question': 'Is there a ship at A4?',\n",
       "  'code': \"def answer(board):\\n    return 'No' if board[3, 0] == 'W' else 'Yes'\",\n",
       "  'answer': 'No',\n",
       "  'board_id': 1}]"
      ]
     },
     "execution_count": 7,
     "metadata": {},
     "output_type": "execute_result"
    }
   ],
   "source": [
    "examples_history"
   ]
  },
  {
   "cell_type": "code",
   "execution_count": null,
   "metadata": {},
   "outputs": [],
   "source": [
    "user_question = \"Is there a ship at A3?\"\n",
    "spotter_model = SpotterModel(board_id=1, board_experiment=\"prolific_contexts\", history=examples_history)\n",
    "q = Question(text=user_question)\n",
    "a = spotter_model.answer(q)"
   ]
  },
  {
   "cell_type": "code",
   "execution_count": null,
   "metadata": {},
   "outputs": [
    {
     "data": {
      "text/plain": [
       "<function answer(board)>"
      ]
     },
     "execution_count": 9,
     "metadata": {},
     "output_type": "execute_result"
    }
   ],
   "source": [
    "q.code"
   ]
  },
  {
   "cell_type": "code",
   "execution_count": null,
   "metadata": {},
   "outputs": [
    {
     "data": {
      "text/plain": [
       "'Yes'"
      ]
     },
     "execution_count": 10,
     "metadata": {},
     "output_type": "execute_result"
    }
   ],
   "source": [
    "a.text"
   ]
  }
 ],
 "metadata": {
  "kernelspec": {
   "display_name": "python311",
   "language": "python",
   "name": "python3"
  },
  "language_info": {
   "codemirror_mode": {
    "name": "ipython",
    "version": 3
   },
   "file_extension": ".py",
   "mimetype": "text/x-python",
   "name": "python",
   "nbconvert_exporter": "python",
   "pygments_lexer": "ipython3",
   "version": "3.11.9"
  }
 },
 "nbformat": 4,
 "nbformat_minor": 2
}
