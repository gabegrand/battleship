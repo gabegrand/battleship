{
 "cells": [
  {
   "cell_type": "code",
   "execution_count": 1,
   "metadata": {},
   "outputs": [],
   "source": [
    "%load_ext autoreload\n",
    "%autoreload 2"
   ]
  },
  {
   "cell_type": "code",
   "execution_count": 14,
   "metadata": {},
   "outputs": [],
   "source": [
    "import asyncio\n",
    "import os\n",
    "import pandas as pd\n",
    "\n",
    "from hfppl.llms import CachedCausalLM\n",
    "from hfppl.inference import smc_standard\n",
    "\n",
    "from battleship.board import Board\n",
    "from battleship.scoring import compute_score\n",
    "from battleship.models import QuestionGenerationModel, SingleStepQuestionGenerationModel"
   ]
  },
  {
   "cell_type": "code",
   "execution_count": 3,
   "metadata": {},
   "outputs": [],
   "source": [
    "# Load HF_AUTH_TOKEN from .hf_auth_token\n",
    "with open(os.path.join(\"../\", \".hf_auth_token\"), \"r\") as f:\n",
    "    os.environ[\"HF_AUTH_TOKEN\"] = f.read().strip()\n",
    "\n",
    "HF_AUTH_TOKEN = os.environ[\"HF_AUTH_TOKEN\"]"
   ]
  },
  {
   "cell_type": "code",
   "execution_count": 4,
   "metadata": {},
   "outputs": [
    {
     "name": "stderr",
     "output_type": "stream",
     "text": [
      "/home/ubuntu/battleship/.venv/lib/python3.11/site-packages/transformers/models/auto/tokenization_auto.py:671: FutureWarning: The `use_auth_token` argument is deprecated and will be removed in v5 of Transformers. Please use `token` instead.\n",
      "  warnings.warn(\n",
      "/home/ubuntu/battleship/.venv/lib/python3.11/site-packages/transformers/models/auto/auto_factory.py:472: FutureWarning: The `use_auth_token` argument is deprecated and will be removed in v5 of Transformers. Please use `token` instead.\n",
      "  warnings.warn(\n"
     ]
    },
    {
     "data": {
      "application/vnd.jupyter.widget-view+json": {
       "model_id": "4635bfd984354bb48d528dc447890f33",
       "version_major": 2,
       "version_minor": 0
      },
      "text/plain": [
       "Loading checkpoint shards:   0%|          | 0/3 [00:00<?, ?it/s]"
      ]
     },
     "metadata": {},
     "output_type": "display_data"
    },
    {
     "name": "stderr",
     "output_type": "stream",
     "text": [
      "/home/ubuntu/battleship/.venv/lib/python3.11/site-packages/transformers/utils/hub.py:374: FutureWarning: The `use_auth_token` argument is deprecated and will be removed in v5 of Transformers. Please use `token` instead.\n",
      "  warnings.warn(\n"
     ]
    }
   ],
   "source": [
    "# Initialize the HuggingFace model\n",
    "lm = CachedCausalLM.from_pretrained(\"codellama/CodeLlama-13b-hf\", auth_token=HF_AUTH_TOKEN)"
   ]
  },
  {
   "cell_type": "markdown",
   "metadata": {},
   "source": [
    "# Prompting utils"
   ]
  },
  {
   "cell_type": "code",
   "execution_count": 5,
   "metadata": {},
   "outputs": [],
   "source": [
    "df = pd.read_csv(\"../battleship/prompts/examples.csv\")\n",
    "\n",
    "def format_example(user_input: str, response: str = None):\n",
    "    return f\"User: {user_input}\\n\" f\"Assistant:{' ' + response if response else ''}\"\n",
    "\n",
    "def make_question_prompt(df, board=None, instructions=None):\n",
    "    prompt = \"\"\n",
    "    if instructions != None:\n",
    "        prompt += f\"Instructions:\\n{instructions}\\n\"\n",
    "    if board != None:\n",
    "        prompt += \"Board:\\n\" + board.to_textual_description() + \"\\n\"\n",
    "    prompt += \"Questions:\\n\" + \"\\n\".join(df.question) + \"\\n\"\n",
    "    return prompt\n",
    "\n",
    "def make_question_to_code_prompt(df):\n",
    "    prompt = \"\\n\".join([format_example(q, r) for q, r in zip(df.question, df.code)]) + \"\\n\"\n",
    "    return prompt"
   ]
  },
  {
   "cell_type": "code",
   "execution_count": 6,
   "metadata": {},
   "outputs": [],
   "source": [
    "instructions = \"User input will be a series of sentences representing a board from Battleship, the board game, that you should aim to win. Tiles in the board can either be 'Water' tiles, 'Blue Ship' tiles, 'Red Ship' tiles, and 'Purple Ship' tiles (there are only these three battleships). Some tiles may also be 'Hidden' tiles, meaning they could be any of the others but have not been revealed yet. The user will denote coordinates as follows: columns are numbered from 1 onwards, where column 1 is the leftmost column, and rows are given a letter from A onwards where row A is the topmost row (so the cell at the second row and second column is B2). Your role is to ask the most informative possible question from the context given: strictly output the question only, and make sure the questions are relevant to the context: 'Which cells should I target to sink the battleships with the least number of moves?' is not a relevant question because it is the general goal of Battleship. Questions also need to be answerable with yes or no, no other questions will be considered in scope.\""
   ]
  },
  {
   "cell_type": "markdown",
   "metadata": {},
   "source": [
    "# Single board evaluation"
   ]
  },
  {
   "cell_type": "code",
   "execution_count": null,
   "metadata": {},
   "outputs": [],
   "source": [
    "\n",
    "async def single_smc_baseline(board_id,particle_num,instructions):\n",
    "    board = Board.from_trial_id(board_id)\n",
    "    board.to_textual_description()\n",
    "\n",
    "    model = QuestionGenerationModel(\n",
    "        lm=lm,\n",
    "        board=board,\n",
    "        question_prompt=make_question_prompt(df),\n",
    "        translation_prompt=make_question_to_code_prompt(df),\n",
    "    )\n",
    "\n",
    "    model_combined = QuestionGenerationModel(\n",
    "        lm=lm,\n",
    "        board=board,\n",
    "        question_prompt=make_question_prompt(df,board=board,instructions=instructions),\n",
    "        translation_prompt=make_question_to_code_prompt(df),\n",
    "    )\n",
    "\n",
    "    particles = await smc_standard(model, n_particles=particle_num)\n",
    "    print(\"Done with standard model...\")\n",
    "    particles_c = await smc_standard(model_combined, n_particles=particle_num)\n",
    "    print(\"Done with combined model...\")\n",
    "    return [particles,particles_c]"
   ]
  },
  {
   "cell_type": "code",
   "execution_count": null,
   "metadata": {},
   "outputs": [],
   "source": [
    "df_results = []\n",
    "particle_types = [particles,particles_c]\n",
    "\n",
    "for particle_type in particle_types:\n",
    "    for i, p in enumerate(particle_type):\n",
    "        df_p = pd.DataFrame(p.get_final_results())\n",
    "        df_p[\"particle\"] = i\n",
    "        df_results.append(df_p)\n",
    "    df_results = pd.concat(df_results).reset_index(drop=True)\n",
    "df_results"
   ]
  },
  {
   "cell_type": "code",
   "execution_count": null,
   "metadata": {},
   "outputs": [],
   "source": [
    "for p in particles:\n",
    "    print(f\"Question: {str(p.context)}\")\n",
    "    print(f\"|- Program: {p.result['translation']}\")\n",
    "    print(f\"|- EIG: {compute_score(board=board, program=p.result['translation'])}\")\n",
    "    print(f\"|- Particle weight: {p.weight:.4f}\")\n",
    "    print()"
   ]
  },
  {
   "cell_type": "markdown",
   "metadata": {},
   "source": [
    "# Multiple board evaluation"
   ]
  },
  {
   "cell_type": "code",
   "execution_count": 7,
   "metadata": {},
   "outputs": [],
   "source": [
    "async def run_smc_baseline(n_particles=5, trial_ids=range(1, 19), model_types=[\"REGULAR\", \"COMBINED\"], model_cls = QuestionGenerationModel):\n",
    "    results_all = []\n",
    "    for trial_id in trial_ids:\n",
    "        for model_type in model_types:\n",
    "            print(\"-\" * 80)\n",
    "            print(f\"Trial {trial_id}\")\n",
    "            print(f\"Model type: {model_type}\")\n",
    "            print(\"-\" * 80)\n",
    "            board = Board.from_trial_id(trial_id)\n",
    "            instructions_used = None if model_type == \"REGULAR\" else instructions\n",
    "            model = model_cls(\n",
    "                    lm=lm,\n",
    "                    board=board,\n",
    "                    question_prompt=make_question_prompt(df, board=board, instructions=instructions_used),\n",
    "                    translation_prompt=make_question_to_code_prompt(df),\n",
    "                )\n",
    "            particles = await smc_standard(model, n_particles=n_particles)\n",
    "            results_trial = []\n",
    "            for i, p in enumerate(particles):\n",
    "                df_p = pd.DataFrame(p.get_final_results())\n",
    "                df_p[\"particle\"] = i\n",
    "                df_p[\"model_type\"] = model_type\n",
    "                results_trial.append(df_p)\n",
    "            df_trial = pd.concat(results_trial).reset_index(drop=True)\n",
    "            df_trial[\"trial_id\"] = trial_id\n",
    "            results_all.append(df_trial)\n",
    "            df_results = pd.concat(results_all).reset_index(drop=True)\n",
    "            df_results.to_csv(\"hfppl_results.csv\", index=False)\n",
    "    return df_results"
   ]
  },
  {
   "cell_type": "code",
   "execution_count": null,
   "metadata": {},
   "outputs": [],
   "source": [
    "TRIAL_IDS = range(1, 19)\n",
    "N_PARTICLES = 5\n",
    "\n",
    "await run_smc_baseline(n_particles=N_PARTICLES, trial_ids=TRIAL_IDS)"
   ]
  },
  {
   "cell_type": "markdown",
   "metadata": {},
   "source": [
    "# One-step SMC"
   ]
  },
  {
   "cell_type": "code",
   "execution_count": 16,
   "metadata": {},
   "outputs": [
    {
     "name": "stdout",
     "output_type": "stream",
     "text": [
      "--------------------------------------------------------------------------------\n",
      "Trial 13\n",
      "Model type: REGULAR\n",
      "--------------------------------------------------------------------------------\n",
      "How\n",
      "How many\n",
      "What\n",
      "How\n",
      "How many\n",
      "How\n",
      "How many\n",
      "What\n",
      "What are\n",
      "What are the\n",
      "What are the coordinates\n",
      "What are the coordinates of\n",
      "What are the coordinates of the\n",
      "What\n",
      "What are\n",
      "What are the\n",
      "What are the coordinates\n",
      "What are the coordinates of\n",
      "What are the coordinates of the\n",
      "What\n",
      "Point\n",
      "How many squares\n",
      "What is\n",
      "How many total\n",
      "Does\n",
      "How many red\n",
      "Is\n",
      "What are the coordinates of the other\n",
      "What are the coordinates of the mid\n",
      "What is\n",
      "Point He\n",
      "How many squares along\n",
      "What is at\n",
      "How many total blocks\n",
      "Does the\n",
      "How many red ship\n",
      "Is the\n",
      "What are the coordinates of the other ships\n",
      "What are the coordinates of the mid-\n",
      "What is at\n",
      "Point HeR\n",
      "How many squares along the\n",
      "What is at \n",
      "How many total blocks are\n",
      "Does the pur\n",
      "How many red ship blocks\n",
      "Is the pur\n",
      "What are the coordinates of the other ships?\n",
      "What are the coordinates of the mid-point\n",
      "What is at \n",
      "Point HeRX\n",
      "How many squares along the \n",
      "What is at 4\n",
      "How many total blocks are in\n",
      "Does the purple\n",
      "How many red ship blocks are\n",
      "Is the purple\n",
      "What are the coordinates of the mid-point of\n",
      "What is at 6\n",
      "Point HeRX at\n",
      "How many squares along the 3\n",
      "What is at 4-\n",
      "How many total blocks are in the\n",
      "Does the purple ship\n",
      "How many red ship blocks are together\n",
      "Is the purple ship\n",
      "What are the coordinates of the mid-point of the\n",
      "What is at 6B\n",
      "Point HeRX at the\n",
      "How many squares along the 3D\n",
      "What is at 4-B\n",
      "How many total blocks are in the game\n",
      "Does the purple ship go\n",
      "How many red ship blocks are together?\n",
      "Is the purple ship above\n",
      "What are the coordinates of the mid-point of the blue\n",
      "What is at 6B?\n",
      "Point HeRX at the image\n",
      "How many squares along the 3D and\n",
      "What is at 4-B?\n",
      "How many total blocks are in the game?\n",
      "Does the purple ship go beyond\n",
      "Is the purple ship above the\n",
      "What are the coordinates of the mid-point of the blue ship\n",
      "Point HeRX at the image,\n",
      "How many squares along the 3D and \n",
      "Does the purple ship go beyond the\n",
      "Is the purple ship above the red\n",
      "What are the coordinates of the mid-point of the blue ship?\n",
      "Point HeRX at the image, with\n",
      "How many squares along the 3D and 3\n",
      "Does the purple ship go beyond the bottom\n",
      "Is the purple ship above the red ship\n",
      "Point HeRX at the image, with the\n",
      "How many squares along the 3D and 3F\n",
      "Does the purple ship go beyond the bottom edge\n",
      "Is the purple ship above the red ship?\n",
      "Point HeRX at the image, with the piece\n",
      "How many squares along the 3D and 3F coordinate\n",
      "Does the purple ship go beyond the bottom edge of\n",
      "Point HeRX at the image, with the piece of\n",
      "How many squares along the 3D and 3F coordinate are\n",
      "Does the purple ship go beyond the bottom edge of the\n",
      "Point HeRX at the image, with the piece of paper\n",
      "How many squares along the 3D and 3F coordinate are occupied\n",
      "Does the purple ship go beyond the bottom edge of the board\n",
      "Point HeRX at the image, with the piece of paper visible\n",
      "How many squares along the 3D and 3F coordinate are occupied by\n",
      "Does the purple ship go beyond the bottom edge of the board?\n",
      "{'prefix': 'What is at 6B?', 'completion': 'What is at 6B?', 'translation': '(color 6-B)', 'score': 0.641773, 'type': 'final'}\n",
      "Point HeRX at the image, with the piece of paper visible.\n",
      "How many squares along the 3D and 3F coordinate are occupied by different\n",
      "{'prefix': 'What is at 4-B?', 'completion': 'What is at 4-B?', 'translation': '(color 4-B)', 'score': 0.900152, 'type': 'final'}\n",
      "How many squares along the 3D and 3F coordinate are occupied by different ships\n",
      "How many squares along the 3D and 3F coordinate are occupied by different ships?\n",
      "{'prefix': 'Is the purple ship above the red ship?', 'completion': 'Is the purple ship above the red ship?', 'translation': '(above Purple Red)', 'score': 0, 'type': 'final'}\n",
      "{'prefix': 'What are the coordinates of the mid-point of the blue ship?', 'completion': 'What are the coordinates of the mid-point of the blue ship?', 'translation': '(midpoint (coloredTiles Blue))', 'score': 0, 'type': 'final'}\n",
      "{'prefix': 'What are the coordinates of the other ships?', 'completion': 'What are the coordinates of the other ships?', 'translation': '(map (lambda x0 (coloredTiles x0)) (set AllColors))', 'score': 0, 'type': 'final'}\n",
      "{'prefix': 'Point HeRX at the image, with the piece of paper visible.', 'completion': 'Point HeRX at the image, with the piece of paper visible.', 'translation': '(== (color 1-A) Red)', 'score': 0.0, 'type': 'final'}\n",
      "{'prefix': 'How many total blocks are in the game?', 'completion': 'How many total blocks are in the game?', 'translation': '(++ (map (lambda x0 (size x0)) (set AllColors)))', 'score': 2.029328, 'type': 'final'}\n",
      "{'prefix': 'Does the purple ship go beyond the bottom edge of the board?', 'completion': 'Does the purple ship go beyond the bottom edge of the board?', 'translation': '(> (bottomright (coloredTiles Purple)) (bottomright Board))', 'score': 0, 'type': 'final'}\n",
      "{'prefix': 'How many red ship blocks are together?', 'completion': 'How many red ship blocks are together?', 'translation': '(++ (map (lambda x0 (size x0)) (filter (lambda x0 (== (color x0) Red)) (set AllCol', 'score': 0, 'type': 'final'}\n",
      "{'prefix': 'How many squares along the 3D and 3F coordinate are occupied by different ships?', 'completion': 'How many squares along the 3D and 3F coordinate are occupied by different ships?', 'translation': '(++ (map (lambda x0 (size x0)) (set (map (lambda x1 (color x1)) (set (map (lambda', 'score': 0, 'type': 'final'}\n"
     ]
    }
   ],
   "source": [
    "# TRIAL_IDS = range(1, 19)\n",
    "TRIAL_IDS = [13]\n",
    "N_PARTICLES = 2\n",
    "\n",
    "await run_smc_baseline(n_particles=N_PARTICLES, trial_ids=TRIAL_IDS, model_types=[\"REGULAR\"], model_cls=SingleStepQuestionGenerationModel)"
   ]
  },
  {
   "cell_type": "code",
   "execution_count": null,
   "metadata": {},
   "outputs": [],
   "source": []
  }
 ],
 "metadata": {
  "kernelspec": {
   "display_name": ".venv",
   "language": "python",
   "name": "python3"
  },
  "language_info": {
   "codemirror_mode": {
    "name": "ipython",
    "version": 3
   },
   "file_extension": ".py",
   "mimetype": "text/x-python",
   "name": "python",
   "nbconvert_exporter": "python",
   "pygments_lexer": "ipython3",
   "version": "3.11.6"
  }
 },
 "nbformat": 4,
 "nbformat_minor": 2
}
