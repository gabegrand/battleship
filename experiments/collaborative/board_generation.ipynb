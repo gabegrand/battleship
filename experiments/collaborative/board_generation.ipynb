{
 "cells": [
  {
   "cell_type": "markdown",
   "metadata": {},
   "source": [
    "# Code for sampling boards for experiment"
   ]
  },
  {
   "cell_type": "code",
   "execution_count": null,
   "metadata": {},
   "outputs": [],
   "source": [
    "import numpy as np\n",
    "\n",
    "from battleship.fast_sampler import FastSampler\n",
    "from battleship.board import Board"
   ]
  },
  {
   "cell_type": "code",
   "execution_count": null,
   "metadata": {},
   "outputs": [],
   "source": [
    "SHIP_LENGTHS = range(2, 6)\n",
    "SHIP_LABELS = [\"R\", \"G\", \"P\", \"O\"]\n",
    "BOARD_EMPTY = Board(np.full((8, 8), -1))\n",
    "SEED = 123\n",
    "N_BOARDS = 100"
   ]
  },
  {
   "cell_type": "code",
   "execution_count": null,
   "metadata": {},
   "outputs": [],
   "source": [
    "sampler = FastSampler(\n",
    "    board=BOARD_EMPTY, ship_lengths=SHIP_LENGTHS, ship_labels=SHIP_LABELS, seed=SEED\n",
    ")\n",
    "\n",
    "for i in range(N_BOARDS):\n",
    "    board = sampler.populate_board()\n",
    "    print(f\"Board ID: {i+1}\")\n",
    "    print(board.board)\n",
    "    display(board)"
   ]
  }
 ],
 "metadata": {
  "kernelspec": {
   "display_name": ".venv",
   "language": "python",
   "name": "python3"
  },
  "language_info": {
   "codemirror_mode": {
    "name": "ipython",
    "version": 3
   },
   "file_extension": ".py",
   "mimetype": "text/x-python",
   "name": "python",
   "nbconvert_exporter": "python",
   "pygments_lexer": "ipython3",
   "version": "3.11.5"
  }
 },
 "nbformat": 4,
 "nbformat_minor": 2
}
