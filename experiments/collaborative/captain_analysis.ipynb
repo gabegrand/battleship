{
 "cells": [
  {
   "cell_type": "markdown",
   "id": "1e28f440",
   "metadata": {},
   "source": [
    "# Captain Analysis"
   ]
  },
  {
   "cell_type": "code",
   "execution_count": null,
   "id": "984d6621",
   "metadata": {},
   "outputs": [],
   "source": [
    "%load_ext autoreload\n",
    "%autoreload 2"
   ]
  },
  {
   "cell_type": "code",
   "execution_count": null,
   "id": "7e02e31f",
   "metadata": {},
   "outputs": [],
   "source": [
    "import os\n",
    "import json\n",
    "import glob\n",
    "import re\n",
    "\n",
    "import matplotlib.pyplot as plt\n",
    "import seaborn as sns\n",
    "import numpy as np\n",
    "import pandas as pd\n",
    "\n",
    "from battleship.run_captain_benchmarks import rebuild_captain_summary_from_results\n",
    "from battleship.utils import resolve_project_path\n",
    "from battleship.agents import EIGCalculator, CodeQuestion, Question\n",
    "from battleship.game import Board\n",
    "\n",
    "from analysis import CAPTAIN_TYPE_LABELS\n",
    "from analysis import human_round_summaries"
   ]
  },
  {
   "cell_type": "code",
   "execution_count": null,
   "id": "542334d1",
   "metadata": {},
   "outputs": [],
   "source": [
    "%config InlineBackend.figure_format = 'retina'\n",
    "\n",
    "# set seaborn color palette\n",
    "sns.set_palette(\"Set2\")\n",
    "\n",
    "# set seaborn style\n",
    "sns.set_style(\"whitegrid\")\n",
    "sns.set_context(\"talk\")"
   ]
  },
  {
   "cell_type": "code",
   "execution_count": null,
   "id": "4cba08ec",
   "metadata": {},
   "outputs": [],
   "source": [
    "HUMAN_EXPERIMENT_NAME = \"battleship-final-data\"\n",
    "PATH_DATA = os.path.join(\"data\", HUMAN_EXPERIMENT_NAME)\n",
    "PATH_EXPORT = os.path.join(PATH_DATA, \"export\")\n",
    "\n",
    "CAPTAIN_EXPERIMENT_PATH = (\n",
    "    \"experiments/collaborative/captain_benchmarks/\"\n",
    ")"
   ]
  },
  {
   "cell_type": "markdown",
   "id": "4d0bcb23",
   "metadata": {},
   "source": [
    "## Data loading"
   ]
  },
  {
   "cell_type": "markdown",
   "id": "856d1618",
   "metadata": {},
   "source": [
    "### Human data"
   ]
  },
  {
   "cell_type": "code",
   "execution_count": null,
   "id": "0e1eaa28",
   "metadata": {},
   "outputs": [],
   "source": [
    "human_df = human_round_summaries(\n",
    "    experiment_path=PATH_DATA,\n",
    ")\n",
    "human_df = pd.DataFrame(human_df)\n",
    "\n",
    "human_df = human_df.assign(llm=\"human\")\n",
    "human_df"
   ]
  },
  {
   "cell_type": "markdown",
   "id": "b3e47cd7",
   "metadata": {},
   "source": [
    "### Model data"
   ]
  },
  {
   "cell_type": "code",
   "execution_count": null,
   "id": "77baafc6",
   "metadata": {},
   "outputs": [],
   "source": [
    "model_round_data_unresolved_paths = [\n",
    "    (\"gpt-4o\", \"run_2025_08_25_16_28_19\"),\n",
    "    (\"gpt-5\", \"run_2025_08_25_22_02_29\"),\n",
    "    (\"baseline\", \"run_2025_08_26_17_23_23\"),\n",
    "    (\"llama-4-scout\", \"run_2025_08_26_17_56_46\"),\n",
    "]\n",
    "\n",
    "model_round_data_paths = [\n",
    "    (name, resolve_project_path(os.path.join(CAPTAIN_EXPERIMENT_PATH, path)))\n",
    "    for name, path in model_round_data_unresolved_paths\n",
    "]\n",
    "for name, path in model_round_data_paths:\n",
    "    if not os.path.exists(path):\n",
    "        print(f\"The path {path} does not exist.\")\n",
    "\n",
    "dfs = []\n",
    "for name, path in model_round_data_paths:\n",
    "    df = pd.DataFrame(rebuild_captain_summary_from_results(path))\n",
    "    df[\"llm\"] = name\n",
    "    dfs.append(df)\n",
    "\n",
    "model_df = pd.concat(dfs, ignore_index=True)\n",
    "model_df"
   ]
  },
  {
   "cell_type": "code",
   "execution_count": null,
   "id": "58184756",
   "metadata": {},
   "outputs": [],
   "source": [
    "# Append summary_df to round_df\n",
    "combined_df = pd.concat([human_df, model_df], ignore_index=True)\n",
    "combined_df"
   ]
  },
  {
   "cell_type": "markdown",
   "id": "ad155118",
   "metadata": {},
   "source": [
    "## Precision/Recall Stats"
   ]
  },
  {
   "cell_type": "code",
   "execution_count": null,
   "id": "a02b71ef",
   "metadata": {},
   "outputs": [],
   "source": [
    "g = sns.catplot(data=combined_df, kind=\"box\", col=\"llm\", x=\"captain_type\", y=\"f1_score\", hue=\"captain_type\")\n",
    "g.set_xticklabels(rotation=90)"
   ]
  },
  {
   "cell_type": "code",
   "execution_count": null,
   "id": "386e5c87",
   "metadata": {},
   "outputs": [],
   "source": [
    "sorted_df = combined_df.sort_values(by='captain_type', ascending=True)\n",
    "# sorted_df = sorted_df[sorted_df['captain_type'].isin(['human', 'RandomCaptain', 'MAPCaptain','LLMDecisionCaptain', 'EIGCaptain', 'MAPEIGCaptain'])]\n",
    "\n",
    "sns.catplot(data=sorted_df, kind=\"box\", x=\"captain_type\", y=\"f1_score\", hue=\"llm\")\n",
    "\n",
    "plt.xticks(rotation=90)"
   ]
  },
  {
   "cell_type": "code",
   "execution_count": null,
   "id": "75887334",
   "metadata": {},
   "outputs": [],
   "source": [
    "plt.figure(figsize=(10, 6))\n",
    "\n",
    "for captain_type, group in combined_df.groupby('captain_type'):\n",
    "    f1_scores = np.sort(group['f1_score'].dropna())\n",
    "    cdf = np.arange(1, len(f1_scores) + 1) / len(f1_scores)\n",
    "    plt.step(f1_scores, cdf, where='post', label=captain_type)\n",
    "\n",
    "plt.xlabel('F1 Score')\n",
    "plt.ylabel('Cumulative Probability')\n",
    "plt.title('CDF of F1 Score by Captain Type')\n",
    "plt.legend()\n",
    "plt.grid(True, alpha=0.3)\n",
    "plt.tight_layout()\n",
    "plt.show()"
   ]
  },
  {
   "cell_type": "code",
   "execution_count": null,
   "id": "919bc249",
   "metadata": {},
   "outputs": [],
   "source": [
    "sns.barplot(data=combined_df, x=\"captain_type\", y=\"precision\", hue=\"captain_type\")\n",
    "plt.xticks(rotation=45)"
   ]
  },
  {
   "cell_type": "code",
   "execution_count": null,
   "id": "1c6972e3",
   "metadata": {},
   "outputs": [],
   "source": [
    "sns.barplot(data=combined_df, x=\"captain_type\", y=\"recall\", hue=\"captain_type\")\n",
    "plt.xticks(rotation=45)"
   ]
  },
  {
   "cell_type": "code",
   "execution_count": null,
   "id": "fa3115c0",
   "metadata": {},
   "outputs": [],
   "source": [
    "combined_df[\"move_count\"] = combined_df[\"hits\"] + combined_df[\"misses\"]\n",
    "\n",
    "sns.barplot(data=combined_df, x=\"captain_type\", y=\"move_count\", hue=\"captain_type\")\n",
    "plt.xticks(rotation=45)"
   ]
  },
  {
   "cell_type": "markdown",
   "id": "7d20f64d",
   "metadata": {},
   "source": [
    "## EIG Stats"
   ]
  },
  {
   "cell_type": "code",
   "execution_count": null,
   "id": "16e6d9e7",
   "metadata": {},
   "outputs": [],
   "source": [
    "# Path to run directory\n",
    "# base_path = resolve_project_path(\"experiments/collaborative/captain_benchmarks/run_combined/run_4o_mapeig_cot_captain\")\n",
    "base_path = resolve_project_path(\n",
    "    \"experiments/collaborative/captain_benchmarks/run_combined/run_4o_llmdecision_captain\"\n",
    ")\n",
    "\n",
    "# Find all captain.json files in subdirectories\n",
    "captain_files = glob.glob(os.path.join(base_path, '**/captain/captain.json'), recursive=True)\n",
    "\n",
    "# Dictionary to store eig values by file\n",
    "eig_values_by_file = {}\n",
    "# Initialize list to store data for DataFrame\n",
    "eig_data_list = []\n",
    "\n",
    "# Extract eig values from each file\n",
    "for file_path in captain_files:\n",
    "    # Get relative path for naming\n",
    "    rel_path = os.path.relpath(file_path, base_path)\n",
    "\n",
    "    # Extract round_id from path\n",
    "    # Use regex to extract the part after 'round_' in the relative path\n",
    "    match = re.search(r'round_([a-zA-Z0-9]+)', rel_path)\n",
    "    round_id = match.group(1) if match else None\n",
    "\n",
    "    with open(file_path, 'r') as f:\n",
    "        data = json.load(f)\n",
    "\n",
    "    # Extract eig values, skipping None/null values\n",
    "    for idx, datum in enumerate(data):\n",
    "        if 'eig' in datum and datum['eig'] is not None and 'question' in datum and datum['question'] is not None:\n",
    "            question_text = datum['question']['question']['text'] if datum['question']['question'] and 'text' in datum['question']['question'] else \"No question text\"\n",
    "            eig_value = datum['eig']\n",
    "\n",
    "            eig_questions = datum.get(\"eig_questions\", [])\n",
    "\n",
    "\n",
    "            if eig_questions is not None:\n",
    "                if len(eig_questions) != 0:\n",
    "                    eig_questions = [(q['question']['question']['text'],q['eig'], None) for q in eig_questions]\n",
    "                    max_eig = max([eq[1] for eq in eig_questions if eq[1] is not None])\n",
    "                    eig_questions = [(q[0], q[1], q[1] == max_eig) for q in eig_questions]\n",
    "\n",
    "            # Add to data list\n",
    "            eig_data_list.append({\n",
    "                'round_id': round_id,\n",
    "                'question_idx': idx,\n",
    "                'question': question_text,\n",
    "                'eig': eig_value,\n",
    "                'eig_questions': eig_questions,\n",
    "            })\n",
    "\n",
    "# Create DataFrame from the list\n",
    "model_eig_df = pd.DataFrame(eig_data_list)\n",
    "\n",
    "model_eig_df"
   ]
  },
  {
   "cell_type": "code",
   "execution_count": null,
   "id": "e7a8a194",
   "metadata": {},
   "outputs": [],
   "source": [
    "model_eig_df[\"eig\"].hist()"
   ]
  },
  {
   "cell_type": "code",
   "execution_count": null,
   "id": "948b6525",
   "metadata": {},
   "outputs": [],
   "source": [
    "# /////////////////////////////////////////////////\n",
    "# This cell calculates EIG for human questions (and saves it to notebooks/human_eig_df.csv)\n",
    "# Caution: This will take 1-2 mins to run if human_eig_df.csv doesn't exist in the notebooks directory\n",
    "# \\\\\\\\\\\\\\\\\\\\\\\\\\\\\\\\\\\\\\\\\\\\\\\\\\\\\\\\\\\\\\\\\\\\\\\\\\\\\\\\\\\\\\\\\\\\\\\\\\\n",
    "\n",
    "# JSON file to pull the code translations of human questions from\n",
    "input_json_path = resolve_project_path(\"experiments/collaborative/spotter_benchmarks/o4-mini_CodeSpotterModel_True.json\")\n",
    "\n",
    "def extract_questions_and_boards_to_dataframe(json_path):\n",
    "    \"\"\"\n",
    "    Extracts all questions asked and the board state at the time they were asked from a JSON file\n",
    "    and returns the data as a pandas DataFrame.\n",
    "\n",
    "    Args:\n",
    "        json_path (str): Path to the input JSON file.\n",
    "\n",
    "    Returns:\n",
    "        pd.DataFrame: A DataFrame containing the extracted questions and board states.\n",
    "    \"\"\"\n",
    "    if not os.path.exists(json_path):\n",
    "        raise FileNotFoundError(f\"The file {json_path} does not exist.\")\n",
    "\n",
    "    with open(json_path, 'r') as f:\n",
    "        data = json.load(f)\n",
    "\n",
    "    extracted_data = []\n",
    "\n",
    "    for entry in data:\n",
    "        if \"question\" in entry and \"occTiles\" in entry:\n",
    "            question = entry[\"question\"]\n",
    "            program = entry[\"program\"]\n",
    "            board_state = entry[\"occTiles\"]\n",
    "            answer = entry[\"answer\"]\n",
    "            true_answer = entry[\"true_answer\"]\n",
    "\n",
    "            if answer.lower() == \"true\":\n",
    "                answer = \"yes\"\n",
    "            if answer.lower() == \"false\":\n",
    "                answer = \"no\"\n",
    "\n",
    "            extracted_data.append({\n",
    "                \"question\": question,\n",
    "                \"program\": program,\n",
    "                \"board_state\": board_state,\n",
    "                \"answer\": answer,\n",
    "                \"true_answer\": true_answer,\n",
    "                \"correct\": answer == true_answer\n",
    "            })\n",
    "\n",
    "    return pd.DataFrame(extracted_data)\n",
    "\n",
    "\n",
    "if os.path.exists('human_eig_df.csv'):\n",
    "    human_eig_df = pd.read_csv('human_eig_df.csv')\n",
    "else:\n",
    "    human_eig_df = extract_questions_and_boards_to_dataframe(input_json_path)\n",
    "    human_eig_df = human_eig_df[human_eig_df['correct'] == True]\n",
    "\n",
    "    eig_calculator = EIGCalculator(samples=1000, timeout=15, epsilon=0)\n",
    "\n",
    "    # Add a new column to store EIG values\n",
    "    human_eig_df[\"calculated_eig\"] = None\n",
    "\n",
    "    for idx, row in human_eig_df.iterrows():\n",
    "            # Create a CodeQuestion instance\n",
    "            code_question = CodeQuestion(\n",
    "                question=Question(row[\"question\"]),\n",
    "                fn_text=row[\"program\"],\n",
    "                translation_prompt=\"\",\n",
    "                completion={}\n",
    "            )\n",
    "\n",
    "            # Convert board_state to a Board instance\n",
    "            board = Board.from_occ_tiles(row[\"board_state\"])\n",
    "\n",
    "            # Calculate EIG\n",
    "            eig_value = eig_calculator(code_question, board)\n",
    "            human_eig_df.at[idx, \"calculated_eig\"] = eig_value\n",
    "\n",
    "    human_eig_df.to_csv('human_eig_df.csv', index=False)\n",
    "\n",
    "human_eig_df"
   ]
  },
  {
   "cell_type": "code",
   "execution_count": null,
   "id": "f885973e",
   "metadata": {},
   "outputs": [],
   "source": [
    "import seaborn as sns\n",
    "\n",
    "import matplotlib.pyplot as plt\n",
    "\n",
    "# Prepare the data for plotting\n",
    "plot_data = pd.DataFrame({\n",
    "    'EIG Values': pd.concat([model_eig_df[\"eig\"], human_eig_df[\"calculated_eig\"]], ignore_index=True),\n",
    "    'Source': ['model_eig_df'] * len(model_eig_df) + ['human_eig_df'] * len(human_eig_df)\n",
    "})\n",
    "\n",
    "# Create a boxplot instead of a scatter plot\n",
    "sns.boxplot(data=plot_data, x='Source', y='EIG Values', palette='Set2')\n",
    "\n",
    "# Add labels and title\n",
    "plt.title('Categorical Scatter Plot of EIG Values')\n",
    "plt.xlabel('Source')\n",
    "plt.ylabel('EIG Values')\n",
    "plt.grid(axis='y', linestyle='--', alpha=0.5)\n",
    "plt.tight_layout()\n",
    "plt.show()\n",
    "\n",
    "# Calculate and print the average EIG values for both distributions\n",
    "avg_model_eig = model_eig_df[\"eig\"].mean()\n",
    "avg_human_eig = human_eig_df[\"calculated_eig\"].astype(float).mean()\n",
    "\n",
    "print(f\"Average EIG for eig_df: {avg_model_eig:.4f}\")\n",
    "print(f\"Average EIG for output_df: {avg_human_eig:.4f}\")"
   ]
  },
  {
   "cell_type": "code",
   "execution_count": null,
   "id": "c946b50e",
   "metadata": {},
   "outputs": [],
   "source": []
  }
 ],
 "metadata": {
  "kernelspec": {
   "display_name": ".venv",
   "language": "python",
   "name": "python3"
  },
  "language_info": {
   "codemirror_mode": {
    "name": "ipython",
    "version": 3
   },
   "file_extension": ".py",
   "mimetype": "text/x-python",
   "name": "python",
   "nbconvert_exporter": "python",
   "pygments_lexer": "ipython3",
   "version": "3.11.5"
  }
 },
 "nbformat": 4,
 "nbformat_minor": 5
}
