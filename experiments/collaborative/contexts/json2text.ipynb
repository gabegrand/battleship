{
 "cells": [
  {
   "cell_type": "code",
   "execution_count": null,
   "metadata": {},
   "outputs": [
    {
     "name": "stdout",
     "output_type": "stream",
     "text": [
      "Successfully saved board B01\n",
      "Successfully saved board B02\n",
      "Successfully saved board B03\n",
      "Successfully saved board B04\n",
      "Successfully saved board B05\n",
      "Successfully saved board B06\n",
      "Successfully saved board B07\n",
      "Successfully saved board B08\n",
      "Successfully saved board B09\n",
      "Successfully saved board B10\n",
      "Successfully saved board B11\n",
      "Successfully saved board B12\n",
      "Successfully saved board B13\n",
      "Successfully saved board B14\n",
      "Successfully saved board B15\n",
      "Successfully saved board B16\n",
      "Successfully saved board B17\n",
      "Successfully saved board B18\n"
     ]
    }
   ],
   "source": [
    "import battleship.board as board\n",
    "import numpy as np\n",
    "import json\n",
    "\n",
    "with open('battleship-full-v1-boards.json', 'r') as file:\n",
    "    boards_json = json.load(file)\n",
    "\n",
    "board_names = list(boards_json[\"boards\"].keys())\n",
    "for board_name in board_names:\n",
    "    board.Board(np.array(boards_json[\"boards\"][board_name])).to_text_file(f\"board_{board_name}.txt\")\n",
    "    print(\"Successfully saved board\", board_name)"
   ]
  }
 ],
 "metadata": {
  "kernelspec": {
   "display_name": "python311",
   "language": "python",
   "name": "python3"
  },
  "language_info": {
   "codemirror_mode": {
    "name": "ipython",
    "version": 3
   },
   "file_extension": ".py",
   "mimetype": "text/x-python",
   "name": "python",
   "nbconvert_exporter": "python",
   "pygments_lexer": "ipython3",
   "version": "3.11.9"
  }
 },
 "nbformat": 4,
 "nbformat_minor": 2
}
