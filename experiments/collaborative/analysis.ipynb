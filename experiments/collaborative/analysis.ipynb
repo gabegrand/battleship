{
 "cells": [
  {
   "cell_type": "markdown",
   "metadata": {},
   "source": [
    "# Analysis pipeline for Prolific data"
   ]
  },
  {
   "cell_type": "code",
   "execution_count": null,
   "metadata": {},
   "outputs": [],
   "source": [
    "%load_ext autoreload\n",
    "%autoreload 2"
   ]
  },
  {
   "cell_type": "code",
   "execution_count": null,
   "metadata": {},
   "outputs": [],
   "source": [
    "import os\n",
    "\n",
    "import json\n",
    "import numpy as np\n",
    "import pandas as pd\n",
    "import matplotlib.pyplot as plt\n",
    "import seaborn as sns\n",
    "\n",
    "from battleship.board import Board\n",
    "from analysis import load_dataset"
   ]
  },
  {
   "cell_type": "code",
   "execution_count": null,
   "metadata": {},
   "outputs": [],
   "source": [
    "%config InlineBackend.figure_format = 'retina'\n",
    "\n",
    "# set seaborn color palette\n",
    "sns.set_palette(\"Set2\")\n",
    "\n",
    "# set seaborn style\n",
    "sns.set_style(\"whitegrid\")\n",
    "sns.set_context(\"talk\")"
   ]
  },
  {
   "cell_type": "code",
   "execution_count": null,
   "metadata": {},
   "outputs": [],
   "source": [
    "# EXPERIMENT_NAME = \"battleship-2024-10-03-19-28-28\"\n",
    "# EXPERIMENT_NAME = \"battleship-pilot-v2\"\n",
    "EXPERIMENT_NAME = \"battleship-final-data\"\n",
    "\n",
    "PATH_DATA = os.path.join(\"data\", EXPERIMENT_NAME)\n",
    "PATH_EXPORT = os.path.join(PATH_DATA, \"export\")\n",
    "PATH_BONUS_EXPORT = os.path.join(PATH_EXPORT, f\"{EXPERIMENT_NAME}-bonus.csv\")\n",
    "os.makedirs(PATH_EXPORT, exist_ok=True)"
   ]
  },
  {
   "cell_type": "code",
   "execution_count": null,
   "metadata": {},
   "outputs": [],
   "source": [
    "df = load_dataset(PATH_DATA, use_gold=True, drop_incomplete=False)"
   ]
  },
  {
   "cell_type": "code",
   "execution_count": null,
   "metadata": {},
   "outputs": [],
   "source": [
    "df.columns"
   ]
  },
  {
   "cell_type": "code",
   "execution_count": null,
   "metadata": {},
   "outputs": [],
   "source": [
    "df[\"messageType\"].value_counts()"
   ]
  },
  {
   "cell_type": "code",
   "execution_count": null,
   "metadata": {},
   "outputs": [],
   "source": [
    "df[\"name\"].value_counts()"
   ]
  },
  {
   "cell_type": "code",
   "execution_count": null,
   "metadata": {},
   "outputs": [],
   "source": [
    "df[\"board_id\"].value_counts()"
   ]
  },
  {
   "cell_type": "code",
   "execution_count": null,
   "metadata": {},
   "outputs": [],
   "source": [
    "df[\"messageText\"].value_counts()"
   ]
  },
  {
   "cell_type": "code",
   "execution_count": null,
   "metadata": {},
   "outputs": [],
   "source": [
    "df.groupby([\"board_id\"])[\"roundID\"].nunique()"
   ]
  },
  {
   "cell_type": "markdown",
   "metadata": {},
   "source": [
    "# Visualizations"
   ]
  },
  {
   "cell_type": "markdown",
   "metadata": {},
   "source": [
    "## Hits"
   ]
  },
  {
   "cell_type": "code",
   "execution_count": null,
   "metadata": {},
   "outputs": [],
   "source": [
    "sns.lineplot(\n",
    "    data=df,\n",
    "    x=\"index\",\n",
    "    y=\"hits\",\n",
    "    hue=\"pairID\",\n",
    "    style=\"board_id\"\n",
    ")\n",
    "plt.legend(title=\"pairID\", bbox_to_anchor=(1.05, 1), loc=\"upper left\")"
   ]
  },
  {
   "cell_type": "code",
   "execution_count": null,
   "metadata": {},
   "outputs": [],
   "source": [
    "# Calculate hits percentage for visualization purposes\n",
    "df['hits_pct'] = df['hits'] / df['total_ship_tiles']\n",
    "\n",
    "sns.lineplot(data=df, x=\"index\", y=\"hits_pct\", hue=\"pairID\", style=\"board_id\")\n",
    "plt.legend(title=\"pairID\", bbox_to_anchor=(1.05, 1), loc=\"upper left\")"
   ]
  },
  {
   "cell_type": "code",
   "execution_count": null,
   "metadata": {},
   "outputs": [],
   "source": [
    "sns.lineplot(\n",
    "    data=df,\n",
    "    x=\"index\",\n",
    "    y=\"hits\",\n",
    "    hue=\"pairID\",\n",
    "    # style=\"board_id\"\n",
    ")\n",
    "plt.legend(title=\"pairID\", bbox_to_anchor=(1.05, 1), loc=\"upper left\")"
   ]
  },
  {
   "cell_type": "markdown",
   "metadata": {},
   "source": [
    "## Number of moves to win"
   ]
  },
  {
   "cell_type": "code",
   "execution_count": null,
   "metadata": {},
   "outputs": [],
   "source": [
    "df_move_counts = (\n",
    "    df[(df[\"messageType\"] == \"move\")]\n",
    "    .groupby([\"pairID\", \"board_id\"])\n",
    "    .size()\n",
    "    .to_frame(\"move_count\")\n",
    ")\n",
    "df_move_counts"
   ]
  },
  {
   "cell_type": "code",
   "execution_count": null,
   "metadata": {},
   "outputs": [],
   "source": [
    "df_question_counts = df[\n",
    "    (df[\"messageType\"] == \"question\")\n",
    "]\n",
    "df_question_counts = (\n",
    "    df_question_counts.groupby([\"pairID\", \"board_id\"]).size().to_frame(\"question_count\")\n",
    ")\n",
    "df_question_counts"
   ]
  },
  {
   "cell_type": "code",
   "execution_count": null,
   "metadata": {},
   "outputs": [],
   "source": [
    "df_counts = df_move_counts.join(df_question_counts)\n",
    "# replace null values with 0\n",
    "df_counts = df_counts.fillna(0)\n",
    "df_counts[\"question_count\"] = df_counts[\"question_count\"].astype(int)\n",
    "df_counts = df_counts.sort_values([\"pairID\", \"board_id\"]).reset_index(drop=False)\n",
    "df_counts"
   ]
  },
  {
   "cell_type": "code",
   "execution_count": null,
   "metadata": {},
   "outputs": [],
   "source": [
    "with sns.plotting_context(\"talk\"), sns.axes_style(\"whitegrid\"):\n",
    "\n",
    "    sns.boxplot(\n",
    "        data=df_counts,\n",
    "        y=\"move_count\",\n",
    "        hue=\"pairID\",\n",
    "        hue_order=df_counts[\"pairID\"].unique(),\n",
    "    )\n",
    "\n",
    "    plt.ylabel(\"Moves per board\")\n",
    "\n",
    "    # move legend outside of plot\n",
    "    plt.legend(title=\"pairID\", bbox_to_anchor=(1.05, 1), loc=\"upper left\")"
   ]
  },
  {
   "cell_type": "code",
   "execution_count": null,
   "metadata": {},
   "outputs": [],
   "source": [
    "sns.stripplot(\n",
    "    data=df_counts,\n",
    "    x=\"question_count\",\n",
    "    y=\"move_count\",\n",
    "    hue=\"pairID\",\n",
    "    hue_order=df_counts[\"pairID\"].unique(),\n",
    "    size=10.0,\n",
    "    jitter=0.2,\n",
    ")\n",
    "\n",
    "plt.xlabel(\"Questions\")\n",
    "plt.ylabel(\"Moves\")\n",
    "\n",
    "# move legend outside of plot\n",
    "plt.legend(title=\"Participant pair ID\", bbox_to_anchor=(1.05, 1), loc=\"upper left\")\n",
    "\n",
    "plt.title(f\"Questions asked vs. moves\")"
   ]
  },
  {
   "cell_type": "code",
   "execution_count": null,
   "metadata": {},
   "outputs": [],
   "source": [
    "sns.regplot(\n",
    "    data=df_counts,\n",
    "    x=\"question_count\",\n",
    "    y=\"move_count\",\n",
    ")\n",
    "\n",
    "plt.xlabel(\"Questions\")\n",
    "plt.ylabel(\"Moves\")\n",
    "\n",
    "plt.title(f\"Questions asked vs. moves\")"
   ]
  },
  {
   "cell_type": "markdown",
   "metadata": {},
   "source": [
    "# Bonuses"
   ]
  },
  {
   "cell_type": "code",
   "execution_count": null,
   "metadata": {},
   "outputs": [],
   "source": [
    "sns.lineplot(\n",
    "    data=df,\n",
    "    x=\"index\",\n",
    "    y=\"bonus\",\n",
    "    hue=\"pairID\",\n",
    "    style=\"board_id\",\n",
    ")\n",
    "\n",
    "plt.legend(bbox_to_anchor=(1.05, 1), loc=\"upper left\")\n",
    "plt.xlabel(\"Action #\")\n",
    "plt.ylabel(\"Bonus ($)\")\n",
    "plt.title(f\"Bonus over time\")"
   ]
  },
  {
   "cell_type": "code",
   "execution_count": null,
   "metadata": {},
   "outputs": [],
   "source": [
    "# Group by pairID and board_id, and get the highest-index stage for each group\n",
    "df_final_stage = df.loc[df.groupby([\"pairID\", \"board_id\"])[\"index\"].idxmax(), [\"pairID\", \"gameID\", \"roundID\", \"board_id\", \"bonus\", \"hits_pct\", \"precision\", \"recall\", \"f1_score\"]]\n",
    "\n",
    "# drop outliers - probably a bug\n",
    "# df_final_stage = df_final_stage[df_final_stage[\"bonus\"] < 5.0]\n",
    "df_final_stage.loc[df_final_stage[\"bonus\"] > 5.0, \"bonus\"] = np.nan\n",
    "\n",
    "df_final_stage"
   ]
  },
  {
   "cell_type": "code",
   "execution_count": null,
   "metadata": {},
   "outputs": [],
   "source": [
    "df_final_stage.loc[df_final_stage[\"f1_score\"].isnull()]"
   ]
  },
  {
   "cell_type": "code",
   "execution_count": null,
   "metadata": {},
   "outputs": [],
   "source": [
    "# sns.displot(data=df_final_stage, x=\"bonus\", hue=\"pairID\", kind=\"kde\", fill=True)\n",
    "sns.displot(\n",
    "    data=df_final_stage,\n",
    "    x=\"bonus\",\n",
    "    # hue=\"pairID\",\n",
    "    kind=\"hist\",\n",
    "    # multiple=\"stack\"\n",
    ")\n",
    "plt.xlabel(\"Bonus ($)\")\n",
    "plt.title(\"Bonus distribution\")"
   ]
  },
  {
   "cell_type": "code",
   "execution_count": null,
   "metadata": {},
   "outputs": [],
   "source": [
    "# sns.displot(data=df_final_stage, x=\"bonus\", hue=\"pairID\", kind=\"kde\", fill=True)\n",
    "sns.displot(\n",
    "    data=df_final_stage,\n",
    "    x=\"hits_pct\",\n",
    "    # hue=\"pairID\",\n",
    "    kind=\"hist\",\n",
    "    # multiple=\"stack\"\n",
    ")"
   ]
  },
  {
   "cell_type": "code",
   "execution_count": null,
   "metadata": {},
   "outputs": [],
   "source": [
    "df_final_stage[\"bonus\"].describe()"
   ]
  },
  {
   "cell_type": "code",
   "execution_count": null,
   "metadata": {},
   "outputs": [],
   "source": [
    "df_counts"
   ]
  },
  {
   "cell_type": "code",
   "execution_count": null,
   "metadata": {},
   "outputs": [],
   "source": [
    "df_counts_with_bonus = df_counts.merge(df_final_stage, on=[\"pairID\", \"board_id\"], how=\"left\")\n",
    "df_counts_with_bonus"
   ]
  },
  {
   "cell_type": "code",
   "execution_count": null,
   "metadata": {},
   "outputs": [],
   "source": [
    "sns.stripplot(\n",
    "    data=df_counts_with_bonus,\n",
    "    x=\"question_count\",\n",
    "    y=\"bonus\",\n",
    "    hue=\"pairID\",\n",
    "    hue_order=df_counts_with_bonus[\"pairID\"].unique(),\n",
    "    size=10.0,\n",
    "    jitter=0.2,\n",
    ")\n",
    "\n",
    "# move legend outside of plot\n",
    "plt.legend(title=\"Participant pair ID\", bbox_to_anchor=(1.05, 1), loc=\"upper left\")"
   ]
  },
  {
   "cell_type": "code",
   "execution_count": null,
   "metadata": {},
   "outputs": [],
   "source": [
    "sns.regplot(\n",
    "    data=df_counts_with_bonus,\n",
    "    x=\"question_count\",\n",
    "    y=\"bonus\",\n",
    ")"
   ]
  },
  {
   "cell_type": "code",
   "execution_count": null,
   "metadata": {},
   "outputs": [],
   "source": [
    "df_final_stage"
   ]
  },
  {
   "cell_type": "code",
   "execution_count": null,
   "metadata": {},
   "outputs": [],
   "source": [
    "sns.scatterplot(data=df_counts_with_bonus, x=\"question_count\", y=\"f1_score\", hue=\"pairID\")"
   ]
  },
  {
   "cell_type": "code",
   "execution_count": null,
   "metadata": {},
   "outputs": [],
   "source": [
    "import statsmodels.api as sm\n",
    "import statsmodels.formula.api as smf\n",
    "from scipy import stats\n",
    "\n",
    "x_col = \"question_count\"\n",
    "y_col = \"f1_score\"\n",
    "group_col = \"board_id\"\n",
    "\n",
    "# Reset index to avoid multi-index issues\n",
    "df_counts_with_bonus = df_counts_with_bonus.reset_index(drop=True)\n",
    "df_counts_with_bonus[\"group\"] = 1\n",
    "\n",
    "# Fit the linear mixed effects model\n",
    "# vcf = {\"board_id\": \"0 + C(board_id)\", \"pairID\": \"0 + C(pairID)\"}  # formula\n",
    "# model = sm.MixedLM.from_formula(\n",
    "#     \"move_count ~ question_count\",\n",
    "#     groups=\"group\",\n",
    "#     vc_formula=vcf,\n",
    "#     re_formula=\"~board_id\",\n",
    "#     data=df_counts_with_bonus,\n",
    "# )\n",
    "model = smf.mixedlm(\n",
    "    f\"{y_col} ~ {x_col}\",\n",
    "    df_counts_with_bonus,\n",
    "    groups=df_counts_with_bonus[group_col],\n",
    ")\n",
    "result = model.fit()\n",
    "\n",
    "# Print the summary of the model\n",
    "print(result.summary())\n",
    "\n",
    "# Calculate R-squared values\n",
    "# For mixed effects models, we can calculate both marginal and conditional R-squared\n",
    "# Marginal R-squared: variance explained by fixed effects\n",
    "# Conditional R-squared: variance explained by both fixed and random effects\n",
    "\n",
    "# Get predicted values\n",
    "y = df_counts_with_bonus[y_col]\n",
    "y_pred = result.predict()\n",
    "\n",
    "# Calculate total sum of squares\n",
    "tss = np.sum((y - np.mean(y)) ** 2)\n",
    "\n",
    "# Calculate residual sum of squares\n",
    "rss = np.sum((y - y_pred) ** 2)\n",
    "\n",
    "# Calculate R-squared\n",
    "r2 = 1 - (rss / tss)\n",
    "\n",
    "print(f\"\\nR-squared: {r2:.4f}\")\n",
    "\n",
    "# Compute p-value using likelihood ratio test\n",
    "# Fit null model (intercept only)\n",
    "null_model = smf.mixedlm(\n",
    "    f\"{y_col} ~ 1\",  # Only intercept\n",
    "    df_counts_with_bonus,\n",
    "    groups=df_counts_with_bonus[group_col],\n",
    ")\n",
    "null_result = null_model.fit()\n",
    "\n",
    "# Calculate likelihood ratio test statistic\n",
    "lr_stat = 2 * (\n",
    "    result.llf - null_result.llf\n",
    ")  # 2 * (log likelihood full - log likelihood null)\n",
    "\n",
    "# For mixed effects models, the degrees of freedom is the difference in number of fixed effects parameters\n",
    "# Full model has 2 fixed effects (intercept and question_count), null model has 1 (intercept)\n",
    "# Calculate p-value\n",
    "p_value = 1 - stats.chi2.cdf(lr_stat, 1)\n",
    "\n",
    "print(f\"P-value: {p_value:.4f}\")"
   ]
  },
  {
   "cell_type": "code",
   "execution_count": null,
   "metadata": {},
   "outputs": [],
   "source": [
    "with sns.plotting_context(\"talk\"), sns.axes_style(\"white\"):\n",
    "\n",
    "    # Create figure and axis\n",
    "    plt.figure(figsize=(8, 5))\n",
    "\n",
    "    # Add scatter plot with colors for each pair\n",
    "    sns.scatterplot(\n",
    "        data=df_counts_with_bonus,\n",
    "        x=x_col,\n",
    "        y=y_col,\n",
    "        hue=\"pairID\",\n",
    "        alpha=0.8,\n",
    "        legend=False,\n",
    "        edgecolor=None  # Remove borders from dots\n",
    "    )\n",
    "\n",
    "    sns.despine()\n",
    "\n",
    "    # Add a single regression line for all data points\n",
    "    sns.regplot(\n",
    "        data=df_counts_with_bonus,\n",
    "        x=x_col,\n",
    "        y=y_col,\n",
    "        scatter=False,\n",
    "        color='#007bff',\n",
    "        line_kws={\"linewidth\": 2, \"linestyle\": \"--\"},\n",
    "    )\n",
    "\n",
    "    # Set x-axis limits and ticks with padding\n",
    "    plt.xlim(-0.5, 15.5)  # Add padding on both sides\n",
    "    plt.xticks(range(0, 16, 1))  # Keep the same tick marks\n",
    "\n",
    "    # Add R-squared and p-value information to the plot\n",
    "    # Position text dynamically at 70% width and 25% height of the plot\n",
    "    ax = plt.gca()\n",
    "    x_min, x_max = ax.get_xlim()\n",
    "    y_min, y_max = ax.get_ylim()\n",
    "    # x_pos = x_min + 0.05 * (x_max - x_min)\n",
    "    x_pos = 0.0\n",
    "    y_pos = y_max - 0.1 * (y_max - y_min)\n",
    "\n",
    "    r2_text = f\"$R^2 = {r2:.3f}$\"\n",
    "    p_value_text = f\"$p = {p_value:.3f}$\"\n",
    "    stats_text = f\"{r2_text}\\n{p_value_text}\"\n",
    "    plt.text(x_pos, y_pos, stats_text, fontsize=12,\n",
    "             bbox=dict(facecolor='white', alpha=0.5),\n",
    "             horizontalalignment='left')\n",
    "\n",
    "    # Adjust the legend and labels\n",
    "    plt.xlabel(\"Number of questions asked\")\n",
    "    plt.ylabel(\"F1 Score\")\n",
    "\n",
    "    plt.savefig(\n",
    "        os.path.join(PATH_EXPORT, f\"{y_col}_vs_{x_col}.pdf\"),\n",
    "        bbox_inches=\"tight\",\n",
    "        dpi=300,\n",
    "    )"
   ]
  },
  {
   "cell_type": "code",
   "execution_count": null,
   "metadata": {},
   "outputs": [],
   "source": [
    "sns.regplot(data=df_counts_with_bonus, x=\"move_count\", y=\"f1_score\")"
   ]
  },
  {
   "cell_type": "code",
   "execution_count": null,
   "metadata": {},
   "outputs": [],
   "source": [
    "df_counts_with_bonus.query(\"precision == 1.0 and f1_score < 1.0\")"
   ]
  },
  {
   "cell_type": "code",
   "execution_count": null,
   "metadata": {},
   "outputs": [],
   "source": [
    "import statsmodels.api as sm"
   ]
  },
  {
   "cell_type": "code",
   "execution_count": null,
   "metadata": {},
   "outputs": [],
   "source": [
    "df_counts_with_bonus.loc[df_counts_with_bonus[\"f1_score\"].isnull()]"
   ]
  },
  {
   "cell_type": "code",
   "execution_count": null,
   "metadata": {},
   "outputs": [],
   "source": [
    "import statsmodels.api as sm\n",
    "import statsmodels.formula.api as smf\n",
    "from scipy import stats\n",
    "\n",
    "y_col = \"f1_score\"\n",
    "group_col = \"board_id\"\n",
    "\n",
    "# Reset index to avoid multi-index issues\n",
    "df_counts_with_bonus = df_counts_with_bonus.reset_index(drop=True)\n",
    "df_counts_with_bonus[\"group\"] = 1\n",
    "\n",
    "# Fit the linear mixed effects model\n",
    "# vcf = {\"board_id\": \"0 + C(board_id)\", \"pairID\": \"0 + C(pairID)\"}  # formula\n",
    "# model = sm.MixedLM.from_formula(\n",
    "#     \"move_count ~ question_count\",\n",
    "#     groups=\"group\",\n",
    "#     vc_formula=vcf,\n",
    "#     re_formula=\"~board_id\",\n",
    "#     data=df_counts_with_bonus,\n",
    "# )\n",
    "model = smf.mixedlm(\n",
    "    f\"{y_col} ~ question_count\",\n",
    "    df_counts_with_bonus,\n",
    "    groups=df_counts_with_bonus[group_col]\n",
    ")\n",
    "result = model.fit()\n",
    "\n",
    "# Print the summary of the model\n",
    "print(result.summary())\n",
    "\n",
    "# Calculate R-squared values\n",
    "# For mixed effects models, we can calculate both marginal and conditional R-squared\n",
    "# Marginal R-squared: variance explained by fixed effects\n",
    "# Conditional R-squared: variance explained by both fixed and random effects\n",
    "\n",
    "# Get predicted values\n",
    "y = df_counts_with_bonus[y_col]\n",
    "y_pred = result.predict()\n",
    "\n",
    "# Calculate total sum of squares\n",
    "tss = np.sum((y - np.mean(y)) ** 2)\n",
    "\n",
    "# Calculate residual sum of squares\n",
    "rss = np.sum((y - y_pred) ** 2)\n",
    "\n",
    "# Calculate R-squared\n",
    "r2 = 1 - (rss / tss)\n",
    "\n",
    "print(f\"\\nR-squared: {r2:.4f}\")\n",
    "\n",
    "# Compute p-value using likelihood ratio test\n",
    "# Fit null model (intercept only)\n",
    "null_model = smf.mixedlm(\n",
    "    f\"{y_col} ~ 1\",  # Only intercept\n",
    "    df_counts_with_bonus,\n",
    "    groups=df_counts_with_bonus[group_col],\n",
    ")\n",
    "null_result = null_model.fit()\n",
    "\n",
    "# Calculate likelihood ratio test statistic\n",
    "lr_stat = 2 * (\n",
    "    result.llf - null_result.llf\n",
    ")  # 2 * (log likelihood full - log likelihood null)\n",
    "\n",
    "# For mixed effects models, the degrees of freedom is the difference in number of fixed effects parameters\n",
    "# Full model has 2 fixed effects (intercept and question_count), null model has 1 (intercept)\n",
    "# Calculate p-value\n",
    "p_value = 1 - stats.chi2.cdf(lr_stat, 1)\n",
    "\n",
    "print(f\"P-value: {p_value:.4f}\")"
   ]
  },
  {
   "cell_type": "markdown",
   "metadata": {},
   "source": [
    "### Export final bonus information"
   ]
  },
  {
   "cell_type": "code",
   "execution_count": null,
   "metadata": {},
   "outputs": [],
   "source": [
    "PLAYER_COLUMNS = [\"gameID\", \"participantIdentifier\"]\n",
    "df_final_stage_export = df_final_stage.merge(df_player[PLAYER_COLUMNS], on=\"gameID\")\n",
    "\n",
    "df_final_stage_export = df_final_stage_export.groupby(\"participantIdentifier\")[\n",
    "    \"bonus\"\n",
    "].sum()\n",
    "df_final_stage_export.to_csv(PATH_BONUS_EXPORT, header=False, index=False)\n",
    "display(df_final_stage_export)"
   ]
  },
  {
   "cell_type": "markdown",
   "metadata": {},
   "source": [
    "## Timing"
   ]
  },
  {
   "cell_type": "code",
   "execution_count": null,
   "metadata": {},
   "outputs": [],
   "source": [
    "df['cumulativeStageTime'] = df.sort_values(\"index\").groupby(['pairID', 'roundID'])['messageTime'].cumsum().div(1000)\n",
    "df"
   ]
  },
  {
   "cell_type": "code",
   "execution_count": null,
   "metadata": {},
   "outputs": [],
   "source": [
    "with sns.plotting_context(\"talk\"), sns.axes_style(\"whitegrid\"):\n",
    "    sns.lineplot(\n",
    "        data=df,\n",
    "        x=\"index\",\n",
    "        y=\"cumulativeStageTime\",\n",
    "        hue=\"pairID\",\n",
    "        style=\"board_id\",\n",
    "    )\n",
    "\n",
    "    plt.legend(bbox_to_anchor=(1.05, 1), loc=\"upper left\")"
   ]
  },
  {
   "cell_type": "code",
   "execution_count": null,
   "metadata": {},
   "outputs": [],
   "source": [
    "# Group by pairID and board_id, and get the highest-index stage for each group\n",
    "df_final_stage_time = df.loc[\n",
    "    df.groupby([\"pairID\", \"board_id\"])[\"index\"].idxmax(),\n",
    "    [\"pairID\", \"board_id\", \"cumulativeStageTime\"],\n",
    "]\n",
    "\n",
    "df_final_stage_time"
   ]
  },
  {
   "cell_type": "code",
   "execution_count": null,
   "metadata": {},
   "outputs": [],
   "source": [
    "sns.barplot(\n",
    "    data=df_final_stage_time, y=\"cumulativeStageTime\", x=\"board_id\", hue=\"pairID\"\n",
    ")"
   ]
  },
  {
   "cell_type": "code",
   "execution_count": null,
   "metadata": {},
   "outputs": [],
   "source": [
    "pd.set_option('display.max_columns', None)\n",
    "df[df['messageTime'].isna()]"
   ]
  },
  {
   "cell_type": "code",
   "execution_count": null,
   "metadata": {},
   "outputs": [],
   "source": []
  },
  {
   "cell_type": "markdown",
   "metadata": {},
   "source": [
    "# Timeline visualization\n",
    "Shows the timeline of moves and questions for each game."
   ]
  },
  {
   "cell_type": "code",
   "execution_count": null,
   "metadata": {},
   "outputs": [],
   "source": [
    "g = sns.relplot(\n",
    "    kind=\"line\",\n",
    "    col=\"board_id\",\n",
    "    row=\"pairID\",\n",
    "    aspect=2.0,\n",
    "    data=df.sort_values([\"pairID\", \"board_id\"]),\n",
    "    x=\"index\",\n",
    "    y=\"hits_pct\",\n",
    "    hue=\"pairID\",\n",
    "    linewidth=6,\n",
    ")\n",
    "\n",
    "# Plot a marker for each question\n",
    "g.map_dataframe(\n",
    "    lambda data, **kws: sns.scatterplot(\n",
    "        data=data[data[\"messageType\"] == \"question\"],\n",
    "        x=\"index\",\n",
    "        y=\"hits_pct\",\n",
    "        s=10,\n",
    "        marker=\"o\",\n",
    "        color=\"black\",\n",
    "        zorder=10,  # Set zorder to be on top\n",
    "    ),\n",
    "    board_id=\"board_id\",\n",
    "    pairID=\"pairID\",\n",
    ")\n",
    "\n",
    "\n",
    "for (pairID, board_id), ax in g.axes_dict.items():\n",
    "    y_max, y_offset = -np.inf, 0.05\n",
    "    for _, row in df[\n",
    "        (df[\"messageType\"] == \"question\") &\n",
    "        (df[\"board_id\"] == board_id) &\n",
    "        (df[\"pairID\"] == pairID)\n",
    "    ].sort_values(\"index\", ascending=True).iterrows():\n",
    "        y = row[\"hits_pct\"]\n",
    "        y = max(y, y_max + y_offset)\n",
    "        y_max = y\n",
    "\n",
    "        if y > row[\"hits_pct\"]:\n",
    "            ax.plot(\n",
    "                [row[\"index\"], row[\"index\"]],\n",
    "                [y, row[\"hits_pct\"]],\n",
    "                color=\"gray\",\n",
    "                linestyle=\"--\",\n",
    "                linewidth=1,\n",
    "                alpha=0.5,\n",
    "            )\n",
    "\n",
    "        ax.text(\n",
    "            row[\"index\"],\n",
    "            y,\n",
    "            row[\"messageText\"],\n",
    "            horizontalalignment=\"left\",\n",
    "            size=10,\n",
    "            color=\"black\",\n",
    "        )"
   ]
  },
  {
   "cell_type": "code",
   "execution_count": null,
   "metadata": {},
   "outputs": [],
   "source": []
  }
 ],
 "metadata": {
  "kernelspec": {
   "display_name": ".venv",
   "language": "python",
   "name": "python3"
  },
  "language_info": {
   "codemirror_mode": {
    "name": "ipython",
    "version": 3
   },
   "file_extension": ".py",
   "mimetype": "text/x-python",
   "name": "python",
   "nbconvert_exporter": "python",
   "pygments_lexer": "ipython3",
   "version": "3.11.5"
  }
 },
 "nbformat": 4,
 "nbformat_minor": 2
}
