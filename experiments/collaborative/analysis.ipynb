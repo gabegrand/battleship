{
 "cells": [
  {
   "cell_type": "markdown",
   "metadata": {},
   "source": [
    "# Analysis pipeline for Prolific data"
   ]
  },
  {
   "cell_type": "code",
   "execution_count": null,
   "metadata": {},
   "outputs": [],
   "source": [
    "%load_ext autoreload\n",
    "%autoreload 2"
   ]
  },
  {
   "cell_type": "code",
   "execution_count": 107,
   "metadata": {},
   "outputs": [],
   "source": [
    "import os\n",
    "\n",
    "import json\n",
    "import numpy as np\n",
    "import pandas as pd\n",
    "import matplotlib.pyplot as plt\n",
    "import seaborn as sns\n",
    "\n",
    "from battleship.board import Board\n",
    "from analysis import load_dataset"
   ]
  },
  {
   "cell_type": "code",
   "execution_count": 108,
   "metadata": {},
   "outputs": [],
   "source": [
    "%config InlineBackend.figure_format = 'retina'\n",
    "\n",
    "# set seaborn color palette\n",
    "sns.set_palette(\"Set2\")\n",
    "\n",
    "# set seaborn style\n",
    "sns.set_style(\"whitegrid\")\n",
    "sns.set_context(\"talk\")"
   ]
  },
  {
   "cell_type": "code",
   "execution_count": 109,
   "metadata": {},
   "outputs": [],
   "source": [
    "# EXPERIMENT_NAME = \"battleship-2024-10-03-19-28-28\"\n",
    "# EXPERIMENT_NAME = \"battleship-pilot-v2\"\n",
    "EXPERIMENT_NAME = \"battleship-final-data\"\n",
    "\n",
    "PATH_DATA = os.path.join(\"data\", EXPERIMENT_NAME)\n",
    "PATH_EXPORT = os.path.join(PATH_DATA, \"export\")\n",
    "PATH_BONUS_EXPORT = os.path.join(PATH_EXPORT, f\"{EXPERIMENT_NAME}-bonus.csv\")\n",
    "os.makedirs(PATH_EXPORT, exist_ok=True)"
   ]
  },
  {
   "cell_type": "code",
   "execution_count": null,
   "metadata": {},
   "outputs": [],
   "source": [
    "df = load_dataset(PATH_DATA, use_gold=True, drop_incomplete=False)"
   ]
  },
  {
   "cell_type": "code",
   "execution_count": null,
   "metadata": {},
   "outputs": [],
   "source": [
    "df.columns"
   ]
  },
  {
   "cell_type": "code",
   "execution_count": null,
   "metadata": {},
   "outputs": [],
   "source": [
    "df[\"messageType\"].value_counts()"
   ]
  },
  {
   "cell_type": "code",
   "execution_count": null,
   "metadata": {},
   "outputs": [],
   "source": [
    "df[\"name\"].value_counts()"
   ]
  },
  {
   "cell_type": "code",
   "execution_count": null,
   "metadata": {},
   "outputs": [],
   "source": [
    "df[\"board_id\"].value_counts()"
   ]
  },
  {
   "cell_type": "code",
   "execution_count": null,
   "metadata": {},
   "outputs": [],
   "source": [
    "df[\"messageText\"].value_counts()"
   ]
  },
  {
   "cell_type": "code",
   "execution_count": null,
   "metadata": {},
   "outputs": [],
   "source": [
    "df.groupby([\"board_id\"])[\"roundID\"].nunique()"
   ]
  },
  {
   "cell_type": "markdown",
   "metadata": {},
   "source": [
    "# Visualizations"
   ]
  },
  {
   "cell_type": "markdown",
   "metadata": {},
   "source": [
    "## Hits"
   ]
  },
  {
   "cell_type": "code",
   "execution_count": null,
   "metadata": {},
   "outputs": [],
   "source": [
    "sns.lineplot(\n",
    "    data=df,\n",
    "    x=\"index\",\n",
    "    y=\"hits\",\n",
    "    hue=\"pairID\",\n",
    "    style=\"board_id\"\n",
    ")\n",
    "plt.legend(title=\"pairID\", bbox_to_anchor=(1.05, 1), loc=\"upper left\")"
   ]
  },
  {
   "cell_type": "code",
   "execution_count": null,
   "metadata": {},
   "outputs": [],
   "source": [
    "sns.lineplot(data=df, x=\"index\", y=\"hits_pct\", hue=\"pairID\", style=\"board_id\")\n",
    "plt.legend(title=\"pairID\", bbox_to_anchor=(1.05, 1), loc=\"upper left\")"
   ]
  },
  {
   "cell_type": "code",
   "execution_count": null,
   "metadata": {},
   "outputs": [],
   "source": [
    "sns.lineplot(\n",
    "    data=df,\n",
    "    x=\"index\",\n",
    "    y=\"hits\",\n",
    "    hue=\"pairID\",\n",
    "    # style=\"board_id\"\n",
    ")\n",
    "plt.legend(title=\"pairID\", bbox_to_anchor=(1.05, 1), loc=\"upper left\")"
   ]
  },
  {
   "cell_type": "markdown",
   "metadata": {},
   "source": [
    "## Number of moves to win"
   ]
  },
  {
   "cell_type": "code",
   "execution_count": null,
   "metadata": {},
   "outputs": [],
   "source": [
    "df_move_counts = (\n",
    "    df[(df[\"messageType\"] == \"move\")]\n",
    "    .groupby([\"pairID\", \"board_id\"])\n",
    "    .size()\n",
    "    .to_frame(\"move_count\")\n",
    ")\n",
    "df_move_counts"
   ]
  },
  {
   "cell_type": "code",
   "execution_count": null,
   "metadata": {},
   "outputs": [],
   "source": [
    "df_question_counts = df[\n",
    "    (df[\"messageType\"] == \"question\")\n",
    "]\n",
    "df_question_counts = (\n",
    "    df_question_counts.groupby([\"pairID\", \"board_id\"]).size().to_frame(\"question_count\")\n",
    ")\n",
    "df_question_counts"
   ]
  },
  {
   "cell_type": "code",
   "execution_count": null,
   "metadata": {},
   "outputs": [],
   "source": [
    "df_counts = df_move_counts.join(df_question_counts)\n",
    "# replace null values with 0\n",
    "df_counts = df_counts.fillna(0)\n",
    "df_counts[\"question_count\"] = df_counts[\"question_count\"].astype(int)\n",
    "df_counts = df_counts.sort_values([\"pairID\", \"board_id\"]).reset_index(drop=False)\n",
    "df_counts"
   ]
  },
  {
   "cell_type": "code",
   "execution_count": null,
   "metadata": {},
   "outputs": [],
   "source": [
    "with sns.plotting_context(\"talk\"), sns.axes_style(\"whitegrid\"):\n",
    "\n",
    "    sns.boxplot(\n",
    "        data=df_counts,\n",
    "        y=\"move_count\",\n",
    "        hue=\"pairID\",\n",
    "        hue_order=df_counts[\"pairID\"].unique(),\n",
    "    )\n",
    "\n",
    "    plt.ylabel(\"Moves per board\")\n",
    "\n",
    "    # move legend outside of plot\n",
    "    plt.legend(title=\"pairID\", bbox_to_anchor=(1.05, 1), loc=\"upper left\")"
   ]
  },
  {
   "cell_type": "code",
   "execution_count": null,
   "metadata": {},
   "outputs": [],
   "source": [
    "sns.stripplot(\n",
    "    data=df_counts,\n",
    "    x=\"question_count\",\n",
    "    y=\"move_count\",\n",
    "    hue=\"pairID\",\n",
    "    hue_order=df_counts[\"pairID\"].unique(),\n",
    "    size=10.0,\n",
    "    jitter=0.2,\n",
    ")\n",
    "\n",
    "plt.xlabel(\"Questions\")\n",
    "plt.ylabel(\"Moves\")\n",
    "\n",
    "# move legend outside of plot\n",
    "plt.legend(title=\"Participant pair ID\", bbox_to_anchor=(1.05, 1), loc=\"upper left\")\n",
    "\n",
    "plt.title(f\"Questions asked vs. moves\")"
   ]
  },
  {
   "cell_type": "code",
   "execution_count": null,
   "metadata": {},
   "outputs": [],
   "source": [
    "sns.regplot(\n",
    "    data=df_counts,\n",
    "    x=\"question_count\",\n",
    "    y=\"move_count\",\n",
    ")\n",
    "\n",
    "plt.xlabel(\"Questions\")\n",
    "plt.ylabel(\"Moves\")\n",
    "\n",
    "plt.title(f\"Questions asked vs. moves\")"
   ]
  },
  {
   "cell_type": "markdown",
   "metadata": {},
   "source": [
    "# Bonuses"
   ]
  },
  {
   "cell_type": "code",
   "execution_count": null,
   "metadata": {},
   "outputs": [],
   "source": [
    "sns.lineplot(\n",
    "    data=df,\n",
    "    x=\"index\",\n",
    "    y=\"bonus\",\n",
    "    hue=\"pairID\",\n",
    "    style=\"board_id\",\n",
    ")\n",
    "\n",
    "plt.legend(bbox_to_anchor=(1.05, 1), loc=\"upper left\")\n",
    "plt.xlabel(\"Action #\")\n",
    "plt.ylabel(\"Bonus ($)\")\n",
    "plt.title(f\"Bonus over time\")"
   ]
  },
  {
   "cell_type": "code",
   "execution_count": null,
   "metadata": {
    "vscode": {
     "languageId": "ruby"
    }
   },
   "outputs": [],
   "source": [
    "# Group by pairID and board_id, and get the highest-index stage for each group\n",
    "df_final_stage = df.loc[df.groupby([\"pairID\", \"board_id\"])[\"index\"].idxmax(), [\"pairID\", \"gameID\", \"roundID\", \"board_id\", \"bonus\", \"hits_pct\", \"precision\", \"recall\"]]\n",
    "\n",
    "# drop outliers - probably a bug\n",
    "df_final_stage = df_final_stage[df_final_stage[\"bonus\"] < 5.0]\n",
    "\n",
    "df_final_stage"
   ]
  },
  {
   "cell_type": "code",
   "execution_count": null,
   "metadata": {
    "vscode": {
     "languageId": "ruby"
    }
   },
   "outputs": [],
   "source": [
    "# sns.displot(data=df_final_stage, x=\"bonus\", hue=\"pairID\", kind=\"kde\", fill=True)\n",
    "sns.displot(\n",
    "    data=df_final_stage,\n",
    "    x=\"bonus\",\n",
    "    # hue=\"pairID\",\n",
    "    kind=\"hist\",\n",
    "    # multiple=\"stack\"\n",
    ")\n",
    "plt.xlabel(\"Bonus ($)\")\n",
    "plt.title(\"Bonus distribution\")"
   ]
  },
  {
   "cell_type": "code",
   "execution_count": null,
   "metadata": {
    "vscode": {
     "languageId": "ruby"
    }
   },
   "outputs": [],
   "source": [
    "# sns.displot(data=df_final_stage, x=\"bonus\", hue=\"pairID\", kind=\"kde\", fill=True)\n",
    "sns.displot(\n",
    "    data=df_final_stage,\n",
    "    x=\"hits_pct\",\n",
    "    # hue=\"pairID\",\n",
    "    kind=\"hist\",\n",
    "    # multiple=\"stack\"\n",
    ")"
   ]
  },
  {
   "cell_type": "code",
   "execution_count": null,
   "metadata": {},
   "outputs": [],
   "source": [
    "df_final_stage[\"bonus\"].describe()"
   ]
  },
  {
   "cell_type": "code",
   "execution_count": null,
   "metadata": {},
   "outputs": [],
   "source": [
    "df_counts_with_bonus = df_counts.merge(df_final_stage, on=[\"pairID\", \"board_id\"], how=\"left\")\n",
    "df_counts_with_bonus"
   ]
  },
  {
   "cell_type": "code",
   "execution_count": null,
   "metadata": {},
   "outputs": [],
   "source": [
    "sns.stripplot(\n",
    "    data=df_counts_with_bonus,\n",
    "    x=\"question_count\",\n",
    "    y=\"bonus\",\n",
    "    hue=\"pairID\",\n",
    "    hue_order=df_counts_with_bonus[\"pairID\"].unique(),\n",
    "    size=10.0,\n",
    "    jitter=0.2,\n",
    ")\n",
    "\n",
    "# move legend outside of plot\n",
    "plt.legend(title=\"Participant pair ID\", bbox_to_anchor=(1.05, 1), loc=\"upper left\")"
   ]
  },
  {
   "cell_type": "code",
   "execution_count": null,
   "metadata": {},
   "outputs": [],
   "source": [
    "sns.regplot(\n",
    "    data=df_counts_with_bonus,\n",
    "    x=\"question_count\",\n",
    "    y=\"bonus\",\n",
    ")"
   ]
  },
  {
   "cell_type": "code",
   "execution_count": null,
   "metadata": {},
   "outputs": [],
   "source": [
    "df_final_stage"
   ]
  },
  {
   "cell_type": "code",
   "execution_count": null,
   "metadata": {},
   "outputs": [],
   "source": [
    "sns.regplot(data=df_counts_with_bonus, x=\"question_count\", y=\"precision\")"
   ]
  },
  {
   "cell_type": "code",
   "execution_count": 137,
   "metadata": {},
   "outputs": [],
   "source": [
    "import statsmodels.api as sm"
   ]
  },
  {
   "cell_type": "code",
   "execution_count": null,
   "metadata": {},
   "outputs": [],
   "source": [
    "df_counts_with_bonus"
   ]
  },
  {
   "cell_type": "code",
   "execution_count": null,
   "metadata": {},
   "outputs": [],
   "source": [
    "import statsmodels.api as sm\n",
    "import statsmodels.formula.api as smf\n",
    "\n",
    "# Reset index to avoid multi-index issues\n",
    "df_counts_with_bonus = df_counts_with_bonus.reset_index(drop=True)\n",
    "df_counts_with_bonus[\"group\"] = 1\n",
    "\n",
    "# Fit the linear mixed effects model\n",
    "# vcf = {\"board_id\": \"0 + C(board_id)\", \"pairID\": \"0 + C(pairID)\"}  # formula\n",
    "# model = sm.MixedLM.from_formula(\n",
    "#     \"move_count ~ question_count\",\n",
    "#     groups=\"group\",\n",
    "#     vc_formula=vcf,\n",
    "#     re_formula=\"~board_id\",\n",
    "#     data=df_counts_with_bonus,\n",
    "# )\n",
    "model = smf.mixedlm(\"move_count ~ question_count\", df_counts_with_bonus, groups=df_counts_with_bonus[\"board_id\"])\n",
    "result = model.fit()\n",
    "\n",
    "# Print the summary of the model\n",
    "print(result.summary())"
   ]
  },
  {
   "cell_type": "markdown",
   "metadata": {},
   "source": [
    "### Export final bonus information"
   ]
  },
  {
   "cell_type": "code",
   "execution_count": null,
   "metadata": {},
   "outputs": [],
   "source": [
    "PLAYER_COLUMNS = [\"gameID\", \"participantIdentifier\"]\n",
    "df_final_stage_export = df_final_stage.merge(df_player[PLAYER_COLUMNS], on=\"gameID\")\n",
    "\n",
    "df_final_stage_export = df_final_stage_export.groupby(\"participantIdentifier\")[\n",
    "    \"bonus\"\n",
    "].sum()\n",
    "df_final_stage_export.to_csv(PATH_BONUS_EXPORT, header=False, index=False)\n",
    "display(df_final_stage_export)"
   ]
  },
  {
   "cell_type": "markdown",
   "metadata": {},
   "source": [
    "## Timing"
   ]
  },
  {
   "cell_type": "code",
   "execution_count": null,
   "metadata": {
    "vscode": {
     "languageId": "javascript"
    }
   },
   "outputs": [],
   "source": [
    "df['cumulativeStageTime'] = df.sort_values(\"index\").groupby(['pairID', 'roundID'])['messageTime'].cumsum().div(1000)\n",
    "df"
   ]
  },
  {
   "cell_type": "code",
   "execution_count": null,
   "metadata": {},
   "outputs": [],
   "source": [
    "with sns.plotting_context(\"talk\"), sns.axes_style(\"whitegrid\"):\n",
    "    sns.lineplot(\n",
    "        data=df,\n",
    "        x=\"index\",\n",
    "        y=\"cumulativeStageTime\",\n",
    "        hue=\"pairID\",\n",
    "        style=\"board_id\",\n",
    "    )\n",
    "\n",
    "    plt.legend(bbox_to_anchor=(1.05, 1), loc=\"upper left\")"
   ]
  },
  {
   "cell_type": "code",
   "execution_count": null,
   "metadata": {},
   "outputs": [],
   "source": [
    "# Group by pairID and board_id, and get the highest-index stage for each group\n",
    "df_final_stage_time = df.loc[\n",
    "    df.groupby([\"pairID\", \"board_id\"])[\"index\"].idxmax(),\n",
    "    [\"pairID\", \"board_id\", \"cumulativeStageTime\"],\n",
    "]\n",
    "\n",
    "df_final_stage_time"
   ]
  },
  {
   "cell_type": "code",
   "execution_count": null,
   "metadata": {},
   "outputs": [],
   "source": [
    "sns.barplot(\n",
    "    data=df_final_stage_time, y=\"cumulativeStageTime\", x=\"board_id\", hue=\"pairID\"\n",
    ")"
   ]
  },
  {
   "cell_type": "code",
   "execution_count": null,
   "metadata": {},
   "outputs": [],
   "source": [
    "pd.set_option('display.max_columns', None)\n",
    "df[df['messageTime'].isna()]"
   ]
  },
  {
   "cell_type": "code",
   "execution_count": null,
   "metadata": {},
   "outputs": [],
   "source": []
  },
  {
   "cell_type": "markdown",
   "metadata": {},
   "source": [
    "# Timeline visualization\n",
    "Shows the timeline of moves and questions for each game."
   ]
  },
  {
   "cell_type": "code",
   "execution_count": null,
   "metadata": {},
   "outputs": [],
   "source": [
    "g = sns.relplot(\n",
    "    kind=\"line\",\n",
    "    col=\"board_id\",\n",
    "    row=\"pairID\",\n",
    "    aspect=2.0,\n",
    "    data=df.sort_values([\"pairID\", \"board_id\"]),\n",
    "    x=\"index\",\n",
    "    y=\"hits_pct\",\n",
    "    hue=\"pairID\",\n",
    "    linewidth=6,\n",
    ")\n",
    "\n",
    "# Plot a marker for each question\n",
    "g.map_dataframe(\n",
    "    lambda data, **kws: sns.scatterplot(\n",
    "        data=data[data[\"messageType\"] == \"question\"],\n",
    "        x=\"index\",\n",
    "        y=\"hits_pct\",\n",
    "        s=10,\n",
    "        marker=\"o\",\n",
    "        color=\"black\",\n",
    "        zorder=10,  # Set zorder to be on top\n",
    "    ),\n",
    "    board_id=\"board_id\",\n",
    "    pairID=\"pairID\",\n",
    ")\n",
    "\n",
    "\n",
    "for (pairID, board_id), ax in g.axes_dict.items():\n",
    "    y_max, y_offset = -np.inf, 0.05\n",
    "    for _, row in df[\n",
    "        (df[\"messageType\"] == \"question\") &\n",
    "        (df[\"board_id\"] == board_id) &\n",
    "        (df[\"pairID\"] == pairID)\n",
    "    ].sort_values(\"index\", ascending=True).iterrows():\n",
    "        y = row[\"hits_pct\"]\n",
    "        y = max(y, y_max + y_offset)\n",
    "        y_max = y\n",
    "\n",
    "        if y > row[\"hits_pct\"]:\n",
    "            ax.plot(\n",
    "                [row[\"index\"], row[\"index\"]],\n",
    "                [y, row[\"hits_pct\"]],\n",
    "                color=\"gray\",\n",
    "                linestyle=\"--\",\n",
    "                linewidth=1,\n",
    "                alpha=0.5,\n",
    "            )\n",
    "\n",
    "        ax.text(\n",
    "            row[\"index\"],\n",
    "            y,\n",
    "            row[\"messageText\"],\n",
    "            horizontalalignment=\"left\",\n",
    "            size=10,\n",
    "            color=\"black\",\n",
    "        )"
   ]
  },
  {
   "cell_type": "code",
   "execution_count": null,
   "metadata": {},
   "outputs": [],
   "source": []
  }
 ],
 "metadata": {
  "kernelspec": {
   "display_name": ".venv",
   "language": "python",
   "name": "python3"
  },
  "language_info": {
   "codemirror_mode": {
    "name": "ipython",
    "version": 3
   },
   "file_extension": ".py",
   "mimetype": "text/x-python",
   "name": "python",
   "nbconvert_exporter": "python",
   "pygments_lexer": "ipython3",
   "version": "3.11.5"
  }
 },
 "nbformat": 4,
 "nbformat_minor": 2
}
