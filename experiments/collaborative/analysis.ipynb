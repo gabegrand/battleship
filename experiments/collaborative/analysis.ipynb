{
 "cells": [
  {
   "cell_type": "markdown",
   "metadata": {},
   "source": [
    "# Analysis pipeline for Prolific data"
   ]
  },
  {
   "cell_type": "code",
   "execution_count": 1,
   "metadata": {},
   "outputs": [],
   "source": [
    "%load_ext autoreload\n",
    "%autoreload 2"
   ]
  },
  {
   "cell_type": "code",
   "execution_count": 2,
   "metadata": {},
   "outputs": [],
   "source": [
    "import os\n",
    "\n",
    "import json\n",
    "import numpy as np\n",
    "import pandas as pd\n",
    "import matplotlib.pyplot as plt\n",
    "import seaborn as sns\n",
    "\n",
    "from battleship.board import Board"
   ]
  },
  {
   "cell_type": "code",
   "execution_count": 3,
   "metadata": {},
   "outputs": [],
   "source": [
    "%config InlineBackend.figure_format = 'retina'\n",
    "\n",
    "# set seaborn color palette\n",
    "sns.set_palette(\"Set2\")\n",
    "\n",
    "# set seaborn style\n",
    "sns.set_style(\"whitegrid\")\n",
    "sns.set_context(\"talk\")"
   ]
  },
  {
   "cell_type": "code",
   "execution_count": 4,
   "metadata": {},
   "outputs": [],
   "source": [
    "# EXPERIMENT_NAME = \"battleship-2024-10-03-19-28-28\"\n",
    "# EXPERIMENT_NAME = \"battleship-pilot-v2\"\n",
    "EXPERIMENT_NAME = \"battleship-final-data\"\n",
    "\n",
    "PATH_DATA = os.path.join(\"data\", EXPERIMENT_NAME)\n",
    "\n",
    "\n",
    "PATH_BATCH = os.path.join(PATH_DATA, \"batch.csv\")\n",
    "PATH_GAME = os.path.join(PATH_DATA, \"game.csv\")\n",
    "PATH_GLOBAL = os.path.join(PATH_DATA, \"global.csv\")\n",
    "PATH_PLAYER = os.path.join(PATH_DATA, \"player.csv\")\n",
    "PATH_ROUND = os.path.join(PATH_DATA, \"round.csv\")\n",
    "PATH_STAGE = os.path.join(PATH_DATA, \"stage.csv\")\n",
    "\n",
    "PATH_EXPORT = os.path.join(PATH_DATA, \"export\")\n",
    "PATH_BONUS_EXPORT = os.path.join(PATH_EXPORT, f\"{EXPERIMENT_NAME}-bonus.csv\")\n",
    "os.makedirs(PATH_EXPORT, exist_ok=True)"
   ]
  },
  {
   "cell_type": "code",
   "execution_count": null,
   "metadata": {},
   "outputs": [],
   "source": [
    "df_stage = pd.read_csv(PATH_STAGE)\n",
    "\n",
    "# rename id to stageID\n",
    "df_stage = df_stage.rename(mapper={\"id\": \"stageID\"}, axis=1)\n",
    "\n",
    "# drop all columns that end with LastChangedAt\n",
    "df_stage = df_stage.loc[:, ~df_stage.columns.str.endswith(\"LastChangedAt\")]\n",
    "\n",
    "df_stage"
   ]
  },
  {
   "cell_type": "code",
   "execution_count": null,
   "metadata": {},
   "outputs": [],
   "source": [
    "df_round = pd.read_csv(PATH_ROUND)\n",
    "\n",
    "# rename id to roundID\n",
    "df_round = df_round.rename(mapper={\"id\": \"roundID\"}, axis=1)\n",
    "\n",
    "# drop all columns that end with LastChangedAt\n",
    "df_round = df_round.loc[:, ~df_round.columns.str.endswith(\"LastChangedAt\")]\n",
    "\n",
    "df_round"
   ]
  },
  {
   "cell_type": "code",
   "execution_count": null,
   "metadata": {},
   "outputs": [],
   "source": [
    "df_player = pd.read_csv(PATH_PLAYER)\n",
    "df_player"
   ]
  },
  {
   "cell_type": "code",
   "execution_count": null,
   "metadata": {},
   "outputs": [],
   "source": [
    "df_ended = df_player[[\"gameID\", \"ended\", \"timeoutGameEnd\"]].drop_duplicates()\n",
    "df_ended[\"gameCompleted\"] = (df_ended[\"ended\"] == \"game ended\") & (df_ended[\"timeoutGameEnd\"] == False)\n",
    "\n",
    "if not (df_ended[\"gameCompleted\"]).all():\n",
    "    print(\"WARNING: Some games were not completed.\")\n",
    "\n",
    "df_ended"
   ]
  },
  {
   "cell_type": "code",
   "execution_count": null,
   "metadata": {},
   "outputs": [],
   "source": [
    "# Merge stage, round, and player dataframes\n",
    "\n",
    "ROUND_COLUMNS = [\"roundID\"] + [\"board_id\", \"trueTiles\"]\n",
    "df = df_stage.merge(df_round[ROUND_COLUMNS], on=\"roundID\")\n",
    "\n",
    "# drop all rows where messageType is not in (fire, question, answer, decision)\n",
    "df = df[df[\"messageType\"].isin([\"move\", \"question\", \"answer\", \"decision\"])]\n",
    "\n",
    "# drop all rows where game was not completed\n",
    "df = df.merge(df_ended, on=\"gameID\")\n",
    "df = df[df[\"gameCompleted\"]]\n",
    "\n",
    "# Convert occTiles and trueTiles to numpy arrays\n",
    "df[\"occTiles\"] = df[\"occTiles\"].apply(json.loads)\n",
    "df[\"trueTiles\"] = df[\"trueTiles\"].apply(json.loads)\n",
    "\n",
    "# Convert board_id to int\n",
    "# df[\"board_id\"] = df[\"board_id\"].astype(int)\n",
    "\n",
    "# Map each gameID to a unique pairID (pair_01, pair_02, ...)\n",
    "df[\"pairID\"] = df[\"gameID\"].map({gameID: f\"pair_{i:02}\" for i, gameID in enumerate(sorted(df[\"gameID\"].unique()))})\n",
    "\n",
    "# Sort by pairID and roundID\n",
    "df = df.sort_values(by=[\"pairID\", \"roundID\"])\n",
    "\n",
    "df"
   ]
  },
  {
   "cell_type": "markdown",
   "metadata": {},
   "source": [
    "# Sampling games for annotation"
   ]
  },
  {
   "cell_type": "code",
   "execution_count": null,
   "metadata": {},
   "outputs": [],
   "source": [
    "gold_round_ids = df[\"roundID\"].unique()\n",
    "# print(gold_round_ids)\n",
    "\n",
    "df_gold = df[df[\"roundID\"].isin(gold_round_ids)][[\"gameID\", \"roundID\"]].drop_duplicates().sample(n=20, replace=False, random_state=123).reset_index(drop=True)\n",
    "print(df_gold)\n",
    "\n",
    "df_gold.to_csv(os.path.join(PATH_EXPORT, f\"{EXPERIMENT_NAME}-gold.csv\"), index=False)"
   ]
  },
  {
   "cell_type": "code",
   "execution_count": 11,
   "metadata": {},
   "outputs": [],
   "source": [
    "def compute_hits(board_array: np.ndarray):\n",
    "    board = np.array(board_array)\n",
    "    return np.sum(board > 0)"
   ]
  },
  {
   "cell_type": "code",
   "execution_count": 12,
   "metadata": {},
   "outputs": [],
   "source": [
    "df[\"hits\"] = df[\"occTiles\"].apply(compute_hits)\n",
    "df[\"totalShipTiles\"] = df[\"trueTiles\"].apply(compute_hits)\n",
    "df[\"hits_pct\"] = df[\"hits\"] / df[\"totalShipTiles\"]"
   ]
  },
  {
   "cell_type": "code",
   "execution_count": null,
   "metadata": {},
   "outputs": [],
   "source": [
    "df.columns"
   ]
  },
  {
   "cell_type": "code",
   "execution_count": null,
   "metadata": {},
   "outputs": [],
   "source": [
    "df[\"messageType\"].value_counts()"
   ]
  },
  {
   "cell_type": "code",
   "execution_count": null,
   "metadata": {},
   "outputs": [],
   "source": [
    "df[\"name\"].value_counts()"
   ]
  },
  {
   "cell_type": "code",
   "execution_count": null,
   "metadata": {},
   "outputs": [],
   "source": [
    "df[\"board_id\"].value_counts()"
   ]
  },
  {
   "cell_type": "code",
   "execution_count": null,
   "metadata": {},
   "outputs": [],
   "source": [
    "df[\"messageText\"].value_counts()"
   ]
  },
  {
   "cell_type": "markdown",
   "metadata": {},
   "source": [
    "# Visualizations"
   ]
  },
  {
   "cell_type": "markdown",
   "metadata": {},
   "source": [
    "## Hits"
   ]
  },
  {
   "cell_type": "code",
   "execution_count": null,
   "metadata": {},
   "outputs": [],
   "source": [
    "sns.lineplot(\n",
    "    data=df,\n",
    "    x=\"index\",\n",
    "    y=\"hits\",\n",
    "    hue=\"pairID\",\n",
    "    style=\"board_id\"\n",
    ")\n",
    "plt.legend(title=\"pairID\", bbox_to_anchor=(1.05, 1), loc=\"upper left\")"
   ]
  },
  {
   "cell_type": "code",
   "execution_count": null,
   "metadata": {},
   "outputs": [],
   "source": [
    "sns.lineplot(data=df, x=\"index\", y=\"hits_pct\", hue=\"pairID\", style=\"board_id\")\n",
    "plt.legend(title=\"pairID\", bbox_to_anchor=(1.05, 1), loc=\"upper left\")"
   ]
  },
  {
   "cell_type": "code",
   "execution_count": null,
   "metadata": {},
   "outputs": [],
   "source": [
    "sns.lineplot(\n",
    "    data=df,\n",
    "    x=\"index\",\n",
    "    y=\"hits\",\n",
    "    hue=\"pairID\",\n",
    "    # style=\"board_id\"\n",
    ")\n",
    "plt.legend(title=\"pairID\", bbox_to_anchor=(1.05, 1), loc=\"upper left\")"
   ]
  },
  {
   "cell_type": "markdown",
   "metadata": {},
   "source": [
    "## Number of moves to win"
   ]
  },
  {
   "cell_type": "code",
   "execution_count": null,
   "metadata": {},
   "outputs": [],
   "source": [
    "df_move_counts = (\n",
    "    df[(df[\"messageType\"] == \"move\")]\n",
    "    .groupby([\"pairID\", \"board_id\"])\n",
    "    .size()\n",
    "    .to_frame(\"move_count\")\n",
    ")\n",
    "df_move_counts"
   ]
  },
  {
   "cell_type": "code",
   "execution_count": null,
   "metadata": {},
   "outputs": [],
   "source": [
    "df_question_counts = df[\n",
    "    (df[\"messageType\"] == \"question\")\n",
    "]\n",
    "df_question_counts = (\n",
    "    df_question_counts.groupby([\"pairID\", \"board_id\"]).size().to_frame(\"question_count\")\n",
    ")\n",
    "df_question_counts"
   ]
  },
  {
   "cell_type": "code",
   "execution_count": null,
   "metadata": {},
   "outputs": [],
   "source": [
    "df_counts = df_move_counts.join(df_question_counts)\n",
    "# replace null values with 0\n",
    "df_counts = df_counts.fillna(0)\n",
    "df_counts[\"question_count\"] = df_counts[\"question_count\"].astype(int)\n",
    "df_counts = df_counts.sort_values([\"pairID\", \"board_id\"]).reset_index(drop=False)\n",
    "df_counts"
   ]
  },
  {
   "cell_type": "code",
   "execution_count": null,
   "metadata": {},
   "outputs": [],
   "source": [
    "with sns.plotting_context(\"talk\"), sns.axes_style(\"whitegrid\"):\n",
    "\n",
    "    sns.boxplot(\n",
    "        data=df_counts,\n",
    "        y=\"move_count\",\n",
    "        hue=\"pairID\",\n",
    "        hue_order=df_counts[\"pairID\"].unique(),\n",
    "    )\n",
    "\n",
    "    plt.ylabel(\"Moves per board\")\n",
    "\n",
    "    # move legend outside of plot\n",
    "    plt.legend(title=\"pairID\", bbox_to_anchor=(1.05, 1), loc=\"upper left\")"
   ]
  },
  {
   "cell_type": "code",
   "execution_count": null,
   "metadata": {},
   "outputs": [],
   "source": [
    "sns.stripplot(\n",
    "    data=df_counts,\n",
    "    x=\"question_count\",\n",
    "    y=\"move_count\",\n",
    "    hue=\"pairID\",\n",
    "    hue_order=df_counts[\"pairID\"].unique(),\n",
    "    size=10.0,\n",
    "    jitter=0.2,\n",
    ")\n",
    "\n",
    "plt.xlabel(\"Questions\")\n",
    "plt.ylabel(\"Moves\")\n",
    "\n",
    "# move legend outside of plot\n",
    "plt.legend(title=\"Participant pair ID\", bbox_to_anchor=(1.05, 1), loc=\"upper left\")\n",
    "\n",
    "plt.title(f\"Questions asked vs. moves\")"
   ]
  },
  {
   "cell_type": "markdown",
   "metadata": {},
   "source": [
    "# Bonuses"
   ]
  },
  {
   "cell_type": "code",
   "execution_count": null,
   "metadata": {},
   "outputs": [],
   "source": [
    "sns.lineplot(\n",
    "    data=df,\n",
    "    x=\"index\",\n",
    "    y=\"bonus\",\n",
    "    hue=\"pairID\",\n",
    "    style=\"board_id\",\n",
    ")\n",
    "\n",
    "plt.legend(bbox_to_anchor=(1.05, 1), loc=\"upper left\")\n",
    "plt.xlabel(\"Action #\")\n",
    "plt.ylabel(\"Bonus ($)\")\n",
    "plt.title(f\"Bonus over time\")"
   ]
  },
  {
   "cell_type": "code",
   "execution_count": null,
   "metadata": {
    "vscode": {
     "languageId": "ruby"
    }
   },
   "outputs": [],
   "source": [
    "# Group by pairID and board_id, and get the highest-index stage for each group\n",
    "df_final_bonus = df.loc[df.groupby([\"pairID\", \"board_id\"])[\"index\"].idxmax(), [\"pairID\", \"gameID\", \"roundID\", \"board_id\", \"bonus\"]]\n",
    "\n",
    "df_final_bonus"
   ]
  },
  {
   "cell_type": "code",
   "execution_count": null,
   "metadata": {
    "vscode": {
     "languageId": "ruby"
    }
   },
   "outputs": [],
   "source": [
    "# sns.displot(data=df_final_bonus, x=\"bonus\", hue=\"pairID\", kind=\"kde\", fill=True)\n",
    "sns.displot(data=df_final_bonus, x=\"bonus\", hue=\"pairID\", kind=\"hist\", multiple=\"stack\")\n",
    "plt.xlabel(\"Bonus ($)\")\n",
    "plt.title(\"Bonus distribution\")"
   ]
  },
  {
   "cell_type": "code",
   "execution_count": null,
   "metadata": {},
   "outputs": [],
   "source": [
    "df_final_bonus[\"bonus\"].describe()"
   ]
  },
  {
   "cell_type": "markdown",
   "metadata": {},
   "source": [
    "### Export final bonus information"
   ]
  },
  {
   "cell_type": "code",
   "execution_count": null,
   "metadata": {},
   "outputs": [],
   "source": [
    "PLAYER_COLUMNS = [\"gameID\", \"participantIdentifier\"]\n",
    "df_final_bonus_export = df_final_bonus.merge(df_player[PLAYER_COLUMNS], on=\"gameID\")\n",
    "\n",
    "df_final_bonus_export = df_final_bonus_export.groupby(\"participantIdentifier\")[\n",
    "    \"bonus\"\n",
    "].sum()\n",
    "df_final_bonus_export.to_csv(PATH_BONUS_EXPORT, header=False, index=False)\n",
    "display(df_final_bonus_export)"
   ]
  },
  {
   "cell_type": "markdown",
   "metadata": {},
   "source": [
    "## Timing"
   ]
  },
  {
   "cell_type": "code",
   "execution_count": null,
   "metadata": {
    "vscode": {
     "languageId": "javascript"
    }
   },
   "outputs": [],
   "source": [
    "df['cumulativeStageTime'] = df.sort_values(\"index\").groupby(['pairID', 'roundID'])['messageTime'].cumsum().div(1000)\n",
    "df"
   ]
  },
  {
   "cell_type": "code",
   "execution_count": null,
   "metadata": {},
   "outputs": [],
   "source": [
    "with sns.plotting_context(\"talk\"), sns.axes_style(\"whitegrid\"):\n",
    "    sns.lineplot(\n",
    "        data=df,\n",
    "        x=\"index\",\n",
    "        y=\"cumulativeStageTime\",\n",
    "        hue=\"pairID\",\n",
    "        style=\"board_id\",\n",
    "    )\n",
    "\n",
    "    plt.legend(bbox_to_anchor=(1.05, 1), loc=\"upper left\")"
   ]
  },
  {
   "cell_type": "code",
   "execution_count": null,
   "metadata": {},
   "outputs": [],
   "source": [
    "# Group by pairID and board_id, and get the highest-index stage for each group\n",
    "df_final_stage_time = df.loc[\n",
    "    df.groupby([\"pairID\", \"board_id\"])[\"index\"].idxmax(),\n",
    "    [\"pairID\", \"board_id\", \"cumulativeStageTime\"],\n",
    "]\n",
    "\n",
    "df_final_stage_time"
   ]
  },
  {
   "cell_type": "code",
   "execution_count": null,
   "metadata": {},
   "outputs": [],
   "source": [
    "sns.barplot(\n",
    "    data=df_final_stage_time, y=\"cumulativeStageTime\", x=\"board_id\", hue=\"pairID\"\n",
    ")"
   ]
  },
  {
   "cell_type": "code",
   "execution_count": null,
   "metadata": {},
   "outputs": [],
   "source": [
    "pd.set_option('display.max_columns', None)\n",
    "df[df['messageTime'].isna()]"
   ]
  },
  {
   "cell_type": "code",
   "execution_count": null,
   "metadata": {},
   "outputs": [],
   "source": []
  },
  {
   "cell_type": "markdown",
   "metadata": {},
   "source": [
    "# Timeline visualization\n",
    "Shows the timeline of moves and questions for each game."
   ]
  },
  {
   "cell_type": "code",
   "execution_count": null,
   "metadata": {},
   "outputs": [],
   "source": [
    "g = sns.relplot(\n",
    "    kind=\"line\",\n",
    "    col=\"board_id\",\n",
    "    row=\"pairID\",\n",
    "    aspect=2.0,\n",
    "    data=df.sort_values([\"pairID\", \"board_id\"]),\n",
    "    x=\"index\",\n",
    "    y=\"hits_pct\",\n",
    "    hue=\"pairID\",\n",
    "    linewidth=6,\n",
    ")\n",
    "\n",
    "# Plot a marker for each question\n",
    "g.map_dataframe(\n",
    "    lambda data, **kws: sns.scatterplot(\n",
    "        data=data[data[\"messageType\"] == \"question\"],\n",
    "        x=\"index\",\n",
    "        y=\"hits_pct\",\n",
    "        s=10,\n",
    "        marker=\"o\",\n",
    "        color=\"black\",\n",
    "        zorder=10,  # Set zorder to be on top\n",
    "    ),\n",
    "    board_id=\"board_id\",\n",
    "    pairID=\"pairID\",\n",
    ")\n",
    "\n",
    "\n",
    "for (pairID, board_id), ax in g.axes_dict.items():\n",
    "    y_max, y_offset = -np.inf, 0.05\n",
    "    for _, row in df[\n",
    "        (df[\"messageType\"] == \"question\") &\n",
    "        (df[\"board_id\"] == board_id) &\n",
    "        (df[\"pairID\"] == pairID)\n",
    "    ].sort_values(\"index\", ascending=True).iterrows():\n",
    "        y = row[\"hits_pct\"]\n",
    "        y = max(y, y_max + y_offset)\n",
    "        y_max = y\n",
    "\n",
    "        if y > row[\"hits_pct\"]:\n",
    "            ax.plot(\n",
    "                [row[\"index\"], row[\"index\"]],\n",
    "                [y, row[\"hits_pct\"]],\n",
    "                color=\"gray\",\n",
    "                linestyle=\"--\",\n",
    "                linewidth=1,\n",
    "                alpha=0.5,\n",
    "            )\n",
    "\n",
    "        ax.text(\n",
    "            row[\"index\"],\n",
    "            y,\n",
    "            row[\"messageText\"],\n",
    "            horizontalalignment=\"left\",\n",
    "            size=10,\n",
    "            color=\"black\",\n",
    "        )"
   ]
  },
  {
   "cell_type": "code",
   "execution_count": null,
   "metadata": {},
   "outputs": [],
   "source": []
  }
 ],
 "metadata": {
  "kernelspec": {
   "display_name": ".venv",
   "language": "python",
   "name": "python3"
  },
  "language_info": {
   "codemirror_mode": {
    "name": "ipython",
    "version": 3
   },
   "file_extension": ".py",
   "mimetype": "text/x-python",
   "name": "python",
   "nbconvert_exporter": "python",
   "pygments_lexer": "ipython3",
   "version": "3.11.5"
  }
 },
 "nbformat": 4,
 "nbformat_minor": 2
}
