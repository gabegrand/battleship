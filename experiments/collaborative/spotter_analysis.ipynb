{
 "cells": [
  {
   "cell_type": "markdown",
   "id": "7f139a8d",
   "metadata": {},
   "source": [
    "# Spotter Benchmark Analysis"
   ]
  },
  {
   "cell_type": "code",
   "execution_count": null,
   "id": "63ef51be",
   "metadata": {},
   "outputs": [],
   "source": [
    "%load_ext autoreload\n",
    "%autoreload 2"
   ]
  },
  {
   "cell_type": "code",
   "execution_count": null,
   "id": "4eae500a",
   "metadata": {},
   "outputs": [],
   "source": [
    "import os\n",
    "import numpy as np\n",
    "\n",
    "import pandas as pd\n",
    "import seaborn as sns\n",
    "import matplotlib.pyplot as plt\n",
    "from sklearn.metrics import classification_report\n",
    "\n",
    "from experiments.collaborative.analysis import (\n",
    "    load_dataset,\n",
    "    get_gold_answer_dataset,\n",
    "    MODEL_DISPLAY_NAMES,\n",
    "    get_spotter_type_short,\n",
    ")\n",
    "from battleship.run_spotter_benchmarks import rebuild_summary_from_results"
   ]
  },
  {
   "cell_type": "code",
   "execution_count": null,
   "id": "f9b9c1ce",
   "metadata": {},
   "outputs": [],
   "source": [
    "%config InlineBackend.figure_format = 'retina'\n",
    "\n",
    "# set seaborn color palette\n",
    "sns.set_palette(\"Set2\")\n",
    "\n",
    "# set seaborn style\n",
    "sns.set_style(\"white\")\n",
    "sns.set_context(\"talk\")"
   ]
  },
  {
   "cell_type": "code",
   "execution_count": null,
   "id": "319c541f",
   "metadata": {},
   "outputs": [],
   "source": [
    "EXPERIMENT_NAME = \"battleship-final-data\"\n",
    "PATH_DATA = os.path.join(\"data\", EXPERIMENT_NAME)\n",
    "PATH_EXPORT = os.path.join(PATH_DATA, \"export\")\n",
    "\n",
    "df_gold = load_dataset(experiment_path=PATH_DATA, use_gold=True)"
   ]
  },
  {
   "cell_type": "code",
   "execution_count": null,
   "id": "5223a81b",
   "metadata": {},
   "outputs": [],
   "source": [
    "# RESULTS_PATH = os.path.join(\n",
    "#     \"spotter_benchmarks\", \"run_2025_07_09_16_55_45\", \"summary.json\"\n",
    "# )\n",
    "\n",
    "# df = pd.read_json(RESULTS_PATH)\n",
    "# df\n",
    "\n",
    "results = rebuild_summary_from_results(os.path.join(\"spotter_benchmarks\", \"run_2025_07_11_18_32_51\"))\n",
    "df = pd.DataFrame(results)"
   ]
  },
  {
   "cell_type": "code",
   "execution_count": null,
   "id": "90046904",
   "metadata": {},
   "outputs": [],
   "source": [
    "# Add display names and categorizations for analysis\n",
    "def add_display_fields(df):\n",
    "    \"\"\"Add display names and categorizations to the dataframe.\"\"\"\n",
    "    # Add spotter type categorization\n",
    "    df[\"spotter_type_short\"] = df.apply(\n",
    "        lambda row: get_spotter_type_short(row[\"spotter_type\"], row[\"use_cot\"]), axis=1\n",
    "    )\n",
    "    df[\"spotter_type_short\"] = pd.Categorical(df[\"spotter_type_short\"], categories=[\"Base\", \"+ CoT\", \"+ Code\", \"+ CoT + Code\"], ordered=True)\n",
    "\n",
    "    # Add model display name\n",
    "    df[\"llm_display_name\"] = df[\"llm\"].map(lambda x: MODEL_DISPLAY_NAMES.get(x, x))\n",
    "\n",
    "    # Sort by order in MODEL_DISPLAY_NAMES using categorical\n",
    "    df[\"llm_display_name\"] = pd.Categorical(df[\"llm_display_name\"], categories=MODEL_DISPLAY_NAMES.values(), ordered=True)\n",
    "    df = df.sort_values(by=[\"llm_display_name\", \"spotter_type_short\"])\n",
    "\n",
    "    return df\n",
    "\n",
    "# Process the dataframe\n",
    "df = add_display_fields(df)\n",
    "df\n"
   ]
  },
  {
   "cell_type": "code",
   "execution_count": null,
   "id": "74cb5c6b",
   "metadata": {},
   "outputs": [],
   "source": [
    "df.llm_display_name.unique()"
   ]
  },
  {
   "cell_type": "code",
   "execution_count": null,
   "id": "4f50e2fb",
   "metadata": {},
   "outputs": [],
   "source": [
    "# Check distribution of raw answer text\n",
    "df[\"answer_text\"].value_counts(dropna=False).plot(kind=\"bar\")"
   ]
  },
  {
   "cell_type": "code",
   "execution_count": null,
   "id": "b6003901",
   "metadata": {},
   "outputs": [],
   "source": [
    "gold_labels, human_labels = get_gold_answer_dataset(df_gold)\n",
    "print(len(gold_labels), len(human_labels))"
   ]
  },
  {
   "cell_type": "code",
   "execution_count": null,
   "id": "ca26e871",
   "metadata": {},
   "outputs": [],
   "source": [
    "print(classification_report(y_true=gold_labels, y_pred=human_labels))\n",
    "\n",
    "human_accuracy_baseline = classification_report(y_true=gold_labels, y_pred=human_labels, output_dict=True)[\"accuracy\"]\n",
    "print(f\"Human accuracy baseline: {human_accuracy_baseline:.2%}\")"
   ]
  },
  {
   "cell_type": "code",
   "execution_count": null,
   "id": "edeb26be",
   "metadata": {},
   "outputs": [],
   "source": [
    "with sns.plotting_context(context=\"talk\"), sns.axes_style(\"whitegrid\"):\n",
    "\n",
    "    plt.figure(figsize=(6, 8))\n",
    "    sns.barplot(\n",
    "        data=df,\n",
    "        x=\"is_correct\",\n",
    "        y=\"llm_display_name\",\n",
    "        hue=\"spotter_type_short\",\n",
    "        errorbar=(\"ci\", 95),\n",
    "        err_kws={\n",
    "            \"color\": \"gray\",\n",
    "            \"linewidth\": 1,\n",
    "        },\n",
    "        capsize=0.2,\n",
    "    )\n",
    "\n",
    "    plt.axvline(\n",
    "        human_accuracy_baseline,\n",
    "        color=\"#4b4f73\",\n",
    "        linestyle=\"--\",\n",
    "        linewidth=2.0,\n",
    "        label=\"Human Performance\",\n",
    "    )\n",
    "\n",
    "    plt.ylabel(\"\")\n",
    "    plt.xlabel(\"Gold Answer Accuracy\")\n",
    "\n",
    "    plt.xlim(0.0, 1.0)\n",
    "\n",
    "    plt.yticks(fontsize=12)\n",
    "\n",
    "    plt.legend(title=\"Spotter Models\", bbox_to_anchor=(1.05, 1), loc='upper left')\n",
    "\n",
    "    # plt.savefig(\n",
    "    #     os.path.join(PATH_EXPORT, \"spotter_accuracy.pdf\"),\n",
    "    #     bbox_inches=\"tight\",\n",
    "    #     dpi=300,\n",
    "    # )"
   ]
  },
  {
   "cell_type": "code",
   "execution_count": null,
   "id": "9123edfc",
   "metadata": {},
   "outputs": [],
   "source": []
  },
  {
   "cell_type": "code",
   "execution_count": null,
   "id": "a1823fa9",
   "metadata": {},
   "outputs": [],
   "source": []
  }
 ],
 "metadata": {
  "kernelspec": {
   "display_name": ".venv",
   "language": "python",
   "name": "python3"
  },
  "language_info": {
   "codemirror_mode": {
    "name": "ipython",
    "version": 3
   },
   "file_extension": ".py",
   "mimetype": "text/x-python",
   "name": "python",
   "nbconvert_exporter": "python",
   "pygments_lexer": "ipython3",
   "version": "3.11.5"
  }
 },
 "nbformat": 4,
 "nbformat_minor": 5
}
