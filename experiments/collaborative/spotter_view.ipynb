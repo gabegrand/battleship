{
 "cells": [
  {
   "cell_type": "code",
   "execution_count": null,
   "id": "63c8dc2c",
   "metadata": {},
   "outputs": [],
   "source": [
    "%load_ext autoreload\n",
    "%autoreload 2"
   ]
  },
  {
   "cell_type": "code",
   "execution_count": null,
   "id": "80aae011",
   "metadata": {},
   "outputs": [],
   "source": [
    "import numpy as np\n",
    "import pandas as pd\n",
    "import os\n",
    "\n",
    "from battleship.board import Board\n",
    "from analysis import load_dataset\n",
    "from battleship.utils import PROJECT_ROOT"
   ]
  },
  {
   "cell_type": "code",
   "execution_count": null,
   "id": "6236623d",
   "metadata": {},
   "outputs": [],
   "source": [
    "HUMAN_EXPERIMENT_NAME = \"battleship-final-data\"\n",
    "PATH_DATA = os.path.join(\"data\", HUMAN_EXPERIMENT_NAME)\n",
    "\n",
    "df = load_dataset(PATH_DATA, use_gold=True)"
   ]
  },
  {
   "cell_type": "code",
   "execution_count": null,
   "id": "d2c26582",
   "metadata": {},
   "outputs": [],
   "source": [
    "df.columns.unique()"
   ]
  },
  {
   "cell_type": "code",
   "execution_count": null,
   "id": "90979de7",
   "metadata": {},
   "outputs": [],
   "source": [
    "def retrieve_example(question_text: str):\n",
    "    result = df[df[\"messageText\"].str.contains(question_text)]\n",
    "    if len(result) != 1:\n",
    "        raise ValueError(\"Expected exactly one matching message\")\n",
    "    result = result.iloc[0]\n",
    "\n",
    "    answer_index = result.name + 1\n",
    "    print(answer_index)\n",
    "    answer = df.loc[answer_index]\n",
    "\n",
    "    print(result.gameID)\n",
    "    print(result.roundID)\n",
    "    print(question_text)\n",
    "    print(result.board_id)\n",
    "\n",
    "    moves_remaining = 40 - (result[\"hits\"] + result[\"misses\"])\n",
    "    questions_remaining = int(result[\"questionsRemaining\"])\n",
    "    print(f\"Moves remaining: {moves_remaining}, Questions remaining: {questions_remaining}\")\n",
    "\n",
    "    print(f\"Answer: {answer.messageText}\")\n",
    "    print(f\"Gold Answer: {answer.gold_answer}\")\n",
    "\n",
    "    print(f\"stateful: {answer.gold_stateful}\")\n",
    "    print(f\"discourse: {answer.gold_discourse}\")\n",
    "    print(f\"vague: {answer.gold_vague}\")\n",
    "    print(f\"ambiguous: {answer.gold_ambiguous}\")\n",
    "    print(f\"unanswerable: {answer.gold_unanswerable}\")\n",
    "\n",
    "    true_board = Board.from_trial_id(result.board_id)\n",
    "    partial_board = Board.from_occ_tiles(result.occTiles)\n",
    "\n",
    "    print(true_board.ship_tracker(partial_board))\n",
    "\n",
    "    spotter_view = true_board.spotter_view(partial_board)\n",
    "    # display(spotter_view)\n",
    "\n",
    "    combined_view = true_board.combined_view(partial_board, questions_remaining=questions_remaining, moves_remaining=moves_remaining)\n",
    "\n",
    "    import matplotlib.pyplot as plt\n",
    "\n",
    "    caption = f\"gameID: {result.gameID}, roundID: {result.roundID}\"\n",
    "    combined_view.suptitle(caption, fontsize=12, y=0.05)\n",
    "\n",
    "    OUTPUT_DIR = os.path.join(PROJECT_ROOT, \"..\", \"battleship-iclr-2026\", \"iclr2026/figures/appendix_examples\")\n",
    "    print(OUTPUT_DIR)\n",
    "    assert os.path.exists(OUTPUT_DIR), f\"Output directory {OUTPUT_DIR} does not exist\"\n",
    "    combined_view.savefig(os.path.join(OUTPUT_DIR, f\"example_{result.gameID}_{result.roundID}.pdf\"), dpi=300, bbox_inches=\"tight\")"
   ]
  },
  {
   "cell_type": "code",
   "execution_count": null,
   "id": "15b6d6cf",
   "metadata": {},
   "outputs": [],
   "source": [
    "df[df[\"messageType\"] == \"question\"].sample(n=5, random_state=42)[\"messageText\"]"
   ]
  },
  {
   "cell_type": "code",
   "execution_count": null,
   "id": "f9d8630c",
   "metadata": {},
   "outputs": [],
   "source": [
    "combined_indices = list(question_rows.index) + list(answer_rows.index)\n",
    "combined_indices"
   ]
  },
  {
   "cell_type": "code",
   "execution_count": null,
   "id": "5af7e5a9",
   "metadata": {},
   "outputs": [],
   "source": [
    "answer_rows = df[df.gold_unanswerable].sample(n=5, random_state=42)\n",
    "question_rows = df.loc[answer_rows.index - 1]\n",
    "\n",
    "combined_indices = sorted(list(question_rows.index) + list(answer_rows.index))\n",
    "\n",
    "df.loc[combined_indices][\n",
    "    [\n",
    "        \"messageText\",\n",
    "        \"gold_stateful\",\n",
    "        \"gold_discourse\",\n",
    "        \"gold_vague\",\n",
    "        \"gold_ambiguous\",\n",
    "        \"gold_unanswerable\",\n",
    "    ]\n",
    "]"
   ]
  },
  {
   "cell_type": "code",
   "execution_count": null,
   "id": "a21d945a",
   "metadata": {},
   "outputs": [],
   "source": [
    "df.loc[9889][\"messageText\"]"
   ]
  },
  {
   "cell_type": "code",
   "execution_count": null,
   "id": "d1931032",
   "metadata": {},
   "outputs": [],
   "source": [
    "question_text = \"Does E7 have a part of a ship?\"\n",
    "retrieve_example(question_text)"
   ]
  },
  {
   "cell_type": "code",
   "execution_count": null,
   "id": "bd94b7d0",
   "metadata": {},
   "outputs": [],
   "source": [
    "question_text = \"any parts of an undiscovered boat in Row e?\"\n",
    "retrieve_example(question_text)"
   ]
  },
  {
   "cell_type": "code",
   "execution_count": null,
   "id": "c605de67",
   "metadata": {},
   "outputs": [],
   "source": [
    "question_text = \"Is orange verticle?\"\n",
    "retrieve_example(question_text)"
   ]
  },
  {
   "cell_type": "code",
   "execution_count": null,
   "id": "4da9e4f2",
   "metadata": {},
   "outputs": [],
   "source": [
    "question_text = \"any ship touching that miss?\"\n",
    "retrieve_example(question_text)"
   ]
  },
  {
   "cell_type": "code",
   "execution_count": null,
   "id": "09ab2982",
   "metadata": {},
   "outputs": [],
   "source": [
    "question_text = \"Does it touch E4 or C4?\"\n",
    "retrieve_example(question_text)"
   ]
  },
  {
   "cell_type": "code",
   "execution_count": null,
   "id": "7b81fae7",
   "metadata": {},
   "outputs": [],
   "source": [
    "question_text = \"Is red close to green?\"\n",
    "retrieve_example(question_text)"
   ]
  },
  {
   "cell_type": "code",
   "execution_count": null,
   "id": "7d3b0257",
   "metadata": {},
   "outputs": [],
   "source": [
    "question_text = \"is one on f after 5 or on g\"\n",
    "retrieve_example(question_text)"
   ]
  },
  {
   "cell_type": "code",
   "execution_count": null,
   "id": "5c12f046",
   "metadata": {},
   "outputs": [],
   "source": [
    "question_text = \"where are the ships?\"\n",
    "retrieve_example(question_text)"
   ]
  },
  {
   "cell_type": "code",
   "execution_count": null,
   "id": "7d54a9b0",
   "metadata": {},
   "outputs": [],
   "source": [
    "with pd.option_context('display.max_colwidth', None, 'display.max_rows', None):\n",
    "    display(df[(df[\"messageType\"] == \"question\") & (df[\"messageText\"].str.contains(\"lol\"))][\"messageText\"])"
   ]
  },
  {
   "cell_type": "code",
   "execution_count": null,
   "id": "57ea6670",
   "metadata": {},
   "outputs": [],
   "source": [
    "question_text = \"you lied.... Is it on row b?\"\n",
    "retrieve_example(question_text)"
   ]
  },
  {
   "cell_type": "code",
   "execution_count": null,
   "id": "b8cc0c38",
   "metadata": {},
   "outputs": [],
   "source": [
    "question_text = \"We killin it bro lets do this! LETS DO THIS! lol. Alright A - C , 1\"\n",
    "retrieve_example(question_text)"
   ]
  },
  {
   "cell_type": "code",
   "execution_count": null,
   "id": "c282506d",
   "metadata": {},
   "outputs": [],
   "source": []
  }
 ],
 "metadata": {
  "kernelspec": {
   "display_name": "battleship-py3.11",
   "language": "python",
   "name": "python3"
  },
  "language_info": {
   "codemirror_mode": {
    "name": "ipython",
    "version": 3
   },
   "file_extension": ".py",
   "mimetype": "text/x-python",
   "name": "python",
   "nbconvert_exporter": "python",
   "pygments_lexer": "ipython3",
   "version": "3.11.5"
  }
 },
 "nbformat": 4,
 "nbformat_minor": 5
}
