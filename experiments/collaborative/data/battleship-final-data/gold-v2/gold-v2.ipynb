{
 "cells": [
  {
   "cell_type": "code",
   "execution_count": null,
   "metadata": {},
   "outputs": [],
   "source": [
    "import os\n",
    "\n",
    "import pandas as pd"
   ]
  },
  {
   "cell_type": "code",
   "execution_count": null,
   "metadata": {},
   "outputs": [],
   "source": [
    "df_1 = pd.read_csv(\"gold-v2-annotator-1.csv\")\n",
    "df_2 = pd.read_csv(\"gold-v2-annotator-2.csv\")\n",
    "\n",
    "# Find columns where values differ\n",
    "diff_cols = []\n",
    "for col in df_1.columns:\n",
    "    if not df_1[col].equals(df_2[col]):\n",
    "        diff_cols.append(col)\n",
    "\n",
    "# Create a list of columns to keep from df_1 (those that are identical)\n",
    "identical_cols = [col for col in df_1.columns if col not in diff_cols]\n",
    "\n",
    "# Create a list of columns to merge with suffixes (those that differ)\n",
    "merge_cols = diff_cols\n",
    "\n",
    "# Merge with suffixes only for columns that differ\n",
    "df = pd.merge(\n",
    "    df_1[identical_cols + merge_cols],\n",
    "    df_2[merge_cols],\n",
    "    how=\"left\",\n",
    "    left_index=True,\n",
    "    right_index=True,\n",
    "    suffixes=(\"_annotator_1\", \"_annotator_2\"),\n",
    ")\n",
    "\n",
    "print(diff_cols)"
   ]
  },
  {
   "cell_type": "code",
   "execution_count": null,
   "metadata": {},
   "outputs": [],
   "source": [
    "# Show rows where gold_answer is different between annotators, handling NaN values\n",
    "df[\n",
    "    ~(df[\"gold_answer_annotator_1\"].isna() & df[\"gold_answer_annotator_2\"].isna())\n",
    "    & (df[\"gold_answer_annotator_1\"] != df[\"gold_answer_annotator_2\"])\n",
    "]"
   ]
  },
  {
   "cell_type": "code",
   "execution_count": null,
   "metadata": {},
   "outputs": [],
   "source": [
    "# Create a new dataframe for the combined results\n",
    "df = (\n",
    "    df.copy()\n",
    ")  # Start with the merged dataframe that has both annotator columns\n",
    "\n",
    "# Add combined columns with new names\n",
    "for col in diff_cols:\n",
    "    # For gold_answer: yes if both yes, no if both no, NaN if disagree\n",
    "    if col == \"gold_answer\":\n",
    "        # Create masks for agreement\n",
    "        mask_both_yes = (df[f\"{col}_annotator_1\"] == \"yes\") & (\n",
    "            df[f\"{col}_annotator_2\"] == \"yes\"\n",
    "        )\n",
    "        mask_both_no = (df[f\"{col}_annotator_1\"] == \"no\") & (\n",
    "            df[f\"{col}_annotator_2\"] == \"no\"\n",
    "        )\n",
    "\n",
    "        # Start with NaN values\n",
    "        df[f\"{col}\"] = pd.NA\n",
    "        # Set to yes where both say yes\n",
    "        df.loc[mask_both_yes, f\"{col}\"] = \"yes\"\n",
    "        # Set to no where both say no\n",
    "        df.loc[mask_both_no, f\"{col}\"] = \"no\"\n",
    "    else:\n",
    "        # For other columns: True if either is True\n",
    "        # Handle NaN values by treating them as False\n",
    "        col1 = df[f\"{col}_annotator_1\"].fillna(False)\n",
    "        col2 = df[f\"{col}_annotator_2\"].fillna(False)\n",
    "        df[f\"{col}\"] = col1 | col2"
   ]
  },
  {
   "cell_type": "code",
   "execution_count": null,
   "metadata": {},
   "outputs": [],
   "source": [
    "df"
   ]
  },
  {
   "cell_type": "code",
   "execution_count": null,
   "metadata": {},
   "outputs": [],
   "source": [
    "df[\"gold_answer\"].value_counts(dropna=False)"
   ]
  },
  {
   "cell_type": "code",
   "execution_count": null,
   "metadata": {},
   "outputs": [],
   "source": [
    "df[\"gold_stateful\"].value_counts(dropna=False)"
   ]
  },
  {
   "cell_type": "code",
   "execution_count": null,
   "metadata": {},
   "outputs": [],
   "source": [
    "# df.to_csv(\"gold-v2.csv\", index=False)"
   ]
  },
  {
   "cell_type": "code",
   "execution_count": null,
   "metadata": {},
   "outputs": [],
   "source": []
  }
 ],
 "metadata": {
  "kernelspec": {
   "display_name": "battleship-py3.11",
   "language": "python",
   "name": "python3"
  },
  "language_info": {
   "codemirror_mode": {
    "name": "ipython",
    "version": 3
   },
   "file_extension": ".py",
   "mimetype": "text/x-python",
   "name": "python",
   "nbconvert_exporter": "python",
   "pygments_lexer": "ipython3",
   "version": "3.11.5"
  }
 },
 "nbformat": 4,
 "nbformat_minor": 2
}
