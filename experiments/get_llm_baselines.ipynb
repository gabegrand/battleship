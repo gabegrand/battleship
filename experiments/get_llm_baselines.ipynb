{
 "cells": [
  {
   "cell_type": "code",
   "execution_count": null,
   "metadata": {},
   "outputs": [],
   "source": [
    "from llmbaselines import *\n",
    "import matplotlib.pyplot as plt\n",
    "scores = []\n",
    "mode, max_context, completions = \"vision\", 1, 1"
   ]
  },
  {
   "cell_type": "code",
   "execution_count": null,
   "metadata": {},
   "outputs": [],
   "source": [
    "generateResponses(mode,max_context,completions)"
   ]
  },
  {
   "cell_type": "code",
   "execution_count": null,
   "metadata": {},
   "outputs": [],
   "source": [
    "with open(f\"responses_{mode}.txt\", \"r\") as responseFile:\n",
    "  for line in responseFile:\n",
    "    score = float(line.split(\"\\t\")[3].strip())\n",
    "    scores.append(score)\n",
    "plt.hist(scores,[-1,-0.5,-0.1,0,0.25,0.5,0.75,1,1.25,2,3,4,5])\n",
    "plt.savefig(f\"responses_{mode}.svg\")"
   ]
  }
 ],
 "metadata": {
  "kernelspec": {
   "display_name": "project",
   "language": "python",
   "name": "python3"
  },
  "language_info": {
   "codemirror_mode": {
    "name": "ipython",
    "version": 3
   },
   "file_extension": ".py",
   "mimetype": "text/x-python",
   "name": "python",
   "nbconvert_exporter": "python",
   "pygments_lexer": "ipython3",
   "version": "3.11.4"
  }
 },
 "nbformat": 4,
 "nbformat_minor": 2
}
