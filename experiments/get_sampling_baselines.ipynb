{
 "cells": [
  {
   "cell_type": "code",
   "execution_count": 1,
   "metadata": {},
   "outputs": [],
   "source": [
    "%load_ext autoreload\n",
    "%autoreload 2"
   ]
  },
  {
   "cell_type": "code",
   "execution_count": 2,
   "metadata": {},
   "outputs": [
    {
     "ename": "ModuleNotFoundError",
     "evalue": "No module named 'pandas'",
     "output_type": "error",
     "traceback": [
      "\u001b[1;31m---------------------------------------------------------------------------\u001b[0m",
      "\u001b[1;31mModuleNotFoundError\u001b[0m                       Traceback (most recent call last)",
      "Cell \u001b[1;32mIn[2], line 2\u001b[0m\n\u001b[0;32m      1\u001b[0m \u001b[38;5;28;01mimport\u001b[39;00m \u001b[38;5;21;01mos\u001b[39;00m\n\u001b[1;32m----> 2\u001b[0m \u001b[38;5;28;01mimport\u001b[39;00m \u001b[38;5;21;01mpandas\u001b[39;00m \u001b[38;5;28;01mas\u001b[39;00m \u001b[38;5;21;01mpd\u001b[39;00m\n\u001b[0;32m      4\u001b[0m \u001b[38;5;28;01mfrom\u001b[39;00m \u001b[38;5;21;01mbattleship\u001b[39;00m\u001b[38;5;21;01m.\u001b[39;00m\u001b[38;5;21;01mgrammar\u001b[39;00m \u001b[38;5;28;01mimport\u001b[39;00m BattleshipGrammar\n\u001b[0;32m      5\u001b[0m \u001b[38;5;28;01mfrom\u001b[39;00m \u001b[38;5;21;01mbattleship\u001b[39;00m\u001b[38;5;21;01m.\u001b[39;00m\u001b[38;5;21;01mscoring\u001b[39;00m \u001b[38;5;28;01mimport\u001b[39;00m compute_score, compute_score_parallel\n",
      "\u001b[1;31mModuleNotFoundError\u001b[0m: No module named 'pandas'"
     ]
    }
   ],
   "source": [
    "import os\n",
    "import pandas as pd\n",
    "\n",
    "from battleship.grammar import BattleshipGrammar\n",
    "from battleship.scoring import compute_score, compute_score_parallel\n",
    "from battleship.board import Board\n",
    "\n",
    "import matplotlib.pyplot as plt"
   ]
  },
  {
   "cell_type": "code",
   "execution_count": 3,
   "metadata": {},
   "outputs": [],
   "source": [
    "grammar = BattleshipGrammar(include_lambdas=False)"
   ]
  },
  {
   "cell_type": "markdown",
   "metadata": {},
   "source": [
    "Sampling"
   ]
  },
  {
   "cell_type": "code",
   "execution_count": 6,
   "metadata": {},
   "outputs": [],
   "source": [
    "import time \n",
    "from math import ceil\n",
    "\n",
    "dataDict = {\n",
    "    'program':[],\n",
    "    'board_id':[],\n",
    "    'score':[],\n",
    "    'max_depth':[],\n",
    "    'sample_length':[]\n",
    "}\n",
    "df = pd.DataFrame(dataDict)\n",
    "\n",
    "if not os.path.isfile('enumData.csv'):\n",
    "   df.to_csv('enumData.csv', header='column_names')\n"
   ]
  },
  {
   "cell_type": "code",
   "execution_count": 7,
   "metadata": {},
   "outputs": [],
   "source": [
    "\n",
    "def sample_baseline(cores=int(os.cpu_count()/2),sample_length=5,depth=8):\n",
    "    scores = []\n",
    "    for id in range(1,18+1):\n",
    "        start_time = time.time()\n",
    "        print(f\"board {id}\", end=\" | \") \n",
    "        acceptable_programs = []\n",
    "        while len(acceptable_programs) != sample_length: #Rejection sampling of {sample_length} programs of depth {max_depth}\n",
    "            try:\n",
    "                program = grammar.sample(depth)\n",
    "            except:\n",
    "                continue\n",
    "            if program != None: #Sometimes the grammar returns a NoneType (bug?) so this is necessary \n",
    "                if \"(\" in program or \")\" in program: #Ignores all single-token questions: a single-token question won't have brackets, so if we know a response has brackets, it is not single-token. \n",
    "                #A more robust \"min-depth\" parameter would parse the generated program, but this will do for one-token answers \n",
    "                    acceptable_programs.append(program)\n",
    "        print(f\"finished generating programs in {round(time.time()-start_time,2)}s\", end=\" | \")\n",
    "     \n",
    "        if cores != 1:\n",
    "            #If more than one core is used, breaks it up into chunks of 50 programs to score in parallel as to not overwork the machine and kill the EC2 instance or the kernel.\n",
    "            for i in range(ceil(sample_length/50)):\n",
    "                program_scores = compute_score_parallel(programs=acceptable_programs[i*50:((i+1)*50)],board=Board.from_trial_id(id),processes=cores,show_progress=False)\n",
    "                scores.extend(program_scores)\n",
    "                dataDict['program'].extend(acceptable_programs[i*50:((i+1)*50)])\n",
    "                dataDict['board_id'].extend([id for i in range(len(program_scores))])\n",
    "                dataDict['score'].extend(program_scores)\n",
    "                dataDict['max_depth'].extend([depth for i in range(len(program_scores))])\n",
    "                dataDict['sample_length'].extend([sample_length for i in range(len(program_scores))])\n",
    "        else:\n",
    "            #If only one core is used, computes programs scores sequentially\n",
    "            for prog in acceptable_programs:\n",
    "                score = compute_score(program=prog, board=Board.from_trial_id(id))\n",
    "                scores.append(score)\n",
    "        print(f\"finished scoring in {round(time.time()-start_time,2)}s from the start\")\n",
    "\n",
    "    df = pd.DataFrame(dataDict)\n",
    "    df.to_csv('sampleData.csv', mode='a', header=False)\n",
    "    print(f\"finished {sample_length}-shot sampling at depth {depth}\")\n",
    "    return df"
   ]
  },
  {
   "cell_type": "code",
   "execution_count": null,
   "metadata": {},
   "outputs": [],
   "source": [
    "samples = [1,5,10,20,25,50,100,250,500,1000,2000]\n",
    "depths = [5,6,7,8,9,10]\n",
    "\n",
    "for depth in depths:\n",
    "    for sample_num in samples:\n",
    "        sample_baseline(sample_length=sample_num,depth=depth)"
   ]
  },
  {
   "cell_type": "code",
   "execution_count": 17,
   "metadata": {},
   "outputs": [
    {
     "data": {
      "text/html": [
       "<div>\n",
       "<style scoped>\n",
       "    .dataframe tbody tr th:only-of-type {\n",
       "        vertical-align: middle;\n",
       "    }\n",
       "\n",
       "    .dataframe tbody tr th {\n",
       "        vertical-align: top;\n",
       "    }\n",
       "\n",
       "    .dataframe thead th {\n",
       "        text-align: right;\n",
       "    }\n",
       "</style>\n",
       "<table border=\"1\" class=\"dataframe\">\n",
       "  <thead>\n",
       "    <tr style=\"text-align: right;\">\n",
       "      <th></th>\n",
       "      <th>Unnamed: 0</th>\n",
       "      <th>program</th>\n",
       "      <th>board_id</th>\n",
       "      <th>score</th>\n",
       "      <th>max_depth</th>\n",
       "      <th>sample_length</th>\n",
       "    </tr>\n",
       "  </thead>\n",
       "  <tbody>\n",
       "    <tr>\n",
       "      <th>0</th>\n",
       "      <td>0</td>\n",
       "      <td>( and ( == H V ) ( &lt; 1 7 ) )</td>\n",
       "      <td>1</td>\n",
       "      <td>-0.000000</td>\n",
       "      <td>5</td>\n",
       "      <td>25</td>\n",
       "    </tr>\n",
       "    <tr>\n",
       "      <th>1</th>\n",
       "      <td>1</td>\n",
       "      <td>( color 5D )</td>\n",
       "      <td>1</td>\n",
       "      <td>-0.000000</td>\n",
       "      <td>5</td>\n",
       "      <td>25</td>\n",
       "    </tr>\n",
       "    <tr>\n",
       "      <th>2</th>\n",
       "      <td>2</td>\n",
       "      <td>( orient Purple )</td>\n",
       "      <td>1</td>\n",
       "      <td>0.993542</td>\n",
       "      <td>5</td>\n",
       "      <td>25</td>\n",
       "    </tr>\n",
       "    <tr>\n",
       "      <th>3</th>\n",
       "      <td>3</td>\n",
       "      <td>( orient Red )</td>\n",
       "      <td>1</td>\n",
       "      <td>0.993542</td>\n",
       "      <td>5</td>\n",
       "      <td>25</td>\n",
       "    </tr>\n",
       "    <tr>\n",
       "      <th>4</th>\n",
       "      <td>4</td>\n",
       "      <td>( orient Red )</td>\n",
       "      <td>1</td>\n",
       "      <td>0.993542</td>\n",
       "      <td>5</td>\n",
       "      <td>25</td>\n",
       "    </tr>\n",
       "    <tr>\n",
       "      <th>...</th>\n",
       "      <td>...</td>\n",
       "      <td>...</td>\n",
       "      <td>...</td>\n",
       "      <td>...</td>\n",
       "      <td>...</td>\n",
       "      <td>...</td>\n",
       "    </tr>\n",
       "    <tr>\n",
       "      <th>9445</th>\n",
       "      <td>2695</td>\n",
       "      <td>( == ( orient Red ) V )</td>\n",
       "      <td>18</td>\n",
       "      <td>-0.000000</td>\n",
       "      <td>10</td>\n",
       "      <td>25</td>\n",
       "    </tr>\n",
       "    <tr>\n",
       "      <th>9446</th>\n",
       "      <td>2696</td>\n",
       "      <td>( orient Blue )</td>\n",
       "      <td>18</td>\n",
       "      <td>-0.000000</td>\n",
       "      <td>10</td>\n",
       "      <td>25</td>\n",
       "    </tr>\n",
       "    <tr>\n",
       "      <th>9447</th>\n",
       "      <td>2697</td>\n",
       "      <td>( touch Blue Blue )</td>\n",
       "      <td>18</td>\n",
       "      <td>-0.000000</td>\n",
       "      <td>10</td>\n",
       "      <td>25</td>\n",
       "    </tr>\n",
       "    <tr>\n",
       "      <th>9448</th>\n",
       "      <td>2698</td>\n",
       "      <td>( &gt; ( size Red ) ( rowL ( bottomright ( inters...</td>\n",
       "      <td>18</td>\n",
       "      <td>-0.000000</td>\n",
       "      <td>10</td>\n",
       "      <td>25</td>\n",
       "    </tr>\n",
       "    <tr>\n",
       "      <th>9449</th>\n",
       "      <td>2699</td>\n",
       "      <td>( touch Red Blue )</td>\n",
       "      <td>18</td>\n",
       "      <td>-0.000000</td>\n",
       "      <td>10</td>\n",
       "      <td>25</td>\n",
       "    </tr>\n",
       "  </tbody>\n",
       "</table>\n",
       "<p>9450 rows × 6 columns</p>\n",
       "</div>"
      ],
      "text/plain": [
       "      Unnamed: 0                                            program  board_id  \\\n",
       "0              0                       ( and ( == H V ) ( < 1 7 ) )         1   \n",
       "1              1                                       ( color 5D )         1   \n",
       "2              2                                  ( orient Purple )         1   \n",
       "3              3                                     ( orient Red )         1   \n",
       "4              4                                     ( orient Red )         1   \n",
       "...          ...                                                ...       ...   \n",
       "9445        2695                            ( == ( orient Red ) V )        18   \n",
       "9446        2696                                    ( orient Blue )        18   \n",
       "9447        2697                                ( touch Blue Blue )        18   \n",
       "9448        2698  ( > ( size Red ) ( rowL ( bottomright ( inters...        18   \n",
       "9449        2699                                 ( touch Red Blue )        18   \n",
       "\n",
       "         score  max_depth  sample_length  \n",
       "0    -0.000000          5             25  \n",
       "1    -0.000000          5             25  \n",
       "2     0.993542          5             25  \n",
       "3     0.993542          5             25  \n",
       "4     0.993542          5             25  \n",
       "...        ...        ...            ...  \n",
       "9445 -0.000000         10             25  \n",
       "9446 -0.000000         10             25  \n",
       "9447 -0.000000         10             25  \n",
       "9448 -0.000000         10             25  \n",
       "9449 -0.000000         10             25  \n",
       "\n",
       "[9450 rows x 6 columns]"
      ]
     },
     "execution_count": 17,
     "metadata": {},
     "output_type": "execute_result"
    }
   ],
   "source": [
    "df = pd.read_csv(\"enumData.csv\")"
   ]
  },
  {
   "cell_type": "code",
   "execution_count": 30,
   "metadata": {},
   "outputs": [
    {
     "data": {
      "image/png": "[encoded data removed]",
      "text/plain": [
       "<Figure size 640x480 with 1 Axes>"
      ]
     },
     "metadata": {},
     "output_type": "display_data"
    },
    {
     "data": {
      "text/plain": [
       "(array([ 12., 114.,  72., 132., 420., 192.,  36.,  42.,  54.,  12.]),\n",
       " array([0.112999 , 0.2896532, 0.4663074, 0.6429616, 0.8196158, 0.99627  ,\n",
       "        1.1729242, 1.3495784, 1.5262326, 1.7028868, 1.879541 ]),\n",
       " <BarContainer object of 10 artists>)"
      ]
     },
     "execution_count": 30,
     "metadata": {},
     "output_type": "execute_result"
    },
    {
     "data": {
      "image/png": "[encoded data removed]",
      "text/plain": [
       "<Figure size 640x480 with 1 Axes>"
      ]
     },
     "metadata": {},
     "output_type": "display_data"
    }
   ],
   "source": [
    "sample_length, depth = 25, 5\n",
    "\n",
    "df = pd.read_csv(\"enumData.csv\")\n",
    "scores = df[df[\"sample_length\"] == sample_length][df[\"max_depth\"] == depth][\"score\"].to_list()\n",
    "\n",
    "plt.xlabel(\"EIG (Shannons)\")\n",
    "plt.ylabel(\"Frequency\")\n",
    "plt.title(f\"{sample_length}-shot sampling, depth {depth}\")\n",
    "plt.hist([scores])\n",
    "plt.show()\n",
    "plt.xlabel(\"EIG (Shannons)\")\n",
    "plt.ylabel(\"Frequency\")\n",
    "plt.title(f\"{sample_length}-shot sampling, depth {depth} (Filtered)\")\n",
    "plt.hist([i for i in scores if i > 0])"
   ]
  }
 ],
 "metadata": {
  "kernelspec": {
   "display_name": "python311",
   "language": "python",
   "name": "python3"
  },
  "language_info": {
   "codemirror_mode": {
    "name": "ipython",
    "version": 3
   },
   "file_extension": ".py",
   "mimetype": "text/x-python",
   "name": "python",
   "nbconvert_exporter": "python",
   "pygments_lexer": "ipython3",
   "version": "3.11.4"
  }
 },
 "nbformat": 4,
 "nbformat_minor": 2
}
